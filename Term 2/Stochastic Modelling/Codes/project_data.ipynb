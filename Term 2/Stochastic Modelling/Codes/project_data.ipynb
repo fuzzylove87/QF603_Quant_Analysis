{
 "cells": [
  {
   "cell_type": "markdown",
   "metadata": {},
   "source": [
    "In this note we will take a look at the data provided for the Stochastic Modelling project. \n",
    "\n",
    "We take today to be 30-Aug-2013, and the expiry date of the options is 17-Jan-2015.\n",
    "\n",
    "We can calculate the time-to-maturity $T$ in Python as follows:"
   ]
  },
  {
   "cell_type": "code",
   "execution_count": 2,
   "metadata": {},
   "outputs": [],
   "source": [
    "import datetime as dt\n",
    "\n",
    "today = dt.date(2013, 8, 30)\n",
    "expiry = dt.date(2015, 1, 17)\n",
    "T = (expiry-today).days/365.0"
   ]
  },
  {
   "cell_type": "markdown",
   "metadata": {},
   "source": [
    "\n",
    "The file \"discount.csv\" contains information about the \"zero rates\" to be used for discounting.\n"
   ]
  },
  {
   "cell_type": "code",
   "execution_count": 4,
   "metadata": {},
   "outputs": [
    {
     "data": {
      "text/html": [
       "<div>\n",
       "<style scoped>\n",
       "    .dataframe tbody tr th:only-of-type {\n",
       "        vertical-align: middle;\n",
       "    }\n",
       "\n",
       "    .dataframe tbody tr th {\n",
       "        vertical-align: top;\n",
       "    }\n",
       "\n",
       "    .dataframe thead th {\n",
       "        text-align: right;\n",
       "    }\n",
       "</style>\n",
       "<table border=\"1\" class=\"dataframe\">\n",
       "  <thead>\n",
       "    <tr style=\"text-align: right;\">\n",
       "      <th></th>\n",
       "      <th>Day</th>\n",
       "      <th>Rate (%)</th>\n",
       "    </tr>\n",
       "  </thead>\n",
       "  <tbody>\n",
       "    <tr>\n",
       "      <th>0</th>\n",
       "      <td>7</td>\n",
       "      <td>0.14981</td>\n",
       "    </tr>\n",
       "    <tr>\n",
       "      <th>1</th>\n",
       "      <td>14</td>\n",
       "      <td>0.17250</td>\n",
       "    </tr>\n",
       "    <tr>\n",
       "      <th>2</th>\n",
       "      <td>19</td>\n",
       "      <td>0.17595</td>\n",
       "    </tr>\n",
       "    <tr>\n",
       "      <th>3</th>\n",
       "      <td>47</td>\n",
       "      <td>0.23118</td>\n",
       "    </tr>\n",
       "    <tr>\n",
       "      <th>4</th>\n",
       "      <td>82</td>\n",
       "      <td>0.25150</td>\n",
       "    </tr>\n",
       "  </tbody>\n",
       "</table>\n",
       "</div>"
      ],
      "text/plain": [
       "   Day  Rate (%)\n",
       "0    7   0.14981\n",
       "1   14   0.17250\n",
       "2   19   0.17595\n",
       "3   47   0.23118\n",
       "4   82   0.25150"
      ]
     },
     "execution_count": 4,
     "metadata": {},
     "output_type": "execute_result"
    }
   ],
   "source": [
    "import pandas\n",
    "\n",
    "rate_df = pandas.read_csv('discount.csv')\n",
    "rate_df.head()"
   ]
  },
  {
   "cell_type": "code",
   "execution_count": 5,
   "metadata": {},
   "outputs": [
    {
     "data": {
      "text/html": [
       "<div>\n",
       "<style scoped>\n",
       "    .dataframe tbody tr th:only-of-type {\n",
       "        vertical-align: middle;\n",
       "    }\n",
       "\n",
       "    .dataframe tbody tr th {\n",
       "        vertical-align: top;\n",
       "    }\n",
       "\n",
       "    .dataframe thead th {\n",
       "        text-align: right;\n",
       "    }\n",
       "</style>\n",
       "<table border=\"1\" class=\"dataframe\">\n",
       "  <thead>\n",
       "    <tr style=\"text-align: right;\">\n",
       "      <th></th>\n",
       "      <th>Day</th>\n",
       "      <th>Rate (%)</th>\n",
       "    </tr>\n",
       "  </thead>\n",
       "  <tbody>\n",
       "    <tr>\n",
       "      <th>41</th>\n",
       "      <td>3211</td>\n",
       "      <td>3.02904</td>\n",
       "    </tr>\n",
       "    <tr>\n",
       "      <th>42</th>\n",
       "      <td>3309</td>\n",
       "      <td>3.08490</td>\n",
       "    </tr>\n",
       "    <tr>\n",
       "      <th>43</th>\n",
       "      <td>3400</td>\n",
       "      <td>3.13462</td>\n",
       "    </tr>\n",
       "    <tr>\n",
       "      <th>44</th>\n",
       "      <td>3484</td>\n",
       "      <td>3.17912</td>\n",
       "    </tr>\n",
       "    <tr>\n",
       "      <th>45</th>\n",
       "      <td>3582</td>\n",
       "      <td>3.22880</td>\n",
       "    </tr>\n",
       "  </tbody>\n",
       "</table>\n",
       "</div>"
      ],
      "text/plain": [
       "     Day  Rate (%)\n",
       "41  3211   3.02904\n",
       "42  3309   3.08490\n",
       "43  3400   3.13462\n",
       "44  3484   3.17912\n",
       "45  3582   3.22880"
      ]
     },
     "execution_count": 5,
     "metadata": {},
     "output_type": "execute_result"
    }
   ],
   "source": [
    "rate_df.tail()"
   ]
  },
  {
   "cell_type": "markdown",
   "metadata": {},
   "source": [
    "For instance, to discount a cashflow paid 3400 days from today, the discount factor is\n",
    "\n",
    "\\begin{equation*}\n",
    "\\begin{split}\n",
    "D(0,T) = e^{-0.0313462 \\times \\frac{3400}{365}}\n",
    "\\end{split}\n",
    "\\end{equation*}\n"
   ]
  },
  {
   "cell_type": "markdown",
   "metadata": {},
   "source": [
    "\n",
    "If the payment date is not provided in the dataframe, you can interpolate for the zero rate.\n",
    "\n",
    "The files \"goog_call.csv\" and \"goog_put.csv\" contain the best bid and offer prices of calls and puts on Google stock across a wide range of strikes. For the purpose of this project, we can assume that these are European options."
   ]
  },
  {
   "cell_type": "code",
   "execution_count": 7,
   "metadata": {},
   "outputs": [
    {
     "data": {
      "text/html": [
       "<div>\n",
       "<style scoped>\n",
       "    .dataframe tbody tr th:only-of-type {\n",
       "        vertical-align: middle;\n",
       "    }\n",
       "\n",
       "    .dataframe tbody tr th {\n",
       "        vertical-align: top;\n",
       "    }\n",
       "\n",
       "    .dataframe thead th {\n",
       "        text-align: right;\n",
       "    }\n",
       "</style>\n",
       "<table border=\"1\" class=\"dataframe\">\n",
       "  <thead>\n",
       "    <tr style=\"text-align: right;\">\n",
       "      <th></th>\n",
       "      <th>date</th>\n",
       "      <th>expiry</th>\n",
       "      <th>strike</th>\n",
       "      <th>best_bid</th>\n",
       "      <th>best_offer</th>\n",
       "    </tr>\n",
       "  </thead>\n",
       "  <tbody>\n",
       "    <tr>\n",
       "      <th>0</th>\n",
       "      <td>20130830</td>\n",
       "      <td>20150117</td>\n",
       "      <td>320.0</td>\n",
       "      <td>525.3</td>\n",
       "      <td>528.8</td>\n",
       "    </tr>\n",
       "    <tr>\n",
       "      <th>1</th>\n",
       "      <td>20130830</td>\n",
       "      <td>20150117</td>\n",
       "      <td>340.0</td>\n",
       "      <td>505.8</td>\n",
       "      <td>509.2</td>\n",
       "    </tr>\n",
       "    <tr>\n",
       "      <th>2</th>\n",
       "      <td>20130830</td>\n",
       "      <td>20150117</td>\n",
       "      <td>350.0</td>\n",
       "      <td>496.0</td>\n",
       "      <td>499.2</td>\n",
       "    </tr>\n",
       "    <tr>\n",
       "      <th>3</th>\n",
       "      <td>20130830</td>\n",
       "      <td>20150117</td>\n",
       "      <td>360.0</td>\n",
       "      <td>486.3</td>\n",
       "      <td>489.4</td>\n",
       "    </tr>\n",
       "    <tr>\n",
       "      <th>4</th>\n",
       "      <td>20130830</td>\n",
       "      <td>20150117</td>\n",
       "      <td>370.0</td>\n",
       "      <td>476.5</td>\n",
       "      <td>479.7</td>\n",
       "    </tr>\n",
       "  </tbody>\n",
       "</table>\n",
       "</div>"
      ],
      "text/plain": [
       "       date    expiry  strike  best_bid  best_offer\n",
       "0  20130830  20150117   320.0     525.3       528.8\n",
       "1  20130830  20150117   340.0     505.8       509.2\n",
       "2  20130830  20150117   350.0     496.0       499.2\n",
       "3  20130830  20150117   360.0     486.3       489.4\n",
       "4  20130830  20150117   370.0     476.5       479.7"
      ]
     },
     "execution_count": 7,
     "metadata": {},
     "output_type": "execute_result"
    }
   ],
   "source": [
    "call_df = pandas.read_csv(\"goog_call.csv\")\n",
    "call_df.head()"
   ]
  },
  {
   "cell_type": "code",
   "execution_count": 8,
   "metadata": {},
   "outputs": [
    {
     "data": {
      "text/html": [
       "<div>\n",
       "<style scoped>\n",
       "    .dataframe tbody tr th:only-of-type {\n",
       "        vertical-align: middle;\n",
       "    }\n",
       "\n",
       "    .dataframe tbody tr th {\n",
       "        vertical-align: top;\n",
       "    }\n",
       "\n",
       "    .dataframe thead th {\n",
       "        text-align: right;\n",
       "    }\n",
       "</style>\n",
       "<table border=\"1\" class=\"dataframe\">\n",
       "  <thead>\n",
       "    <tr style=\"text-align: right;\">\n",
       "      <th></th>\n",
       "      <th>date</th>\n",
       "      <th>expiry</th>\n",
       "      <th>strike</th>\n",
       "      <th>best_bid</th>\n",
       "      <th>best_offer</th>\n",
       "    </tr>\n",
       "  </thead>\n",
       "  <tbody>\n",
       "    <tr>\n",
       "      <th>0</th>\n",
       "      <td>20130830</td>\n",
       "      <td>20150117</td>\n",
       "      <td>320.0</td>\n",
       "      <td>0.90</td>\n",
       "      <td>2.00</td>\n",
       "    </tr>\n",
       "    <tr>\n",
       "      <th>1</th>\n",
       "      <td>20130830</td>\n",
       "      <td>20150117</td>\n",
       "      <td>340.0</td>\n",
       "      <td>0.15</td>\n",
       "      <td>2.30</td>\n",
       "    </tr>\n",
       "    <tr>\n",
       "      <th>2</th>\n",
       "      <td>20130830</td>\n",
       "      <td>20150117</td>\n",
       "      <td>350.0</td>\n",
       "      <td>0.80</td>\n",
       "      <td>2.45</td>\n",
       "    </tr>\n",
       "    <tr>\n",
       "      <th>3</th>\n",
       "      <td>20130830</td>\n",
       "      <td>20150117</td>\n",
       "      <td>360.0</td>\n",
       "      <td>0.60</td>\n",
       "      <td>2.65</td>\n",
       "    </tr>\n",
       "    <tr>\n",
       "      <th>4</th>\n",
       "      <td>20130830</td>\n",
       "      <td>20150117</td>\n",
       "      <td>370.0</td>\n",
       "      <td>0.65</td>\n",
       "      <td>2.85</td>\n",
       "    </tr>\n",
       "  </tbody>\n",
       "</table>\n",
       "</div>"
      ],
      "text/plain": [
       "       date    expiry  strike  best_bid  best_offer\n",
       "0  20130830  20150117   320.0      0.90        2.00\n",
       "1  20130830  20150117   340.0      0.15        2.30\n",
       "2  20130830  20150117   350.0      0.80        2.45\n",
       "3  20130830  20150117   360.0      0.60        2.65\n",
       "4  20130830  20150117   370.0      0.65        2.85"
      ]
     },
     "execution_count": 8,
     "metadata": {},
     "output_type": "execute_result"
    }
   ],
   "source": [
    "put_df = pandas.read_csv(\"goog_put.csv\")\n",
    "put_df.head()"
   ]
  },
  {
   "cell_type": "markdown",
   "metadata": {},
   "source": [
    "For each strike, the mid price is calculated as\n",
    "\n",
    "\\begin{equation*}\n",
    "\\begin{split}\n",
    "\\mbox{Mid Price} = \\frac{\\mbox{Best Bid} + \\mbox{Best Ask}}{2}\n",
    "\\end{split}\n",
    "\\end{equation*}\n",
    "\n",
    "Next, we also need to calculate the forward price\n",
    "\n",
    "\\begin{equation*}\n",
    "\\begin{split}\n",
    "F = S_0 e^{rT}\n",
    "\\end{split}\n",
    "\\end{equation*}\n",
    "\n",
    "From the data provided, we know that the closing price for Google stock on 30-Aug-2013 is $846.9\n",
    "\n",
    "Based on the $r$ and $T$ value we have calculated, we can calculate the forward value $F$.\n",
    "\n",
    "There is very limited liquidity on the in-the-money options -- market tends to trade at-the-money or out-of-the-money options.\n",
    "\n",
    "This means that we should focus on:\n",
    "- High strikes calls ($K \\geq F$)\n",
    "- Low strikes puts ($K \\leq F$)\n",
    "\n",
    "You should then be able to plot the implied volatilities:\n",
    "\n",
    "<img src=\"s7mkt.png\" alt=\"Drawing\" style=\"width: 500px;\" align=\"middle\"/>"
   ]
  }
 ],
 "metadata": {
  "kernelspec": {
   "display_name": "Python 3",
   "language": "python",
   "name": "python3"
  },
  "language_info": {
   "codemirror_mode": {
    "name": "ipython",
    "version": 3
   },
   "file_extension": ".py",
   "mimetype": "text/x-python",
   "name": "python",
   "nbconvert_exporter": "python",
   "pygments_lexer": "ipython3",
   "version": "3.6.5"
  }
 },
 "nbformat": 4,
 "nbformat_minor": 2
}
