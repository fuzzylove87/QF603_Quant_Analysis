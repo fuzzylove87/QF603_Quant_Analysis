{
 "cells": [
  {
   "cell_type": "markdown",
   "metadata": {},
   "source": [
    "In this notebook we explain how do we generate the volatility smile plot. \n",
    "\n",
    "At-the-money (ATM) options are the most liquid - we will look for the option with the strike price ($K$) closest to the forward value $F$, and treat this as the ATM option.\n",
    "\n",
    "In an earlier notebook, we have covered how to compute implied volatility for a given option price.\n",
    "\n",
    "Suppose $S=100$, $r=0.05$, $T=1.0$, and suppose the ATM volatility is $\\sigma=0.2$. "
   ]
  },
  {
   "cell_type": "code",
   "execution_count": 12,
   "metadata": {},
   "outputs": [
    {
     "data": {
      "image/png": "[encoded data removed]",
      "text/plain": [
       "<Figure size 432x288 with 1 Axes>"
      ]
     },
     "metadata": {},
     "output_type": "display_data"
    }
   ],
   "source": [
    "import pandas\n",
    "import numpy as np\n",
    "from scipy.stats import norm\n",
    "from scipy.optimize import brentq\n",
    "import matplotlib.pylab as plt\n",
    "\n",
    "\n",
    "def BlackScholesCall(S, K, r, sigma, T):\n",
    "    d1 = (np.log(S/K)+(r+sigma**2/2)*T) / (sigma*np.sqrt(T))\n",
    "    d2 = d1 - sigma*np.sqrt(T)\n",
    "    return S*norm.cdf(d1) - K*np.exp(-r*T)*norm.cdf(d2)\n",
    "\n",
    "\n",
    "def impliedCallVolatility(S, K, r, price, T):\n",
    "    impliedVol = brentq(lambda x: price -\n",
    "                        BlackScholesCall(S, K, r, x, T),\n",
    "                        1e-6, 1)\n",
    "\n",
    "    return impliedVol\n",
    "\n",
    "\n",
    "S = 100\n",
    "r = 0.05\n",
    "T = 1.0\n",
    "sigma = 0.2\n",
    "F = S*np.exp(r*T)\n",
    "strikes = np.linspace(50, 150, 100)\n",
    "\n",
    "summary = []\n",
    "for K in strikes:\n",
    "    price = BlackScholesCall(S, K, r, sigma, T)\n",
    "    impliedvol = impliedCallVolatility(S, K, r, price, T)\n",
    "    summary.append([K, impliedvol])\n",
    "\n",
    "df = pandas.DataFrame(summary, columns=['strike', 'vol'])\n",
    "plt.plot(df['strike'], df['vol'], linewidth=2.0)\n",
    "plt.axis([30, 170, 0, 0.5])\n",
    "plt.xlabel('Strikes')\n",
    "plt.ylabel('Implied lognormal volatility')\n",
    "plt.show()\n"
   ]
  },
  {
   "cell_type": "markdown",
   "metadata": {},
   "source": [
    "To plot the implied volatility smile for the normal (Bachelier) model, just replaced the \"BlackScholesCall\" with the Bachelier formula.\n",
    "\n",
    "Next, we look at the SABR model. The program \"sabr.py\" contains the function\n",
    "\n",
    "\\begin{equation*}\n",
    "\\begin{split}\n",
    "\\mbox{SABR}(F, K, T, \\alpha, \\beta, \\rho, \\nu)\n",
    "\\end{split}\n",
    "\\end{equation*}\n",
    "\n",
    "The function returns a volatility $\\sigma_{\\mbox{SABR}}$ for the Black76Lognormal call or put option formula, so that\n",
    "\n",
    "\\begin{equation*}\n",
    "\\begin{split}\n",
    "\\mbox{Call price} &= \\mbox{BlackScholesCall}(S, K, r, \\sigma_{\\mbox{SABR}}, T) \\\\\n",
    "\\mbox{Put price} &= \\mbox{BlackScholesPut}(S, K, r, \\sigma_{\\mbox{SABR}}, T) \\\\\n",
    "\\end{split}\n",
    "\\end{equation*}\n",
    "\n",
    "How do we determine the parameters $\\alpha$, $\\rho$ and $\\nu$?\n",
    "- We choose them so that the output of the SABR model matches the implied volatilities observed in the market.\n",
    "- We refer to this process as \"model calibration\".\n",
    "\n",
    "In other words, defining\n",
    "\n",
    "  \\begin{equation*}\n",
    "    \\begin{split}\n",
    "      \\sigma_{\\mbox{Mkt}}(K_1) - \\mbox{SABR}(F, K_1, T, \\alpha, 0.5, \\rho, \\nu) &= \\epsilon_1 \\\\\n",
    "      \\sigma_{\\mbox{Mkt}}(K_2) - \\mbox{SABR}(F, K_2, T, \\alpha, 0.5, \\rho, \\nu) &= \\epsilon_2 \\\\\n",
    "      \\vdots&\\\\\n",
    "      \\sigma_{\\mbox{Mkt}}(K_n) - \\mbox{SABR}(F, K_n, T, \\alpha, 0.5, \\rho, \\nu) &= \\epsilon_n \\\\\n",
    "    \\end{split}\n",
    "  \\end{equation*}\n",
    "\n",
    "We want to minimize the sum of squared error terms as follows:\n",
    "  \n",
    "  \\begin{equation*}\n",
    "    \\begin{split}\n",
    "      \\min_{\\substack{\\alpha,\\; \\rho,\\; \\nu}} \\;\\sum_{i=1}^n \\epsilon_i^2\n",
    "    \\end{split}\n",
    "  \\end{equation*}\n",
    "\n",
    "We use the \"least_squares\" algorithm in \"scipy\" package to calibrate the SABR model parameters:\n"
   ]
  },
  {
   "cell_type": "code",
   "execution_count": null,
   "metadata": {},
   "outputs": [],
   "source": [
    "from scipy.optimize import least_squares\n",
    "\n",
    "\n",
    "def sabrcalibration(x, strikes, vols, F, T):\n",
    "    err = 0.0\n",
    "    for i, vol in enumerate(vols):\n",
    "        err += (vol - SABR(F, strikes[i], T,\n",
    "                           x[0], 0.5, x[1], x[2]))**2\n",
    "\n",
    "    return err\n",
    "\n",
    "\n",
    "initialGuess = [0.02, 0.2, 0.1]\n",
    "res = least_squares(lambda x: sabrcalibration(x,\n",
    "                                              df['strike'].values,\n",
    "                                              df['impliedvol'].values,\n",
    "                                              F,\n",
    "                                              T),\n",
    "                    initialGuess)\n",
    "alpha = res.x[0]\n",
    "beta = 0.8\n",
    "rho = res.x[1]\n",
    "nu = res.x[2]\n"
   ]
  }
 ],
 "metadata": {
  "kernelspec": {
   "display_name": "Python 3",
   "language": "python",
   "name": "python3"
  },
  "language_info": {
   "codemirror_mode": {
    "name": "ipython",
    "version": 3
   },
   "file_extension": ".py",
   "mimetype": "text/x-python",
   "name": "python",
   "nbconvert_exporter": "python",
   "pygments_lexer": "ipython3",
   "version": "3.6.6"
  }
 },
 "nbformat": 4,
 "nbformat_minor": 2
}
