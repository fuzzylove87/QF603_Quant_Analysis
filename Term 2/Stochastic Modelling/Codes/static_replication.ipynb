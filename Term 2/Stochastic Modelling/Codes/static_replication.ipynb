{
 "cells": [
  {
   "cell_type": "markdown",
   "metadata": {},
   "source": [
    "For any twice-differentiable payoff $h(S_T)$, Breeden-Litzenberger states that\n",
    "\n",
    "\\begin{equation*}\n",
    "    \\begin{split}\n",
    "      V_0 = e^{-rT}h(F) &+ h'(F)(C(F)-P(F)) \\\\\n",
    "      &+ \\underbrace{\\int_0^{F}h''(K)P(K)\\;dK}_{\\mbox{put integral}} + \\underbrace{\\int_{F}^{\\infty}h''(K)C(K)\\;dK}_{\\mbox{call integral}}\\\\\n",
    "    \\end{split}\n",
    "\\end{equation*}\n",
    "\n",
    "  \n",
    "To implement Breeden-Litzenberger formula (or static replication in general) in Python, we need to be able to handle numerical integration for the put/call integrals.\n",
    "\n",
    "We need to use numerical integration to evaluate the formula. This can be done in Python easily. For example, consider the integral\n",
    "\n",
    "\\begin{equation*}\n",
    "    \\begin{split}\n",
    "      \\int_0^1 x^2 \\; dx = \\frac{1}{3}\n",
    "    \\end{split}\n",
    "\\end{equation*}\n",
    "\n",
    "We can evaluate it in Python as follows:"
   ]
  },
  {
   "cell_type": "code",
   "execution_count": 5,
   "metadata": {},
   "outputs": [
    {
     "name": "stdout",
     "output_type": "stream",
     "text": [
      "The integral is: 0.333333333\n"
     ]
    }
   ],
   "source": [
    "from scipy.integrate import quad\n",
    "\n",
    "\n",
    "def integrand(x):\n",
    "    return x**2\n",
    "\n",
    "\n",
    "I = quad(integrand, 0.0, 1.0)\n",
    "print('The integral is: %.9f' % I[0])\n"
   ]
  },
  {
   "cell_type": "markdown",
   "metadata": {},
   "source": [
    "We can test our static replication implementation with\n",
    "\n",
    "\\begin{equation*}\n",
    "\\begin{split}\n",
    "    \\mathbb{E}\\left[\\int_0^T\\sigma_t^2 \\;dt\\right] = 2e^{rT} \\left(\\int_0^{F}\\frac{P(K)}{K^2}\\;dK + \\int_{F}^{\\infty}\\frac{C(K)}{K^2}\\;dK\\right)\n",
    "    \\end{split}\n",
    "\\end{equation*}\n",
    "\n",
    "Suppose we assume that market is following Black76 model, then we have"
   ]
  },
  {
   "cell_type": "code",
   "execution_count": 14,
   "metadata": {},
   "outputs": [
    {
     "name": "stdout",
     "output_type": "stream",
     "text": [
      "The expected integrated variance is: 0.160000000\n"
     ]
    }
   ],
   "source": [
    "import numpy as np\n",
    "from scipy.stats import norm\n",
    "\n",
    "\n",
    "def BlackScholesCall(S, K, r, sigma, T):\n",
    "    d1 = (np.log(S/K)+(r+sigma**2/2)*T) / (sigma*np.sqrt(T))\n",
    "    d2 = d1 - sigma*np.sqrt(T)\n",
    "    return S*norm.cdf(d1) - K*np.exp(-r*T)*norm.cdf(d2)\n",
    "\n",
    "\n",
    "def BlackScholesPut(S, K, r, sigma, T):\n",
    "    return BlackScholesCall(S, K, r, sigma, T) - S + K*np.exp(-r*T)\n",
    "\n",
    "\n",
    "def callintegrand(K, S, r, T, sigma):\n",
    "    price = BlackScholesCall(S, K, r, sigma, T) / K**2\n",
    "    return price\n",
    "\n",
    "\n",
    "def putintegrand(K, S, r, T, sigma):\n",
    "    price = BlackScholesPut(S, K, r, sigma, T) / K**2\n",
    "    return price\n",
    "\n",
    "\n",
    "S = 100.0\n",
    "r = 0.05\n",
    "T = 1.0\n",
    "sigma = 0.4\n",
    "F = S * np.exp(r*T)\n",
    "I_put = quad(lambda x: putintegrand(x, S, r, T, sigma), 0.0, F)\n",
    "I_call = quad(lambda x: callintegrand(x, S, r, T, sigma), F, 5000)\n",
    "E_var = 2*np.exp(r*T)*(I_put[0] + I_call[0])\n",
    "print('The expected integrated variance is: %.9f' % E_var)\n"
   ]
  },
  {
   "cell_type": "markdown",
   "metadata": {},
   "source": [
    "Since we are using Black76 model in the above, we can cross-check our implementation with the integrated variance based on Black76 model, since under Black76 (or Black-Scholes) model, volatility is deterministic.\n",
    "  \n",
    "Hence we have\n",
    "\\begin{equation*}\n",
    "  \\begin{split}\n",
    "    \\mathbb{E}\\left[ \\int_0^T \\sigma_t^2 \\; dt \\right] &= \\int_0^T \\sigma^2 \\; dt \\\\\n",
    "    &= \\sigma^2T\n",
    "  \\end{split}\n",
    "\\end{equation*}\n",
    "\n",
    "So for instance if $\\sigma=0.4$ and $T=1$, then the integrated variance should be $\\sigma^2T = 0.16$.\n",
    "\n",
    "Once tested, we should replace BlackScholes with SABR model in order to accurately capture the implied volatility smiile/skew in the option market."
   ]
  }
 ],
 "metadata": {
  "kernelspec": {
   "display_name": "Python 3",
   "language": "python",
   "name": "python3"
  },
  "language_info": {
   "codemirror_mode": {
    "name": "ipython",
    "version": 3
   },
   "file_extension": ".py",
   "mimetype": "text/x-python",
   "name": "python",
   "nbconvert_exporter": "python",
   "pygments_lexer": "ipython3",
   "version": "3.6.6"
  }
 },
 "nbformat": 4,
 "nbformat_minor": 2
}
