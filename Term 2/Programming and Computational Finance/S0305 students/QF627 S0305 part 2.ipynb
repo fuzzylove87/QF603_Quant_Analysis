{
 "cells": [
  {
   "cell_type": "markdown",
   "metadata": {},
   "source": [
    "#### HT001: Use one command to import data from a CSV file, `HT001a.csv`, using the first row as column labels, and the first column as row labels. Name the data imported as `data`."
   ]
  },
  {
   "cell_type": "code",
   "execution_count": 1,
   "metadata": {},
   "outputs": [
    {
     "data": {
      "text/html": [
       "<div>\n",
       "<style scoped>\n",
       "    .dataframe tbody tr th:only-of-type {\n",
       "        vertical-align: middle;\n",
       "    }\n",
       "\n",
       "    .dataframe tbody tr th {\n",
       "        vertical-align: top;\n",
       "    }\n",
       "\n",
       "    .dataframe thead th {\n",
       "        text-align: right;\n",
       "    }\n",
       "</style>\n",
       "<table border=\"1\" class=\"dataframe\">\n",
       "  <thead>\n",
       "    <tr style=\"text-align: right;\">\n",
       "      <th></th>\n",
       "      <th>b</th>\n",
       "      <th>c</th>\n",
       "      <th>d</th>\n",
       "      <th>e</th>\n",
       "    </tr>\n",
       "    <tr>\n",
       "      <th>a</th>\n",
       "      <th></th>\n",
       "      <th></th>\n",
       "      <th></th>\n",
       "      <th></th>\n",
       "    </tr>\n",
       "  </thead>\n",
       "  <tbody>\n",
       "    <tr>\n",
       "      <th>0</th>\n",
       "      <td>1</td>\n",
       "      <td>2</td>\n",
       "      <td>3</td>\n",
       "      <td>4</td>\n",
       "    </tr>\n",
       "    <tr>\n",
       "      <th>1</th>\n",
       "      <td>5</td>\n",
       "      <td>6</td>\n",
       "      <td>7</td>\n",
       "      <td>8</td>\n",
       "    </tr>\n",
       "    <tr>\n",
       "      <th>2</th>\n",
       "      <td>9</td>\n",
       "      <td>8</td>\n",
       "      <td>7</td>\n",
       "      <td>6</td>\n",
       "    </tr>\n",
       "    <tr>\n",
       "      <th>3</th>\n",
       "      <td>5</td>\n",
       "      <td>4</td>\n",
       "      <td>3</td>\n",
       "      <td>2</td>\n",
       "    </tr>\n",
       "  </tbody>\n",
       "</table>\n",
       "</div>"
      ],
      "text/plain": [
       "   b  c  d  e\n",
       "a            \n",
       "0  1  2  3  4\n",
       "1  5  6  7  8\n",
       "2  9  8  7  6\n",
       "3  5  4  3  2"
      ]
     },
     "execution_count": 1,
     "metadata": {},
     "output_type": "execute_result"
    }
   ],
   "source": [
    "# slide 169\n",
    "import pandas as pd\n",
    "data=pd.read_csv('HT001a.csv', index_col=0, header=0)\n",
    "data"
   ]
  },
  {
   "cell_type": "code",
   "execution_count": 2,
   "metadata": {},
   "outputs": [
    {
     "data": {
      "text/html": [
       "<div>\n",
       "<style scoped>\n",
       "    .dataframe tbody tr th:only-of-type {\n",
       "        vertical-align: middle;\n",
       "    }\n",
       "\n",
       "    .dataframe tbody tr th {\n",
       "        vertical-align: top;\n",
       "    }\n",
       "\n",
       "    .dataframe thead th {\n",
       "        text-align: right;\n",
       "    }\n",
       "</style>\n",
       "<table border=\"1\" class=\"dataframe\">\n",
       "  <thead>\n",
       "    <tr style=\"text-align: right;\">\n",
       "      <th></th>\n",
       "      <th>a</th>\n",
       "      <th>b</th>\n",
       "      <th>c</th>\n",
       "      <th>d</th>\n",
       "      <th>e</th>\n",
       "    </tr>\n",
       "  </thead>\n",
       "  <tbody>\n",
       "    <tr>\n",
       "      <th>0</th>\n",
       "      <td>0</td>\n",
       "      <td>1</td>\n",
       "      <td>2</td>\n",
       "      <td>3</td>\n",
       "      <td>4</td>\n",
       "    </tr>\n",
       "    <tr>\n",
       "      <th>1</th>\n",
       "      <td>1</td>\n",
       "      <td>5</td>\n",
       "      <td>6</td>\n",
       "      <td>7</td>\n",
       "      <td>8</td>\n",
       "    </tr>\n",
       "    <tr>\n",
       "      <th>2</th>\n",
       "      <td>2</td>\n",
       "      <td>9</td>\n",
       "      <td>8</td>\n",
       "      <td>7</td>\n",
       "      <td>6</td>\n",
       "    </tr>\n",
       "    <tr>\n",
       "      <th>3</th>\n",
       "      <td>3</td>\n",
       "      <td>5</td>\n",
       "      <td>4</td>\n",
       "      <td>3</td>\n",
       "      <td>2</td>\n",
       "    </tr>\n",
       "  </tbody>\n",
       "</table>\n",
       "</div>"
      ],
      "text/plain": [
       "   a  b  c  d  e\n",
       "0  0  1  2  3  4\n",
       "1  1  5  6  7  8\n",
       "2  2  9  8  7  6\n",
       "3  3  5  4  3  2"
      ]
     },
     "execution_count": 2,
     "metadata": {},
     "output_type": "execute_result"
    }
   ],
   "source": [
    "# slide 171\n",
    "# What if the file is newfolder\\newfile.csv?\n",
    "# Windows (1)\n",
    "data=pd.read_csv('newfolder\\\\newfile.csv')\n",
    "data"
   ]
  },
  {
   "cell_type": "code",
   "execution_count": 3,
   "metadata": {},
   "outputs": [
    {
     "data": {
      "text/html": [
       "<div>\n",
       "<style scoped>\n",
       "    .dataframe tbody tr th:only-of-type {\n",
       "        vertical-align: middle;\n",
       "    }\n",
       "\n",
       "    .dataframe tbody tr th {\n",
       "        vertical-align: top;\n",
       "    }\n",
       "\n",
       "    .dataframe thead th {\n",
       "        text-align: right;\n",
       "    }\n",
       "</style>\n",
       "<table border=\"1\" class=\"dataframe\">\n",
       "  <thead>\n",
       "    <tr style=\"text-align: right;\">\n",
       "      <th></th>\n",
       "      <th>a</th>\n",
       "      <th>b</th>\n",
       "      <th>c</th>\n",
       "      <th>d</th>\n",
       "      <th>e</th>\n",
       "    </tr>\n",
       "  </thead>\n",
       "  <tbody>\n",
       "    <tr>\n",
       "      <th>0</th>\n",
       "      <td>0</td>\n",
       "      <td>1</td>\n",
       "      <td>2</td>\n",
       "      <td>3</td>\n",
       "      <td>4</td>\n",
       "    </tr>\n",
       "    <tr>\n",
       "      <th>1</th>\n",
       "      <td>1</td>\n",
       "      <td>5</td>\n",
       "      <td>6</td>\n",
       "      <td>7</td>\n",
       "      <td>8</td>\n",
       "    </tr>\n",
       "    <tr>\n",
       "      <th>2</th>\n",
       "      <td>2</td>\n",
       "      <td>9</td>\n",
       "      <td>8</td>\n",
       "      <td>7</td>\n",
       "      <td>6</td>\n",
       "    </tr>\n",
       "    <tr>\n",
       "      <th>3</th>\n",
       "      <td>3</td>\n",
       "      <td>5</td>\n",
       "      <td>4</td>\n",
       "      <td>3</td>\n",
       "      <td>2</td>\n",
       "    </tr>\n",
       "  </tbody>\n",
       "</table>\n",
       "</div>"
      ],
      "text/plain": [
       "   a  b  c  d  e\n",
       "0  0  1  2  3  4\n",
       "1  1  5  6  7  8\n",
       "2  2  9  8  7  6\n",
       "3  3  5  4  3  2"
      ]
     },
     "execution_count": 3,
     "metadata": {},
     "output_type": "execute_result"
    }
   ],
   "source": [
    "# slide 171\n",
    "# What if the file is newfolder\\newfile.csv?\n",
    "# Windows (2)\n",
    "data=pd.read_csv(r'newfolder\\newfile.csv')\n",
    "data"
   ]
  },
  {
   "cell_type": "raw",
   "metadata": {},
   "source": [
    "# slide 171\n",
    "# What if the file is newfolder\\newfile.csv?\n",
    "# Mac\n",
    "data=pd.read_csv('newfolder/newfile.csv')\n",
    "data"
   ]
  },
  {
   "cell_type": "code",
   "execution_count": 4,
   "metadata": {},
   "outputs": [
    {
     "data": {
      "text/html": [
       "<div>\n",
       "<style scoped>\n",
       "    .dataframe tbody tr th:only-of-type {\n",
       "        vertical-align: middle;\n",
       "    }\n",
       "\n",
       "    .dataframe tbody tr th {\n",
       "        vertical-align: top;\n",
       "    }\n",
       "\n",
       "    .dataframe thead th {\n",
       "        text-align: right;\n",
       "    }\n",
       "</style>\n",
       "<table border=\"1\" class=\"dataframe\">\n",
       "  <thead>\n",
       "    <tr style=\"text-align: right;\">\n",
       "      <th></th>\n",
       "      <th>b</th>\n",
       "      <th>a.1</th>\n",
       "      <th>d e</th>\n",
       "      <th>1</th>\n",
       "    </tr>\n",
       "    <tr>\n",
       "      <th>a</th>\n",
       "      <th></th>\n",
       "      <th></th>\n",
       "      <th></th>\n",
       "      <th></th>\n",
       "    </tr>\n",
       "  </thead>\n",
       "  <tbody>\n",
       "    <tr>\n",
       "      <th>2</th>\n",
       "      <td>1</td>\n",
       "      <td>2</td>\n",
       "      <td>3</td>\n",
       "      <td>4</td>\n",
       "    </tr>\n",
       "    <tr>\n",
       "      <th>4</th>\n",
       "      <td>5</td>\n",
       "      <td>6</td>\n",
       "      <td>7</td>\n",
       "      <td>8</td>\n",
       "    </tr>\n",
       "    <tr>\n",
       "      <th>3</th>\n",
       "      <td>9</td>\n",
       "      <td>8</td>\n",
       "      <td>7</td>\n",
       "      <td>6</td>\n",
       "    </tr>\n",
       "    <tr>\n",
       "      <th>4</th>\n",
       "      <td>5</td>\n",
       "      <td>4</td>\n",
       "      <td>3</td>\n",
       "      <td>2</td>\n",
       "    </tr>\n",
       "  </tbody>\n",
       "</table>\n",
       "</div>"
      ],
      "text/plain": [
       "   b  a.1  d e  1\n",
       "a                \n",
       "2  1    2    3  4\n",
       "4  5    6    7  8\n",
       "3  9    8    7  6\n",
       "4  5    4    3  2"
      ]
     },
     "execution_count": 4,
     "metadata": {},
     "output_type": "execute_result"
    }
   ],
   "source": [
    "# slide 173\n",
    "# What if the labels are as in HT001b.csv?\n",
    "data=pd.read_csv('HT001b.csv', index_col=0, header=0)\n",
    "data"
   ]
  },
  {
   "cell_type": "code",
   "execution_count": 5,
   "metadata": {},
   "outputs": [
    {
     "data": {
      "text/plain": [
       "Index(['b', 'a.1', 'd e', '1'], dtype='object')"
      ]
     },
     "execution_count": 5,
     "metadata": {},
     "output_type": "execute_result"
    }
   ],
   "source": [
    "# slide 174 (1)\n",
    "data.columns"
   ]
  },
  {
   "cell_type": "code",
   "execution_count": 6,
   "metadata": {},
   "outputs": [
    {
     "data": {
      "text/plain": [
       "Int64Index([2, 4, 3, 4], dtype='int64', name='a')"
      ]
     },
     "execution_count": 6,
     "metadata": {},
     "output_type": "execute_result"
    }
   ],
   "source": [
    "# slide 174 (2)\n",
    "data.index"
   ]
  },
  {
   "cell_type": "markdown",
   "metadata": {},
   "source": [
    "#### HT002: Use an appropriate position-based indexing/slicing method to select data in `data`."
   ]
  },
  {
   "cell_type": "code",
   "execution_count": 7,
   "metadata": {},
   "outputs": [
    {
     "data": {
      "text/plain": [
       "1"
      ]
     },
     "execution_count": 7,
     "metadata": {},
     "output_type": "execute_result"
    }
   ],
   "source": [
    "# slide 175\n",
    "# position-based indexing \n",
    "data.iloc[0,0]"
   ]
  },
  {
   "cell_type": "code",
   "execution_count": 8,
   "metadata": {},
   "outputs": [
    {
     "data": {
      "text/html": [
       "<div>\n",
       "<style scoped>\n",
       "    .dataframe tbody tr th:only-of-type {\n",
       "        vertical-align: middle;\n",
       "    }\n",
       "\n",
       "    .dataframe tbody tr th {\n",
       "        vertical-align: top;\n",
       "    }\n",
       "\n",
       "    .dataframe thead th {\n",
       "        text-align: right;\n",
       "    }\n",
       "</style>\n",
       "<table border=\"1\" class=\"dataframe\">\n",
       "  <thead>\n",
       "    <tr style=\"text-align: right;\">\n",
       "      <th></th>\n",
       "      <th>b</th>\n",
       "      <th>a.1</th>\n",
       "    </tr>\n",
       "    <tr>\n",
       "      <th>a</th>\n",
       "      <th></th>\n",
       "      <th></th>\n",
       "    </tr>\n",
       "  </thead>\n",
       "  <tbody>\n",
       "    <tr>\n",
       "      <th>2</th>\n",
       "      <td>1</td>\n",
       "      <td>2</td>\n",
       "    </tr>\n",
       "    <tr>\n",
       "      <th>4</th>\n",
       "      <td>5</td>\n",
       "      <td>6</td>\n",
       "    </tr>\n",
       "  </tbody>\n",
       "</table>\n",
       "</div>"
      ],
      "text/plain": [
       "   b  a.1\n",
       "a        \n",
       "2  1    2\n",
       "4  5    6"
      ]
     },
     "execution_count": 8,
     "metadata": {},
     "output_type": "execute_result"
    }
   ],
   "source": [
    "# slide 177\n",
    "# position-based slicing (1)\n",
    "data.iloc[0:2,0:2]"
   ]
  },
  {
   "cell_type": "code",
   "execution_count": 9,
   "metadata": {},
   "outputs": [
    {
     "data": {
      "text/plain": [
       "b      1\n",
       "a.1    2\n",
       "d e    3\n",
       "1      4\n",
       "Name: 2, dtype: int64"
      ]
     },
     "execution_count": 9,
     "metadata": {},
     "output_type": "execute_result"
    }
   ],
   "source": [
    "# slide 179\n",
    "# position-based slicing (2)\n",
    "# the 1st row\n",
    "data.iloc[0,:]"
   ]
  },
  {
   "cell_type": "code",
   "execution_count": 10,
   "metadata": {},
   "outputs": [
    {
     "data": {
      "text/plain": [
       "a\n",
       "2    1\n",
       "4    5\n",
       "3    9\n",
       "4    5\n",
       "Name: b, dtype: int64"
      ]
     },
     "execution_count": 10,
     "metadata": {},
     "output_type": "execute_result"
    }
   ],
   "source": [
    "# slide 181\n",
    "# position-based slicing (3)\n",
    "# the 1st column\n",
    "data.iloc[:,0]"
   ]
  },
  {
   "cell_type": "code",
   "execution_count": 11,
   "metadata": {},
   "outputs": [
    {
     "data": {
      "text/plain": [
       "array([[1, 2, 3, 4],\n",
       "       [5, 6, 7, 8],\n",
       "       [9, 8, 7, 6],\n",
       "       [5, 4, 3, 2]], dtype=int64)"
      ]
     },
     "execution_count": 11,
     "metadata": {},
     "output_type": "execute_result"
    }
   ],
   "source": [
    "# slide 183\n",
    "# DataFrame => Numpy 2D ndarray\n",
    "data.values"
   ]
  },
  {
   "cell_type": "code",
   "execution_count": 12,
   "metadata": {},
   "outputs": [
    {
     "data": {
      "text/html": [
       "<div>\n",
       "<style scoped>\n",
       "    .dataframe tbody tr th:only-of-type {\n",
       "        vertical-align: middle;\n",
       "    }\n",
       "\n",
       "    .dataframe tbody tr th {\n",
       "        vertical-align: top;\n",
       "    }\n",
       "\n",
       "    .dataframe thead th {\n",
       "        text-align: right;\n",
       "    }\n",
       "</style>\n",
       "<table border=\"1\" class=\"dataframe\">\n",
       "  <thead>\n",
       "    <tr style=\"text-align: right;\">\n",
       "      <th></th>\n",
       "      <th>b</th>\n",
       "      <th>a.1</th>\n",
       "    </tr>\n",
       "    <tr>\n",
       "      <th>a</th>\n",
       "      <th></th>\n",
       "      <th></th>\n",
       "    </tr>\n",
       "  </thead>\n",
       "  <tbody>\n",
       "    <tr>\n",
       "      <th>3</th>\n",
       "      <td>9</td>\n",
       "      <td>8</td>\n",
       "    </tr>\n",
       "    <tr>\n",
       "      <th>2</th>\n",
       "      <td>1</td>\n",
       "      <td>2</td>\n",
       "    </tr>\n",
       "  </tbody>\n",
       "</table>\n",
       "</div>"
      ],
      "text/plain": [
       "   b  a.1\n",
       "a        \n",
       "3  9    8\n",
       "2  1    2"
      ]
     },
     "execution_count": 12,
     "metadata": {},
     "output_type": "execute_result"
    }
   ],
   "source": [
    "# slide 185\n",
    "# position-based fancy indexing\n",
    "data.iloc[[2,0],[0,1]]"
   ]
  },
  {
   "cell_type": "markdown",
   "metadata": {},
   "source": [
    "## HT003: Use an appropriate label-based indexing/slicing method to select data in `data`."
   ]
  },
  {
   "cell_type": "code",
   "execution_count": 13,
   "metadata": {},
   "outputs": [
    {
     "name": "stdout",
     "output_type": "stream",
     "text": [
      "1\n",
      "1\n"
     ]
    }
   ],
   "source": [
    "# slide 187\n",
    "# label-based indexing\n",
    "print(data.loc[2,'b'])\n",
    "print(data['b'][2])"
   ]
  },
  {
   "cell_type": "code",
   "execution_count": 14,
   "metadata": {},
   "outputs": [
    {
     "data": {
      "text/html": [
       "<div>\n",
       "<style scoped>\n",
       "    .dataframe tbody tr th:only-of-type {\n",
       "        vertical-align: middle;\n",
       "    }\n",
       "\n",
       "    .dataframe tbody tr th {\n",
       "        vertical-align: top;\n",
       "    }\n",
       "\n",
       "    .dataframe thead th {\n",
       "        text-align: right;\n",
       "    }\n",
       "</style>\n",
       "<table border=\"1\" class=\"dataframe\">\n",
       "  <thead>\n",
       "    <tr style=\"text-align: right;\">\n",
       "      <th></th>\n",
       "      <th>b</th>\n",
       "      <th>a.1</th>\n",
       "      <th>d e</th>\n",
       "      <th>1</th>\n",
       "    </tr>\n",
       "    <tr>\n",
       "      <th>a</th>\n",
       "      <th></th>\n",
       "      <th></th>\n",
       "      <th></th>\n",
       "      <th></th>\n",
       "    </tr>\n",
       "  </thead>\n",
       "  <tbody>\n",
       "    <tr>\n",
       "      <th>2</th>\n",
       "      <td>1</td>\n",
       "      <td>2</td>\n",
       "      <td>3</td>\n",
       "      <td>4</td>\n",
       "    </tr>\n",
       "    <tr>\n",
       "      <th>4</th>\n",
       "      <td>5</td>\n",
       "      <td>6</td>\n",
       "      <td>7</td>\n",
       "      <td>8</td>\n",
       "    </tr>\n",
       "    <tr>\n",
       "      <th>3</th>\n",
       "      <td>9</td>\n",
       "      <td>8</td>\n",
       "      <td>7</td>\n",
       "      <td>6</td>\n",
       "    </tr>\n",
       "  </tbody>\n",
       "</table>\n",
       "</div>"
      ],
      "text/plain": [
       "   b  a.1  d e  1\n",
       "a                \n",
       "2  1    2    3  4\n",
       "4  5    6    7  8\n",
       "3  9    8    7  6"
      ]
     },
     "execution_count": 14,
     "metadata": {},
     "output_type": "execute_result"
    }
   ],
   "source": [
    "# slide 189\n",
    "# label-based slicing (1)\n",
    "data.loc[2:3,'b':'1']"
   ]
  },
  {
   "cell_type": "code",
   "execution_count": 15,
   "metadata": {},
   "outputs": [
    {
     "data": {
      "text/plain": [
       "b      1\n",
       "a.1    2\n",
       "d e    3\n",
       "1      4\n",
       "Name: 2, dtype: int64"
      ]
     },
     "execution_count": 15,
     "metadata": {},
     "output_type": "execute_result"
    }
   ],
   "source": [
    "# slide 190\n",
    "# label-based slicing (2): row with label 2\n",
    "data.loc[2,:]"
   ]
  },
  {
   "cell_type": "code",
   "execution_count": 16,
   "metadata": {},
   "outputs": [
    {
     "data": {
      "text/plain": [
       "a\n",
       "2    2\n",
       "4    6\n",
       "3    8\n",
       "4    4\n",
       "Name: a.1, dtype: int64"
      ]
     },
     "execution_count": 16,
     "metadata": {},
     "output_type": "execute_result"
    }
   ],
   "source": [
    "# slide 192\n",
    "# label-based slicing (3): column with label a.1\n",
    "data.loc[:,'a.1']"
   ]
  },
  {
   "cell_type": "code",
   "execution_count": 17,
   "metadata": {},
   "outputs": [
    {
     "data": {
      "text/html": [
       "<div>\n",
       "<style scoped>\n",
       "    .dataframe tbody tr th:only-of-type {\n",
       "        vertical-align: middle;\n",
       "    }\n",
       "\n",
       "    .dataframe tbody tr th {\n",
       "        vertical-align: top;\n",
       "    }\n",
       "\n",
       "    .dataframe thead th {\n",
       "        text-align: right;\n",
       "    }\n",
       "</style>\n",
       "<table border=\"1\" class=\"dataframe\">\n",
       "  <thead>\n",
       "    <tr style=\"text-align: right;\">\n",
       "      <th></th>\n",
       "      <th>b</th>\n",
       "      <th>1</th>\n",
       "    </tr>\n",
       "    <tr>\n",
       "      <th>a</th>\n",
       "      <th></th>\n",
       "      <th></th>\n",
       "    </tr>\n",
       "  </thead>\n",
       "  <tbody>\n",
       "    <tr>\n",
       "      <th>2</th>\n",
       "      <td>1</td>\n",
       "      <td>4</td>\n",
       "    </tr>\n",
       "    <tr>\n",
       "      <th>3</th>\n",
       "      <td>9</td>\n",
       "      <td>6</td>\n",
       "    </tr>\n",
       "  </tbody>\n",
       "</table>\n",
       "</div>"
      ],
      "text/plain": [
       "   b  1\n",
       "a      \n",
       "2  1  4\n",
       "3  9  6"
      ]
     },
     "execution_count": 17,
     "metadata": {},
     "output_type": "execute_result"
    }
   ],
   "source": [
    "# slide 194\n",
    "# label-based fancy indexing\n",
    "data.loc[[2,3],['b','1']]"
   ]
  },
  {
   "cell_type": "markdown",
   "metadata": {},
   "source": [
    "## HT004: Add a column to `data`."
   ]
  },
  {
   "cell_type": "code",
   "execution_count": 18,
   "metadata": {},
   "outputs": [
    {
     "data": {
      "text/html": [
       "<div>\n",
       "<style scoped>\n",
       "    .dataframe tbody tr th:only-of-type {\n",
       "        vertical-align: middle;\n",
       "    }\n",
       "\n",
       "    .dataframe tbody tr th {\n",
       "        vertical-align: top;\n",
       "    }\n",
       "\n",
       "    .dataframe thead th {\n",
       "        text-align: right;\n",
       "    }\n",
       "</style>\n",
       "<table border=\"1\" class=\"dataframe\">\n",
       "  <thead>\n",
       "    <tr style=\"text-align: right;\">\n",
       "      <th></th>\n",
       "      <th>b</th>\n",
       "      <th>a.1</th>\n",
       "      <th>d e</th>\n",
       "      <th>1</th>\n",
       "    </tr>\n",
       "    <tr>\n",
       "      <th>a</th>\n",
       "      <th></th>\n",
       "      <th></th>\n",
       "      <th></th>\n",
       "      <th></th>\n",
       "    </tr>\n",
       "  </thead>\n",
       "  <tbody>\n",
       "    <tr>\n",
       "      <th>2</th>\n",
       "      <td>1</td>\n",
       "      <td>2</td>\n",
       "      <td>3</td>\n",
       "      <td>4</td>\n",
       "    </tr>\n",
       "    <tr>\n",
       "      <th>4</th>\n",
       "      <td>5</td>\n",
       "      <td>6</td>\n",
       "      <td>7</td>\n",
       "      <td>8</td>\n",
       "    </tr>\n",
       "    <tr>\n",
       "      <th>3</th>\n",
       "      <td>9</td>\n",
       "      <td>8</td>\n",
       "      <td>7</td>\n",
       "      <td>6</td>\n",
       "    </tr>\n",
       "    <tr>\n",
       "      <th>4</th>\n",
       "      <td>5</td>\n",
       "      <td>4</td>\n",
       "      <td>3</td>\n",
       "      <td>2</td>\n",
       "    </tr>\n",
       "  </tbody>\n",
       "</table>\n",
       "</div>"
      ],
      "text/plain": [
       "   b  a.1  d e  1\n",
       "a                \n",
       "2  1    2    3  4\n",
       "4  5    6    7  8\n",
       "3  9    8    7  6\n",
       "4  5    4    3  2"
      ]
     },
     "execution_count": 18,
     "metadata": {},
     "output_type": "execute_result"
    }
   ],
   "source": [
    "# slide 196\n",
    "data=pd.read_csv('HT001b.csv', index_col=0, header=0)\n",
    "data"
   ]
  },
  {
   "cell_type": "code",
   "execution_count": 19,
   "metadata": {},
   "outputs": [
    {
     "data": {
      "text/html": [
       "<div>\n",
       "<style scoped>\n",
       "    .dataframe tbody tr th:only-of-type {\n",
       "        vertical-align: middle;\n",
       "    }\n",
       "\n",
       "    .dataframe tbody tr th {\n",
       "        vertical-align: top;\n",
       "    }\n",
       "\n",
       "    .dataframe thead th {\n",
       "        text-align: right;\n",
       "    }\n",
       "</style>\n",
       "<table border=\"1\" class=\"dataframe\">\n",
       "  <thead>\n",
       "    <tr style=\"text-align: right;\">\n",
       "      <th></th>\n",
       "      <th>b</th>\n",
       "      <th>a.1</th>\n",
       "      <th>d e</th>\n",
       "      <th>1</th>\n",
       "      <th>f1</th>\n",
       "    </tr>\n",
       "    <tr>\n",
       "      <th>a</th>\n",
       "      <th></th>\n",
       "      <th></th>\n",
       "      <th></th>\n",
       "      <th></th>\n",
       "      <th></th>\n",
       "    </tr>\n",
       "  </thead>\n",
       "  <tbody>\n",
       "    <tr>\n",
       "      <th>2</th>\n",
       "      <td>1</td>\n",
       "      <td>2</td>\n",
       "      <td>3</td>\n",
       "      <td>4</td>\n",
       "      <td>1</td>\n",
       "    </tr>\n",
       "    <tr>\n",
       "      <th>4</th>\n",
       "      <td>5</td>\n",
       "      <td>6</td>\n",
       "      <td>7</td>\n",
       "      <td>8</td>\n",
       "      <td>1</td>\n",
       "    </tr>\n",
       "    <tr>\n",
       "      <th>3</th>\n",
       "      <td>9</td>\n",
       "      <td>8</td>\n",
       "      <td>7</td>\n",
       "      <td>6</td>\n",
       "      <td>1</td>\n",
       "    </tr>\n",
       "    <tr>\n",
       "      <th>4</th>\n",
       "      <td>5</td>\n",
       "      <td>4</td>\n",
       "      <td>3</td>\n",
       "      <td>2</td>\n",
       "      <td>1</td>\n",
       "    </tr>\n",
       "  </tbody>\n",
       "</table>\n",
       "</div>"
      ],
      "text/plain": [
       "   b  a.1  d e  1  f1\n",
       "a                    \n",
       "2  1    2    3  4   1\n",
       "4  5    6    7  8   1\n",
       "3  9    8    7  6   1\n",
       "4  5    4    3  2   1"
      ]
     },
     "execution_count": 19,
     "metadata": {},
     "output_type": "execute_result"
    }
   ],
   "source": [
    "# slide 196 (1)\n",
    "data=pd.read_csv('HT001b.csv', index_col=0, header=0)\n",
    "# add a column (1): a number\n",
    "data['f1']=1\n",
    "#data.loc[:,'f1']=1\n",
    "data"
   ]
  },
  {
   "cell_type": "code",
   "execution_count": 20,
   "metadata": {},
   "outputs": [
    {
     "data": {
      "text/html": [
       "<div>\n",
       "<style scoped>\n",
       "    .dataframe tbody tr th:only-of-type {\n",
       "        vertical-align: middle;\n",
       "    }\n",
       "\n",
       "    .dataframe tbody tr th {\n",
       "        vertical-align: top;\n",
       "    }\n",
       "\n",
       "    .dataframe thead th {\n",
       "        text-align: right;\n",
       "    }\n",
       "</style>\n",
       "<table border=\"1\" class=\"dataframe\">\n",
       "  <thead>\n",
       "    <tr style=\"text-align: right;\">\n",
       "      <th></th>\n",
       "      <th>b</th>\n",
       "      <th>a.1</th>\n",
       "      <th>d e</th>\n",
       "      <th>1</th>\n",
       "      <th>f1</th>\n",
       "      <th>f2</th>\n",
       "    </tr>\n",
       "    <tr>\n",
       "      <th>a</th>\n",
       "      <th></th>\n",
       "      <th></th>\n",
       "      <th></th>\n",
       "      <th></th>\n",
       "      <th></th>\n",
       "      <th></th>\n",
       "    </tr>\n",
       "  </thead>\n",
       "  <tbody>\n",
       "    <tr>\n",
       "      <th>2</th>\n",
       "      <td>1</td>\n",
       "      <td>2</td>\n",
       "      <td>3</td>\n",
       "      <td>4</td>\n",
       "      <td>1</td>\n",
       "      <td>0</td>\n",
       "    </tr>\n",
       "    <tr>\n",
       "      <th>4</th>\n",
       "      <td>5</td>\n",
       "      <td>6</td>\n",
       "      <td>7</td>\n",
       "      <td>8</td>\n",
       "      <td>1</td>\n",
       "      <td>1</td>\n",
       "    </tr>\n",
       "    <tr>\n",
       "      <th>3</th>\n",
       "      <td>9</td>\n",
       "      <td>8</td>\n",
       "      <td>7</td>\n",
       "      <td>6</td>\n",
       "      <td>1</td>\n",
       "      <td>2</td>\n",
       "    </tr>\n",
       "    <tr>\n",
       "      <th>4</th>\n",
       "      <td>5</td>\n",
       "      <td>4</td>\n",
       "      <td>3</td>\n",
       "      <td>2</td>\n",
       "      <td>1</td>\n",
       "      <td>3</td>\n",
       "    </tr>\n",
       "  </tbody>\n",
       "</table>\n",
       "</div>"
      ],
      "text/plain": [
       "   b  a.1  d e  1  f1  f2\n",
       "a                        \n",
       "2  1    2    3  4   1   0\n",
       "4  5    6    7  8   1   1\n",
       "3  9    8    7  6   1   2\n",
       "4  5    4    3  2   1   3"
      ]
     },
     "execution_count": 20,
     "metadata": {},
     "output_type": "execute_result"
    }
   ],
   "source": [
    "# slide 196 (2)\n",
    "data=pd.read_csv('HT001b.csv', index_col=0, header=0)\n",
    "data['f1']=1\n",
    "#data.loc[:,'f1']=1\n",
    "# add a column (2): an iterable\n",
    "data['f2']=range(4)\n",
    "#data['f2']=[0,1,2,3]\n",
    "#data['f2']=[[0],[1],[2],[3]]\n",
    "#data['f2']=[[0,1,2,3]] #Wrong\n",
    "#data.loc[:,'f2']=range(4)\n",
    "#data.loc[:,'f2']=[0,1,2,3]\n",
    "#data.loc[:,'f2']=[[0],[1],[2],[3]]\n",
    "#data.loc[:,'f2']=[[0,1,2,3]] #Wrong\n",
    "data"
   ]
  },
  {
   "cell_type": "code",
   "execution_count": 21,
   "metadata": {},
   "outputs": [
    {
     "data": {
      "text/plain": [
       "array([0, 1, 2, 3])"
      ]
     },
     "execution_count": 21,
     "metadata": {},
     "output_type": "execute_result"
    }
   ],
   "source": [
    "# slide 197 (1)\n",
    "# add a column (3): a Numpy array\n",
    "import numpy as np\n",
    "np.arange(4)"
   ]
  },
  {
   "cell_type": "code",
   "execution_count": 22,
   "metadata": {},
   "outputs": [
    {
     "data": {
      "text/plain": [
       "array([[0],\n",
       "       [1],\n",
       "       [2],\n",
       "       [3]])"
      ]
     },
     "execution_count": 22,
     "metadata": {},
     "output_type": "execute_result"
    }
   ],
   "source": [
    "np.arange(4).reshape(4,1)"
   ]
  },
  {
   "cell_type": "code",
   "execution_count": 23,
   "metadata": {},
   "outputs": [
    {
     "data": {
      "text/plain": [
       "array([[0, 1, 2, 3]])"
      ]
     },
     "execution_count": 23,
     "metadata": {},
     "output_type": "execute_result"
    }
   ],
   "source": [
    "np.arange(4).reshape(1,4)"
   ]
  },
  {
   "cell_type": "code",
   "execution_count": 24,
   "metadata": {},
   "outputs": [
    {
     "data": {
      "text/html": [
       "<div>\n",
       "<style scoped>\n",
       "    .dataframe tbody tr th:only-of-type {\n",
       "        vertical-align: middle;\n",
       "    }\n",
       "\n",
       "    .dataframe tbody tr th {\n",
       "        vertical-align: top;\n",
       "    }\n",
       "\n",
       "    .dataframe thead th {\n",
       "        text-align: right;\n",
       "    }\n",
       "</style>\n",
       "<table border=\"1\" class=\"dataframe\">\n",
       "  <thead>\n",
       "    <tr style=\"text-align: right;\">\n",
       "      <th></th>\n",
       "      <th>b</th>\n",
       "      <th>a.1</th>\n",
       "      <th>d e</th>\n",
       "      <th>1</th>\n",
       "      <th>f1</th>\n",
       "      <th>f2</th>\n",
       "      <th>f3</th>\n",
       "    </tr>\n",
       "    <tr>\n",
       "      <th>a</th>\n",
       "      <th></th>\n",
       "      <th></th>\n",
       "      <th></th>\n",
       "      <th></th>\n",
       "      <th></th>\n",
       "      <th></th>\n",
       "      <th></th>\n",
       "    </tr>\n",
       "  </thead>\n",
       "  <tbody>\n",
       "    <tr>\n",
       "      <th>2</th>\n",
       "      <td>1</td>\n",
       "      <td>2</td>\n",
       "      <td>3</td>\n",
       "      <td>4</td>\n",
       "      <td>1</td>\n",
       "      <td>0</td>\n",
       "      <td>0</td>\n",
       "    </tr>\n",
       "    <tr>\n",
       "      <th>4</th>\n",
       "      <td>5</td>\n",
       "      <td>6</td>\n",
       "      <td>7</td>\n",
       "      <td>8</td>\n",
       "      <td>1</td>\n",
       "      <td>1</td>\n",
       "      <td>1</td>\n",
       "    </tr>\n",
       "    <tr>\n",
       "      <th>3</th>\n",
       "      <td>9</td>\n",
       "      <td>8</td>\n",
       "      <td>7</td>\n",
       "      <td>6</td>\n",
       "      <td>1</td>\n",
       "      <td>2</td>\n",
       "      <td>2</td>\n",
       "    </tr>\n",
       "    <tr>\n",
       "      <th>4</th>\n",
       "      <td>5</td>\n",
       "      <td>4</td>\n",
       "      <td>3</td>\n",
       "      <td>2</td>\n",
       "      <td>1</td>\n",
       "      <td>3</td>\n",
       "      <td>3</td>\n",
       "    </tr>\n",
       "  </tbody>\n",
       "</table>\n",
       "</div>"
      ],
      "text/plain": [
       "   b  a.1  d e  1  f1  f2  f3\n",
       "a                            \n",
       "2  1    2    3  4   1   0   0\n",
       "4  5    6    7  8   1   1   1\n",
       "3  9    8    7  6   1   2   2\n",
       "4  5    4    3  2   1   3   3"
      ]
     },
     "execution_count": 24,
     "metadata": {},
     "output_type": "execute_result"
    }
   ],
   "source": [
    "# slide 197 (2)\n",
    "data=pd.read_csv('HT001b.csv', index_col=0, header=0)\n",
    "data['f1']=1\n",
    "data['f2']=range(4)\n",
    "#\n",
    "data['f3']=np.arange(4)\n",
    "#data['f3']=np.arange(4).reshape(4,1)\n",
    "#data['f3']=np.arange(4).reshape(1,4) #Wrong\n",
    "data"
   ]
  },
  {
   "cell_type": "code",
   "execution_count": 25,
   "metadata": {},
   "outputs": [
    {
     "data": {
      "text/plain": [
       "0    0\n",
       "1    1\n",
       "2    2\n",
       "3    3\n",
       "dtype: int64"
      ]
     },
     "execution_count": 25,
     "metadata": {},
     "output_type": "execute_result"
    }
   ],
   "source": [
    "# slide 198 (1)\n",
    "# add a column (4): a Series (with different labels)\n",
    "pd.Series(range(4))"
   ]
  },
  {
   "cell_type": "code",
   "execution_count": 26,
   "metadata": {},
   "outputs": [
    {
     "data": {
      "text/html": [
       "<div>\n",
       "<style scoped>\n",
       "    .dataframe tbody tr th:only-of-type {\n",
       "        vertical-align: middle;\n",
       "    }\n",
       "\n",
       "    .dataframe tbody tr th {\n",
       "        vertical-align: top;\n",
       "    }\n",
       "\n",
       "    .dataframe thead th {\n",
       "        text-align: right;\n",
       "    }\n",
       "</style>\n",
       "<table border=\"1\" class=\"dataframe\">\n",
       "  <thead>\n",
       "    <tr style=\"text-align: right;\">\n",
       "      <th></th>\n",
       "      <th>b</th>\n",
       "      <th>a.1</th>\n",
       "      <th>d e</th>\n",
       "      <th>1</th>\n",
       "      <th>f1</th>\n",
       "      <th>f2</th>\n",
       "      <th>f3</th>\n",
       "      <th>f4</th>\n",
       "    </tr>\n",
       "    <tr>\n",
       "      <th>a</th>\n",
       "      <th></th>\n",
       "      <th></th>\n",
       "      <th></th>\n",
       "      <th></th>\n",
       "      <th></th>\n",
       "      <th></th>\n",
       "      <th></th>\n",
       "      <th></th>\n",
       "    </tr>\n",
       "  </thead>\n",
       "  <tbody>\n",
       "    <tr>\n",
       "      <th>2</th>\n",
       "      <td>1</td>\n",
       "      <td>2</td>\n",
       "      <td>3</td>\n",
       "      <td>4</td>\n",
       "      <td>1</td>\n",
       "      <td>0</td>\n",
       "      <td>0</td>\n",
       "      <td>2.0</td>\n",
       "    </tr>\n",
       "    <tr>\n",
       "      <th>4</th>\n",
       "      <td>5</td>\n",
       "      <td>6</td>\n",
       "      <td>7</td>\n",
       "      <td>8</td>\n",
       "      <td>1</td>\n",
       "      <td>1</td>\n",
       "      <td>1</td>\n",
       "      <td>NaN</td>\n",
       "    </tr>\n",
       "    <tr>\n",
       "      <th>3</th>\n",
       "      <td>9</td>\n",
       "      <td>8</td>\n",
       "      <td>7</td>\n",
       "      <td>6</td>\n",
       "      <td>1</td>\n",
       "      <td>2</td>\n",
       "      <td>2</td>\n",
       "      <td>3.0</td>\n",
       "    </tr>\n",
       "    <tr>\n",
       "      <th>4</th>\n",
       "      <td>5</td>\n",
       "      <td>4</td>\n",
       "      <td>3</td>\n",
       "      <td>2</td>\n",
       "      <td>1</td>\n",
       "      <td>3</td>\n",
       "      <td>3</td>\n",
       "      <td>NaN</td>\n",
       "    </tr>\n",
       "  </tbody>\n",
       "</table>\n",
       "</div>"
      ],
      "text/plain": [
       "   b  a.1  d e  1  f1  f2  f3   f4\n",
       "a                                 \n",
       "2  1    2    3  4   1   0   0  2.0\n",
       "4  5    6    7  8   1   1   1  NaN\n",
       "3  9    8    7  6   1   2   2  3.0\n",
       "4  5    4    3  2   1   3   3  NaN"
      ]
     },
     "execution_count": 26,
     "metadata": {},
     "output_type": "execute_result"
    }
   ],
   "source": [
    "# slide 198 (2)\n",
    "data=pd.read_csv('HT001b.csv', index_col=0, header=0)\n",
    "data['f1']=1\n",
    "data['f2']=range(4)\n",
    "data['f3']=np.arange(4)\n",
    "#\n",
    "#data['f4']=pd.Series(range(3))\n",
    "data['f4']=pd.Series(range(4))\n",
    "#data['f4']=pd.Series(range(5))\n",
    "#data.loc[:,'f4']=pd.Series(range(3))\n",
    "#data.loc[:,'f4']=pd.Series(range(4))\n",
    "#data.loc[:,'f4']=pd.Series(range(5))\n",
    "data"
   ]
  },
  {
   "cell_type": "code",
   "execution_count": 27,
   "metadata": {},
   "outputs": [
    {
     "data": {
      "text/html": [
       "<div>\n",
       "<style scoped>\n",
       "    .dataframe tbody tr th:only-of-type {\n",
       "        vertical-align: middle;\n",
       "    }\n",
       "\n",
       "    .dataframe tbody tr th {\n",
       "        vertical-align: top;\n",
       "    }\n",
       "\n",
       "    .dataframe thead th {\n",
       "        text-align: right;\n",
       "    }\n",
       "</style>\n",
       "<table border=\"1\" class=\"dataframe\">\n",
       "  <thead>\n",
       "    <tr style=\"text-align: right;\">\n",
       "      <th></th>\n",
       "      <th>0</th>\n",
       "    </tr>\n",
       "  </thead>\n",
       "  <tbody>\n",
       "    <tr>\n",
       "      <th>0</th>\n",
       "      <td>0</td>\n",
       "    </tr>\n",
       "    <tr>\n",
       "      <th>1</th>\n",
       "      <td>1</td>\n",
       "    </tr>\n",
       "    <tr>\n",
       "      <th>2</th>\n",
       "      <td>2</td>\n",
       "    </tr>\n",
       "    <tr>\n",
       "      <th>3</th>\n",
       "      <td>3</td>\n",
       "    </tr>\n",
       "  </tbody>\n",
       "</table>\n",
       "</div>"
      ],
      "text/plain": [
       "   0\n",
       "0  0\n",
       "1  1\n",
       "2  2\n",
       "3  3"
      ]
     },
     "execution_count": 27,
     "metadata": {},
     "output_type": "execute_result"
    }
   ],
   "source": [
    "# slide 199 (1)\n",
    "# add a column (5): a DataFrame\n",
    "pd.DataFrame([[i] for i in range(4)])"
   ]
  },
  {
   "cell_type": "code",
   "execution_count": 28,
   "metadata": {},
   "outputs": [
    {
     "data": {
      "text/html": [
       "<div>\n",
       "<style scoped>\n",
       "    .dataframe tbody tr th:only-of-type {\n",
       "        vertical-align: middle;\n",
       "    }\n",
       "\n",
       "    .dataframe tbody tr th {\n",
       "        vertical-align: top;\n",
       "    }\n",
       "\n",
       "    .dataframe thead th {\n",
       "        text-align: right;\n",
       "    }\n",
       "</style>\n",
       "<table border=\"1\" class=\"dataframe\">\n",
       "  <thead>\n",
       "    <tr style=\"text-align: right;\">\n",
       "      <th></th>\n",
       "      <th>0</th>\n",
       "      <th>1</th>\n",
       "      <th>2</th>\n",
       "      <th>3</th>\n",
       "    </tr>\n",
       "  </thead>\n",
       "  <tbody>\n",
       "    <tr>\n",
       "      <th>2</th>\n",
       "      <td>0</td>\n",
       "      <td>1</td>\n",
       "      <td>2</td>\n",
       "      <td>3</td>\n",
       "    </tr>\n",
       "  </tbody>\n",
       "</table>\n",
       "</div>"
      ],
      "text/plain": [
       "   0  1  2  3\n",
       "2  0  1  2  3"
      ]
     },
     "execution_count": 28,
     "metadata": {},
     "output_type": "execute_result"
    }
   ],
   "source": [
    "pd.DataFrame([[i for i in range(4)]], index=[2])"
   ]
  },
  {
   "cell_type": "code",
   "execution_count": 29,
   "metadata": {},
   "outputs": [
    {
     "data": {
      "text/html": [
       "<div>\n",
       "<style scoped>\n",
       "    .dataframe tbody tr th:only-of-type {\n",
       "        vertical-align: middle;\n",
       "    }\n",
       "\n",
       "    .dataframe tbody tr th {\n",
       "        vertical-align: top;\n",
       "    }\n",
       "\n",
       "    .dataframe thead th {\n",
       "        text-align: right;\n",
       "    }\n",
       "</style>\n",
       "<table border=\"1\" class=\"dataframe\">\n",
       "  <thead>\n",
       "    <tr style=\"text-align: right;\">\n",
       "      <th></th>\n",
       "      <th>b</th>\n",
       "      <th>a.1</th>\n",
       "      <th>d e</th>\n",
       "      <th>1</th>\n",
       "      <th>f1</th>\n",
       "      <th>f2</th>\n",
       "      <th>f3</th>\n",
       "      <th>f4</th>\n",
       "      <th>f5</th>\n",
       "    </tr>\n",
       "    <tr>\n",
       "      <th>a</th>\n",
       "      <th></th>\n",
       "      <th></th>\n",
       "      <th></th>\n",
       "      <th></th>\n",
       "      <th></th>\n",
       "      <th></th>\n",
       "      <th></th>\n",
       "      <th></th>\n",
       "      <th></th>\n",
       "    </tr>\n",
       "  </thead>\n",
       "  <tbody>\n",
       "    <tr>\n",
       "      <th>2</th>\n",
       "      <td>1</td>\n",
       "      <td>2</td>\n",
       "      <td>3</td>\n",
       "      <td>4</td>\n",
       "      <td>1</td>\n",
       "      <td>0</td>\n",
       "      <td>0</td>\n",
       "      <td>2.0</td>\n",
       "      <td>2.0</td>\n",
       "    </tr>\n",
       "    <tr>\n",
       "      <th>4</th>\n",
       "      <td>5</td>\n",
       "      <td>6</td>\n",
       "      <td>7</td>\n",
       "      <td>8</td>\n",
       "      <td>1</td>\n",
       "      <td>1</td>\n",
       "      <td>1</td>\n",
       "      <td>NaN</td>\n",
       "      <td>NaN</td>\n",
       "    </tr>\n",
       "    <tr>\n",
       "      <th>3</th>\n",
       "      <td>9</td>\n",
       "      <td>8</td>\n",
       "      <td>7</td>\n",
       "      <td>6</td>\n",
       "      <td>1</td>\n",
       "      <td>2</td>\n",
       "      <td>2</td>\n",
       "      <td>3.0</td>\n",
       "      <td>3.0</td>\n",
       "    </tr>\n",
       "    <tr>\n",
       "      <th>4</th>\n",
       "      <td>5</td>\n",
       "      <td>4</td>\n",
       "      <td>3</td>\n",
       "      <td>2</td>\n",
       "      <td>1</td>\n",
       "      <td>3</td>\n",
       "      <td>3</td>\n",
       "      <td>NaN</td>\n",
       "      <td>NaN</td>\n",
       "    </tr>\n",
       "  </tbody>\n",
       "</table>\n",
       "</div>"
      ],
      "text/plain": [
       "   b  a.1  d e  1  f1  f2  f3   f4   f5\n",
       "a                                      \n",
       "2  1    2    3  4   1   0   0  2.0  2.0\n",
       "4  5    6    7  8   1   1   1  NaN  NaN\n",
       "3  9    8    7  6   1   2   2  3.0  3.0\n",
       "4  5    4    3  2   1   3   3  NaN  NaN"
      ]
     },
     "execution_count": 29,
     "metadata": {},
     "output_type": "execute_result"
    }
   ],
   "source": [
    "# slide 199 (2)\n",
    "data=pd.read_csv('HT001b.csv', index_col=0, header=0)\n",
    "data['f1']=1\n",
    "data['f2']=range(4)\n",
    "data['f3']=np.arange(4)\n",
    "data['f4']=pd.Series(range(4))\n",
    "#\n",
    "#data['f5']=pd.DataFrame([[i] for i in range(3)])\n",
    "data['f5']=pd.DataFrame([[i] for i in range(4)])\n",
    "#data['f5']=pd.DataFrame([[i] for i in range(5)])\n",
    "#data['f5']=pd.DataFrame([[i for i in range(4)]],index=[2]) #Wrong\n",
    "data"
   ]
  },
  {
   "cell_type": "code",
   "execution_count": 30,
   "metadata": {},
   "outputs": [
    {
     "data": {
      "text/html": [
       "<div>\n",
       "<style scoped>\n",
       "    .dataframe tbody tr th:only-of-type {\n",
       "        vertical-align: middle;\n",
       "    }\n",
       "\n",
       "    .dataframe tbody tr th {\n",
       "        vertical-align: top;\n",
       "    }\n",
       "\n",
       "    .dataframe thead th {\n",
       "        text-align: right;\n",
       "    }\n",
       "</style>\n",
       "<table border=\"1\" class=\"dataframe\">\n",
       "  <thead>\n",
       "    <tr style=\"text-align: right;\">\n",
       "      <th></th>\n",
       "      <th>b</th>\n",
       "      <th>c</th>\n",
       "      <th>d</th>\n",
       "      <th>e</th>\n",
       "    </tr>\n",
       "    <tr>\n",
       "      <th>a</th>\n",
       "      <th></th>\n",
       "      <th></th>\n",
       "      <th></th>\n",
       "      <th></th>\n",
       "    </tr>\n",
       "  </thead>\n",
       "  <tbody>\n",
       "    <tr>\n",
       "      <th>0</th>\n",
       "      <td>1</td>\n",
       "      <td>2</td>\n",
       "      <td>3</td>\n",
       "      <td>4</td>\n",
       "    </tr>\n",
       "    <tr>\n",
       "      <th>1</th>\n",
       "      <td>5</td>\n",
       "      <td>6</td>\n",
       "      <td>7</td>\n",
       "      <td>8</td>\n",
       "    </tr>\n",
       "    <tr>\n",
       "      <th>2</th>\n",
       "      <td>9</td>\n",
       "      <td>8</td>\n",
       "      <td>7</td>\n",
       "      <td>6</td>\n",
       "    </tr>\n",
       "    <tr>\n",
       "      <th>3</th>\n",
       "      <td>5</td>\n",
       "      <td>4</td>\n",
       "      <td>3</td>\n",
       "      <td>2</td>\n",
       "    </tr>\n",
       "  </tbody>\n",
       "</table>\n",
       "</div>"
      ],
      "text/plain": [
       "   b  c  d  e\n",
       "a            \n",
       "0  1  2  3  4\n",
       "1  5  6  7  8\n",
       "2  9  8  7  6\n",
       "3  5  4  3  2"
      ]
     },
     "execution_count": 30,
     "metadata": {},
     "output_type": "execute_result"
    }
   ],
   "source": [
    "# slide 200\n",
    "data=pd.read_csv('HT001a.csv', index_col=0, header=0)\n",
    "# Homework: Use one command to add a column to data, \n",
    "# using the first row of data, and name this column f.\n",
    "#<Test Your Answer>\n",
    "\n",
    "#\n",
    "data"
   ]
  },
  {
   "cell_type": "markdown",
   "metadata": {},
   "source": [
    "## HT005: Add a row to `data`."
   ]
  },
  {
   "cell_type": "code",
   "execution_count": 31,
   "metadata": {},
   "outputs": [
    {
     "data": {
      "text/html": [
       "<div>\n",
       "<style scoped>\n",
       "    .dataframe tbody tr th:only-of-type {\n",
       "        vertical-align: middle;\n",
       "    }\n",
       "\n",
       "    .dataframe tbody tr th {\n",
       "        vertical-align: top;\n",
       "    }\n",
       "\n",
       "    .dataframe thead th {\n",
       "        text-align: right;\n",
       "    }\n",
       "</style>\n",
       "<table border=\"1\" class=\"dataframe\">\n",
       "  <thead>\n",
       "    <tr style=\"text-align: right;\">\n",
       "      <th></th>\n",
       "      <th>b</th>\n",
       "      <th>c</th>\n",
       "      <th>d</th>\n",
       "      <th>e</th>\n",
       "    </tr>\n",
       "    <tr>\n",
       "      <th>a</th>\n",
       "      <th></th>\n",
       "      <th></th>\n",
       "      <th></th>\n",
       "      <th></th>\n",
       "    </tr>\n",
       "  </thead>\n",
       "  <tbody>\n",
       "    <tr>\n",
       "      <th>0</th>\n",
       "      <td>1.0</td>\n",
       "      <td>2.0</td>\n",
       "      <td>3.0</td>\n",
       "      <td>4.0</td>\n",
       "    </tr>\n",
       "    <tr>\n",
       "      <th>1</th>\n",
       "      <td>5.0</td>\n",
       "      <td>6.0</td>\n",
       "      <td>7.0</td>\n",
       "      <td>8.0</td>\n",
       "    </tr>\n",
       "    <tr>\n",
       "      <th>2</th>\n",
       "      <td>9.0</td>\n",
       "      <td>8.0</td>\n",
       "      <td>7.0</td>\n",
       "      <td>6.0</td>\n",
       "    </tr>\n",
       "    <tr>\n",
       "      <th>3</th>\n",
       "      <td>5.0</td>\n",
       "      <td>4.0</td>\n",
       "      <td>3.0</td>\n",
       "      <td>2.0</td>\n",
       "    </tr>\n",
       "    <tr>\n",
       "      <th>100</th>\n",
       "      <td>1.0</td>\n",
       "      <td>1.0</td>\n",
       "      <td>1.0</td>\n",
       "      <td>1.0</td>\n",
       "    </tr>\n",
       "  </tbody>\n",
       "</table>\n",
       "</div>"
      ],
      "text/plain": [
       "       b    c    d    e\n",
       "a                      \n",
       "0    1.0  2.0  3.0  4.0\n",
       "1    5.0  6.0  7.0  8.0\n",
       "2    9.0  8.0  7.0  6.0\n",
       "3    5.0  4.0  3.0  2.0\n",
       "100  1.0  1.0  1.0  1.0"
      ]
     },
     "execution_count": 31,
     "metadata": {},
     "output_type": "execute_result"
    }
   ],
   "source": [
    "# slide 206\n",
    "%reset -f\n",
    "import pandas as pd\n",
    "import numpy as np\n",
    "data=pd.read_csv('HT001a.csv', index_col=0, header=0)\n",
    "# data.loc[rowname,:]=...\n",
    "data.loc[100,:]=1\n",
    "#data.loc[100,:]=[1]\n",
    "#data.loc[100,:]=[[1]] #Wrong\n",
    "#data.loc[100,:]=np.array(1)\n",
    "#data.loc[100,:]=np.array([1])\n",
    "#data.loc[100,:]=np.array([[1]])\n",
    "data"
   ]
  },
  {
   "cell_type": "code",
   "execution_count": 32,
   "metadata": {},
   "outputs": [
    {
     "data": {
      "text/html": [
       "<div>\n",
       "<style scoped>\n",
       "    .dataframe tbody tr th:only-of-type {\n",
       "        vertical-align: middle;\n",
       "    }\n",
       "\n",
       "    .dataframe tbody tr th {\n",
       "        vertical-align: top;\n",
       "    }\n",
       "\n",
       "    .dataframe thead th {\n",
       "        text-align: right;\n",
       "    }\n",
       "</style>\n",
       "<table border=\"1\" class=\"dataframe\">\n",
       "  <thead>\n",
       "    <tr style=\"text-align: right;\">\n",
       "      <th></th>\n",
       "      <th>b</th>\n",
       "      <th>c</th>\n",
       "      <th>d</th>\n",
       "      <th>e</th>\n",
       "    </tr>\n",
       "    <tr>\n",
       "      <th>a</th>\n",
       "      <th></th>\n",
       "      <th></th>\n",
       "      <th></th>\n",
       "      <th></th>\n",
       "    </tr>\n",
       "  </thead>\n",
       "  <tbody>\n",
       "    <tr>\n",
       "      <th>0</th>\n",
       "      <td>1.0</td>\n",
       "      <td>2.0</td>\n",
       "      <td>3.0</td>\n",
       "      <td>4.0</td>\n",
       "    </tr>\n",
       "    <tr>\n",
       "      <th>1</th>\n",
       "      <td>5.0</td>\n",
       "      <td>6.0</td>\n",
       "      <td>7.0</td>\n",
       "      <td>8.0</td>\n",
       "    </tr>\n",
       "    <tr>\n",
       "      <th>2</th>\n",
       "      <td>9.0</td>\n",
       "      <td>8.0</td>\n",
       "      <td>7.0</td>\n",
       "      <td>6.0</td>\n",
       "    </tr>\n",
       "    <tr>\n",
       "      <th>3</th>\n",
       "      <td>5.0</td>\n",
       "      <td>4.0</td>\n",
       "      <td>3.0</td>\n",
       "      <td>2.0</td>\n",
       "    </tr>\n",
       "    <tr>\n",
       "      <th>100</th>\n",
       "      <td>1.0</td>\n",
       "      <td>2.0</td>\n",
       "      <td>3.0</td>\n",
       "      <td>4.0</td>\n",
       "    </tr>\n",
       "  </tbody>\n",
       "</table>\n",
       "</div>"
      ],
      "text/plain": [
       "       b    c    d    e\n",
       "a                      \n",
       "0    1.0  2.0  3.0  4.0\n",
       "1    5.0  6.0  7.0  8.0\n",
       "2    9.0  8.0  7.0  6.0\n",
       "3    5.0  4.0  3.0  2.0\n",
       "100  1.0  2.0  3.0  4.0"
      ]
     },
     "execution_count": 32,
     "metadata": {},
     "output_type": "execute_result"
    }
   ],
   "source": [
    "# slide 207\n",
    "%reset -f\n",
    "import pandas as pd\n",
    "import numpy as np\n",
    "data=pd.read_csv('HT001a.csv', index_col=0, header=0)\n",
    "# data.loc[colname,:]=...\n",
    "data.loc[100,:]=range(1,5)\n",
    "#data.loc[100,:]=[1,2,3,4]\n",
    "#data.loc[100,:]=[[1,2,3,4]] #Wrong\n",
    "#data.loc[100,:]=[[1],[2],[3],[4]] #Wrong\n",
    "#data.loc[100,:]=np.array([1,2,3,4])\n",
    "#data.loc[100,:]=np.array([[1,2,3,4]])\n",
    "#data.loc[100,:]=np.array([[1],[2],[3],[4]]) #Wrong\n",
    "data"
   ]
  },
  {
   "cell_type": "code",
   "execution_count": 33,
   "metadata": {},
   "outputs": [
    {
     "name": "stdout",
     "output_type": "stream",
     "text": [
      "   b  c  d  e\n",
      "a            \n",
      "0  1  2  3  4\n",
      "1  5  6  7  8\n",
      "2  9  8  7  6\n",
      "3  5  4  3  2\n"
     ]
    },
    {
     "data": {
      "text/html": [
       "<div>\n",
       "<style scoped>\n",
       "    .dataframe tbody tr th:only-of-type {\n",
       "        vertical-align: middle;\n",
       "    }\n",
       "\n",
       "    .dataframe tbody tr th {\n",
       "        vertical-align: top;\n",
       "    }\n",
       "\n",
       "    .dataframe thead th {\n",
       "        text-align: right;\n",
       "    }\n",
       "</style>\n",
       "<table border=\"1\" class=\"dataframe\">\n",
       "  <thead>\n",
       "    <tr style=\"text-align: right;\">\n",
       "      <th></th>\n",
       "      <th>b</th>\n",
       "      <th>c</th>\n",
       "      <th>d</th>\n",
       "      <th>e</th>\n",
       "    </tr>\n",
       "  </thead>\n",
       "  <tbody>\n",
       "    <tr>\n",
       "      <th>0</th>\n",
       "      <td>1</td>\n",
       "      <td>2</td>\n",
       "      <td>3</td>\n",
       "      <td>4</td>\n",
       "    </tr>\n",
       "    <tr>\n",
       "      <th>1</th>\n",
       "      <td>5</td>\n",
       "      <td>6</td>\n",
       "      <td>7</td>\n",
       "      <td>8</td>\n",
       "    </tr>\n",
       "    <tr>\n",
       "      <th>2</th>\n",
       "      <td>9</td>\n",
       "      <td>8</td>\n",
       "      <td>7</td>\n",
       "      <td>6</td>\n",
       "    </tr>\n",
       "    <tr>\n",
       "      <th>3</th>\n",
       "      <td>5</td>\n",
       "      <td>4</td>\n",
       "      <td>3</td>\n",
       "      <td>2</td>\n",
       "    </tr>\n",
       "    <tr>\n",
       "      <th>4</th>\n",
       "      <td>1</td>\n",
       "      <td>2</td>\n",
       "      <td>3</td>\n",
       "      <td>4</td>\n",
       "    </tr>\n",
       "  </tbody>\n",
       "</table>\n",
       "</div>"
      ],
      "text/plain": [
       "   b  c  d  e\n",
       "0  1  2  3  4\n",
       "1  5  6  7  8\n",
       "2  9  8  7  6\n",
       "3  5  4  3  2\n",
       "4  1  2  3  4"
      ]
     },
     "execution_count": 33,
     "metadata": {},
     "output_type": "execute_result"
    }
   ],
   "source": [
    "# slide 209\n",
    "# a dictionary\n",
    "%reset -f\n",
    "import pandas as pd\n",
    "data=pd.read_csv('HT001a.csv', index_col=0, header=0)\n",
    "print(data)\n",
    "#data=data.append({k:1 for (v,k) in enumerate(data.columns,1)},ignore_index=True)\n",
    "data=data.append({k:v for (v,k) in enumerate(data.columns,1)},ignore_index=True)\n",
    "data"
   ]
  },
  {
   "cell_type": "code",
   "execution_count": 34,
   "metadata": {},
   "outputs": [],
   "source": [
    "# slide 210\n",
    "# Error: a dictionary + \"ignore_index=False\"\n",
    "%reset -f\n",
    "#import pandas as pd\n",
    "#data=pd.read_csv('HT001a.csv', index_col=0, header=0)\n",
    "#data=data.append({k:1 for (v,k) in enumerate(data.columns,1)})\n",
    "#data=data.append({k:v for (v,k) in enumerate(data.columns,1)})\n",
    "#data"
   ]
  },
  {
   "cell_type": "code",
   "execution_count": 35,
   "metadata": {},
   "outputs": [
    {
     "name": "stdout",
     "output_type": "stream",
     "text": [
      "   b  c  d  e\n",
      "a            \n",
      "0  1  2  3  4\n",
      "1  5  6  7  8\n",
      "2  9  8  7  6\n",
      "3  5  4  3  2\n"
     ]
    },
    {
     "data": {
      "text/html": [
       "<div>\n",
       "<style scoped>\n",
       "    .dataframe tbody tr th:only-of-type {\n",
       "        vertical-align: middle;\n",
       "    }\n",
       "\n",
       "    .dataframe tbody tr th {\n",
       "        vertical-align: top;\n",
       "    }\n",
       "\n",
       "    .dataframe thead th {\n",
       "        text-align: right;\n",
       "    }\n",
       "</style>\n",
       "<table border=\"1\" class=\"dataframe\">\n",
       "  <thead>\n",
       "    <tr style=\"text-align: right;\">\n",
       "      <th></th>\n",
       "      <th>b</th>\n",
       "      <th>c</th>\n",
       "      <th>d</th>\n",
       "      <th>e</th>\n",
       "    </tr>\n",
       "  </thead>\n",
       "  <tbody>\n",
       "    <tr>\n",
       "      <th>0</th>\n",
       "      <td>1</td>\n",
       "      <td>2</td>\n",
       "      <td>3</td>\n",
       "      <td>4</td>\n",
       "    </tr>\n",
       "    <tr>\n",
       "      <th>1</th>\n",
       "      <td>5</td>\n",
       "      <td>6</td>\n",
       "      <td>7</td>\n",
       "      <td>8</td>\n",
       "    </tr>\n",
       "    <tr>\n",
       "      <th>2</th>\n",
       "      <td>9</td>\n",
       "      <td>8</td>\n",
       "      <td>7</td>\n",
       "      <td>6</td>\n",
       "    </tr>\n",
       "    <tr>\n",
       "      <th>3</th>\n",
       "      <td>5</td>\n",
       "      <td>4</td>\n",
       "      <td>3</td>\n",
       "      <td>2</td>\n",
       "    </tr>\n",
       "    <tr>\n",
       "      <th>0</th>\n",
       "      <td>1</td>\n",
       "      <td>2</td>\n",
       "      <td>3</td>\n",
       "      <td>4</td>\n",
       "    </tr>\n",
       "  </tbody>\n",
       "</table>\n",
       "</div>"
      ],
      "text/plain": [
       "   b  c  d  e\n",
       "0  1  2  3  4\n",
       "1  5  6  7  8\n",
       "2  9  8  7  6\n",
       "3  5  4  3  2\n",
       "0  1  2  3  4"
      ]
     },
     "execution_count": 35,
     "metadata": {},
     "output_type": "execute_result"
    }
   ],
   "source": [
    "# slide 211\n",
    "# a list of dictionaries\n",
    "%reset -f\n",
    "import pandas as pd\n",
    "data=pd.read_csv('HT001a.csv', index_col=0, header=0)\n",
    "print(data)\n",
    "#data=data.append([{k:1 for (v,k) in enumerate(data.columns,1)}])\n",
    "#data=data.append([{k:1 for (v,k) in enumerate(data.columns,1)}], ignore_index=True)\n",
    "data=data.append([{k:v for (v,k) in enumerate(data.columns,1)}])\n",
    "#data=data.append([{k:v for (v,k) in enumerate(data.columns,1)}], ignore_index=True)\n",
    "data"
   ]
  },
  {
   "cell_type": "code",
   "execution_count": 36,
   "metadata": {},
   "outputs": [
    {
     "name": "stdout",
     "output_type": "stream",
     "text": [
      "   b  c  d  e\n",
      "a            \n",
      "0  1  2  3  4\n",
      "1  5  6  7  8\n",
      "2  9  8  7  6\n",
      "3  5  4  3  2\n"
     ]
    },
    {
     "data": {
      "text/html": [
       "<div>\n",
       "<style scoped>\n",
       "    .dataframe tbody tr th:only-of-type {\n",
       "        vertical-align: middle;\n",
       "    }\n",
       "\n",
       "    .dataframe tbody tr th {\n",
       "        vertical-align: top;\n",
       "    }\n",
       "\n",
       "    .dataframe thead th {\n",
       "        text-align: right;\n",
       "    }\n",
       "</style>\n",
       "<table border=\"1\" class=\"dataframe\">\n",
       "  <thead>\n",
       "    <tr style=\"text-align: right;\">\n",
       "      <th></th>\n",
       "      <th>b</th>\n",
       "      <th>c</th>\n",
       "      <th>d</th>\n",
       "      <th>e</th>\n",
       "    </tr>\n",
       "  </thead>\n",
       "  <tbody>\n",
       "    <tr>\n",
       "      <th>0</th>\n",
       "      <td>1</td>\n",
       "      <td>2</td>\n",
       "      <td>3</td>\n",
       "      <td>4</td>\n",
       "    </tr>\n",
       "    <tr>\n",
       "      <th>1</th>\n",
       "      <td>5</td>\n",
       "      <td>6</td>\n",
       "      <td>7</td>\n",
       "      <td>8</td>\n",
       "    </tr>\n",
       "    <tr>\n",
       "      <th>2</th>\n",
       "      <td>9</td>\n",
       "      <td>8</td>\n",
       "      <td>7</td>\n",
       "      <td>6</td>\n",
       "    </tr>\n",
       "    <tr>\n",
       "      <th>3</th>\n",
       "      <td>5</td>\n",
       "      <td>4</td>\n",
       "      <td>3</td>\n",
       "      <td>2</td>\n",
       "    </tr>\n",
       "    <tr>\n",
       "      <th>4</th>\n",
       "      <td>1</td>\n",
       "      <td>2</td>\n",
       "      <td>3</td>\n",
       "      <td>4</td>\n",
       "    </tr>\n",
       "  </tbody>\n",
       "</table>\n",
       "</div>"
      ],
      "text/plain": [
       "   b  c  d  e\n",
       "0  1  2  3  4\n",
       "1  5  6  7  8\n",
       "2  9  8  7  6\n",
       "3  5  4  3  2\n",
       "4  1  2  3  4"
      ]
     },
     "execution_count": 36,
     "metadata": {},
     "output_type": "execute_result"
    }
   ],
   "source": [
    "# slide 212\n",
    "# a Series\n",
    "%reset -f\n",
    "import pandas as pd\n",
    "data=pd.read_csv('HT001a.csv', index_col=0, header=0)\n",
    "print(data)\n",
    "#data=data.append(pd.Series(1, index=data.columns),\n",
    "#data=data.append(pd.Series([1,2,3,4], index=data.columns),\n",
    "data=data.append(pd.Series(range(1,5), index=data.columns),\n",
    "                                        ignore_index=True)\n",
    "data"
   ]
  },
  {
   "cell_type": "code",
   "execution_count": 37,
   "metadata": {},
   "outputs": [
    {
     "name": "stdout",
     "output_type": "stream",
     "text": [
      "   b  c  d  e\n",
      "a            \n",
      "0  1  2  3  4\n",
      "1  5  6  7  8\n",
      "2  9  8  7  6\n",
      "3  5  4  3  2\n"
     ]
    },
    {
     "data": {
      "text/html": [
       "<div>\n",
       "<style scoped>\n",
       "    .dataframe tbody tr th:only-of-type {\n",
       "        vertical-align: middle;\n",
       "    }\n",
       "\n",
       "    .dataframe tbody tr th {\n",
       "        vertical-align: top;\n",
       "    }\n",
       "\n",
       "    .dataframe thead th {\n",
       "        text-align: right;\n",
       "    }\n",
       "</style>\n",
       "<table border=\"1\" class=\"dataframe\">\n",
       "  <thead>\n",
       "    <tr style=\"text-align: right;\">\n",
       "      <th></th>\n",
       "      <th>b</th>\n",
       "      <th>c</th>\n",
       "      <th>d</th>\n",
       "      <th>e</th>\n",
       "    </tr>\n",
       "  </thead>\n",
       "  <tbody>\n",
       "    <tr>\n",
       "      <th>0</th>\n",
       "      <td>1</td>\n",
       "      <td>2</td>\n",
       "      <td>3</td>\n",
       "      <td>4</td>\n",
       "    </tr>\n",
       "    <tr>\n",
       "      <th>1</th>\n",
       "      <td>5</td>\n",
       "      <td>6</td>\n",
       "      <td>7</td>\n",
       "      <td>8</td>\n",
       "    </tr>\n",
       "    <tr>\n",
       "      <th>2</th>\n",
       "      <td>9</td>\n",
       "      <td>8</td>\n",
       "      <td>7</td>\n",
       "      <td>6</td>\n",
       "    </tr>\n",
       "    <tr>\n",
       "      <th>3</th>\n",
       "      <td>5</td>\n",
       "      <td>4</td>\n",
       "      <td>3</td>\n",
       "      <td>2</td>\n",
       "    </tr>\n",
       "    <tr>\n",
       "      <th>0</th>\n",
       "      <td>1</td>\n",
       "      <td>2</td>\n",
       "      <td>3</td>\n",
       "      <td>4</td>\n",
       "    </tr>\n",
       "  </tbody>\n",
       "</table>\n",
       "</div>"
      ],
      "text/plain": [
       "   b  c  d  e\n",
       "0  1  2  3  4\n",
       "1  5  6  7  8\n",
       "2  9  8  7  6\n",
       "3  5  4  3  2\n",
       "0  1  2  3  4"
      ]
     },
     "execution_count": 37,
     "metadata": {},
     "output_type": "execute_result"
    }
   ],
   "source": [
    "# slide 213\n",
    "# a list of Serieses\n",
    "%reset -f\n",
    "import pandas as pd\n",
    "data=pd.read_csv('HT001a.csv', index_col=0, header=0)\n",
    "print(data)\n",
    "#data=data.append([pd.Series(1, index=data.columns)])\n",
    "#data=data.append([pd.Series([1,2,3,4], index=data.columns)])\n",
    "data=data.append([pd.Series(range(1,5), index=data.columns)])\n",
    "data"
   ]
  },
  {
   "cell_type": "code",
   "execution_count": 38,
   "metadata": {},
   "outputs": [
    {
     "name": "stdout",
     "output_type": "stream",
     "text": [
      "   b  c  d  e\n",
      "a            \n",
      "0  1  2  3  4\n",
      "1  5  6  7  8\n",
      "2  9  8  7  6\n",
      "3  5  4  3  2\n"
     ]
    },
    {
     "data": {
      "text/html": [
       "<div>\n",
       "<style scoped>\n",
       "    .dataframe tbody tr th:only-of-type {\n",
       "        vertical-align: middle;\n",
       "    }\n",
       "\n",
       "    .dataframe tbody tr th {\n",
       "        vertical-align: top;\n",
       "    }\n",
       "\n",
       "    .dataframe thead th {\n",
       "        text-align: right;\n",
       "    }\n",
       "</style>\n",
       "<table border=\"1\" class=\"dataframe\">\n",
       "  <thead>\n",
       "    <tr style=\"text-align: right;\">\n",
       "      <th></th>\n",
       "      <th>b</th>\n",
       "      <th>c</th>\n",
       "      <th>d</th>\n",
       "      <th>e</th>\n",
       "    </tr>\n",
       "  </thead>\n",
       "  <tbody>\n",
       "    <tr>\n",
       "      <th>0</th>\n",
       "      <td>1</td>\n",
       "      <td>2</td>\n",
       "      <td>3</td>\n",
       "      <td>4</td>\n",
       "    </tr>\n",
       "    <tr>\n",
       "      <th>1</th>\n",
       "      <td>5</td>\n",
       "      <td>6</td>\n",
       "      <td>7</td>\n",
       "      <td>8</td>\n",
       "    </tr>\n",
       "    <tr>\n",
       "      <th>2</th>\n",
       "      <td>9</td>\n",
       "      <td>8</td>\n",
       "      <td>7</td>\n",
       "      <td>6</td>\n",
       "    </tr>\n",
       "    <tr>\n",
       "      <th>3</th>\n",
       "      <td>5</td>\n",
       "      <td>4</td>\n",
       "      <td>3</td>\n",
       "      <td>2</td>\n",
       "    </tr>\n",
       "    <tr>\n",
       "      <th>100</th>\n",
       "      <td>1</td>\n",
       "      <td>2</td>\n",
       "      <td>3</td>\n",
       "      <td>4</td>\n",
       "    </tr>\n",
       "  </tbody>\n",
       "</table>\n",
       "</div>"
      ],
      "text/plain": [
       "     b  c  d  e\n",
       "0    1  2  3  4\n",
       "1    5  6  7  8\n",
       "2    9  8  7  6\n",
       "3    5  4  3  2\n",
       "100  1  2  3  4"
      ]
     },
     "execution_count": 38,
     "metadata": {},
     "output_type": "execute_result"
    }
   ],
   "source": [
    "# slide 214\n",
    "# a DataFrame\n",
    "%reset -f\n",
    "import pandas as pd\n",
    "import numpy as np\n",
    "data=pd.read_csv('HT001a.csv', index_col=0, header=0)\n",
    "print(data)\n",
    "#data=data.append(pd.DataFrame(1, \n",
    "#data=data.append(pd.DataFrame([[i for i in range(1,5)]], \n",
    "data=data.append(pd.DataFrame(np.arange(1,5).reshape(1,4), \n",
    "                              columns=data.columns,\n",
    "                              index=[100]))\n",
    "data"
   ]
  },
  {
   "cell_type": "markdown",
   "metadata": {},
   "source": [
    "## HT006: Delete a row/column in `data`."
   ]
  },
  {
   "cell_type": "code",
   "execution_count": 39,
   "metadata": {},
   "outputs": [
    {
     "name": "stdout",
     "output_type": "stream",
     "text": [
      "   b  c  d  e\n",
      "a            \n",
      "0  1  2  3  4\n",
      "1  5  6  7  8\n",
      "2  9  8  7  6\n",
      "3  5  4  3  2\n",
      "   c  d  e\n",
      "a         \n",
      "0  2  3  4\n",
      "1  6  7  8\n",
      "2  8  7  6\n",
      "3  4  3  2\n",
      "   d  e\n",
      "a      \n",
      "0  3  4\n",
      "1  7  8\n",
      "2  7  6\n",
      "3  3  2\n",
      "   e\n",
      "a   \n",
      "0  4\n",
      "1  8\n",
      "2  6\n",
      "3  2\n"
     ]
    }
   ],
   "source": [
    "# slide 217\n",
    "%reset -f\n",
    "import pandas as pd\n",
    "data=pd.read_csv('HT001a.csv', index_col=0, header=0)\n",
    "print(data)\n",
    "del data['b'] #or del data[data.columns[0]]\n",
    "print(data)\n",
    "data.drop('c', axis=1, inplace=True)\n",
    "print(data)\n",
    "data.drop(data.columns[0], axis=1, inplace=True)\n",
    "print(data)"
   ]
  },
  {
   "cell_type": "code",
   "execution_count": 40,
   "metadata": {},
   "outputs": [
    {
     "name": "stdout",
     "output_type": "stream",
     "text": [
      "   b  c  d  e\n",
      "a            \n",
      "0  1  2  3  4\n",
      "1  5  6  7  8\n",
      "2  9  8  7  6\n",
      "3  5  4  3  2\n",
      "   b  c  d  e\n",
      "a            \n",
      "1  5  6  7  8\n",
      "2  9  8  7  6\n",
      "3  5  4  3  2\n",
      "   b  c  d  e\n",
      "a            \n",
      "2  9  8  7  6\n",
      "3  5  4  3  2\n"
     ]
    }
   ],
   "source": [
    "# slide 219\n",
    "%reset -f\n",
    "import pandas as pd\n",
    "data=pd.read_csv('HT001a.csv', index_col=0, header=0)\n",
    "print(data)\n",
    "data.drop(0, inplace=True)\n",
    "print(data)\n",
    "data.drop(data.index[0], inplace=True)\n",
    "print(data)"
   ]
  },
  {
   "cell_type": "markdown",
   "metadata": {},
   "source": [
    "## How to swap two values in variables `a` and `b`"
   ]
  },
  {
   "cell_type": "code",
   "execution_count": 41,
   "metadata": {},
   "outputs": [
    {
     "data": {
      "text/plain": [
       "(2, 2)"
      ]
     },
     "execution_count": 41,
     "metadata": {},
     "output_type": "execute_result"
    }
   ],
   "source": [
    "# slide 223\n",
    "a=1\n",
    "b=2\n",
    "a=b\n",
    "b=a\n",
    "a,b"
   ]
  },
  {
   "cell_type": "code",
   "execution_count": 42,
   "metadata": {},
   "outputs": [
    {
     "data": {
      "text/plain": [
       "(2, 1)"
      ]
     },
     "execution_count": 42,
     "metadata": {},
     "output_type": "execute_result"
    }
   ],
   "source": [
    "# slide 224\n",
    "a=1\n",
    "b=2\n",
    "temp=a\n",
    "a=b\n",
    "b=temp\n",
    "a,b"
   ]
  },
  {
   "cell_type": "code",
   "execution_count": 43,
   "metadata": {},
   "outputs": [
    {
     "data": {
      "text/plain": [
       "(2, 1)"
      ]
     },
     "execution_count": 43,
     "metadata": {},
     "output_type": "execute_result"
    }
   ],
   "source": [
    "# slide 225\n",
    "a=1\n",
    "b=2\n",
    "a, b=b, a\n",
    "a,b"
   ]
  },
  {
   "cell_type": "markdown",
   "metadata": {},
   "source": [
    "## HT007: Swap two rows/columns in `data`"
   ]
  },
  {
   "cell_type": "code",
   "execution_count": 44,
   "metadata": {},
   "outputs": [
    {
     "name": "stdout",
     "output_type": "stream",
     "text": [
      "   b  c  d  e\n",
      "a            \n",
      "0  1  2  3  4\n",
      "1  5  6  7  8\n",
      "2  9  8  7  6\n",
      "3  5  4  3  2\n",
      "   b  c  d  e\n",
      "a            \n",
      "0  2  2  3  4\n",
      "1  6  6  7  8\n",
      "2  8  8  7  6\n",
      "3  4  4  3  2\n"
     ]
    }
   ],
   "source": [
    "# slide 227\n",
    "# A wrong answer to swap two columns\n",
    "import pandas as pd\n",
    "data=pd.read_csv('HT001a.csv', index_col=0, header=0)\n",
    "print(data)\n",
    "temp=data['b']\n",
    "data['b']=data['c']\n",
    "data['c']=temp\n",
    "print(data)"
   ]
  },
  {
   "cell_type": "code",
   "execution_count": 45,
   "metadata": {},
   "outputs": [
    {
     "name": "stdout",
     "output_type": "stream",
     "text": [
      "   b  c  d  e\n",
      "a            \n",
      "0  1  2  3  4\n",
      "1  5  6  7  8\n",
      "2  9  8  7  6\n",
      "3  5  4  3  2\n",
      "   b  c  d  e\n",
      "a            \n",
      "0  2  2  3  4\n",
      "1  6  6  7  8\n",
      "2  8  8  7  6\n",
      "3  4  4  3  2\n"
     ]
    }
   ],
   "source": [
    "# slide 228\n",
    "# Another wrong answer to swap to columns\n",
    "import pandas as pd\n",
    "data=pd.read_csv('HT001a.csv', index_col=0, header=0)\n",
    "print(data)\n",
    "data['b'], data['c']=data['c'], data['b']\n",
    "print(data)"
   ]
  },
  {
   "cell_type": "code",
   "execution_count": 46,
   "metadata": {},
   "outputs": [
    {
     "data": {
      "text/html": [
       "<div>\n",
       "<style scoped>\n",
       "    .dataframe tbody tr th:only-of-type {\n",
       "        vertical-align: middle;\n",
       "    }\n",
       "\n",
       "    .dataframe tbody tr th {\n",
       "        vertical-align: top;\n",
       "    }\n",
       "\n",
       "    .dataframe thead th {\n",
       "        text-align: right;\n",
       "    }\n",
       "</style>\n",
       "<table border=\"1\" class=\"dataframe\">\n",
       "  <thead>\n",
       "    <tr style=\"text-align: right;\">\n",
       "      <th></th>\n",
       "      <th>b</th>\n",
       "      <th>c</th>\n",
       "      <th>d</th>\n",
       "      <th>e</th>\n",
       "    </tr>\n",
       "    <tr>\n",
       "      <th>a</th>\n",
       "      <th></th>\n",
       "      <th></th>\n",
       "      <th></th>\n",
       "      <th></th>\n",
       "    </tr>\n",
       "  </thead>\n",
       "  <tbody>\n",
       "    <tr>\n",
       "      <th>0</th>\n",
       "      <td>100</td>\n",
       "      <td>2</td>\n",
       "      <td>3</td>\n",
       "      <td>4</td>\n",
       "    </tr>\n",
       "    <tr>\n",
       "      <th>1</th>\n",
       "      <td>5</td>\n",
       "      <td>6</td>\n",
       "      <td>7</td>\n",
       "      <td>8</td>\n",
       "    </tr>\n",
       "    <tr>\n",
       "      <th>2</th>\n",
       "      <td>9</td>\n",
       "      <td>8</td>\n",
       "      <td>7</td>\n",
       "      <td>6</td>\n",
       "    </tr>\n",
       "    <tr>\n",
       "      <th>3</th>\n",
       "      <td>5</td>\n",
       "      <td>4</td>\n",
       "      <td>3</td>\n",
       "      <td>2</td>\n",
       "    </tr>\n",
       "  </tbody>\n",
       "</table>\n",
       "</div>"
      ],
      "text/plain": [
       "     b  c  d  e\n",
       "a              \n",
       "0  100  2  3  4\n",
       "1    5  6  7  8\n",
       "2    9  8  7  6\n",
       "3    5  4  3  2"
      ]
     },
     "execution_count": 46,
     "metadata": {},
     "output_type": "execute_result"
    }
   ],
   "source": [
    "# slide 229\n",
    "import pandas as pd\n",
    "data=pd.read_csv('HT001a.csv', index_col=0, header=0)\n",
    "temp=data['b']\n",
    "temp[0]=100\n",
    "data"
   ]
  },
  {
   "cell_type": "code",
   "execution_count": 47,
   "metadata": {},
   "outputs": [
    {
     "data": {
      "text/html": [
       "<div>\n",
       "<style scoped>\n",
       "    .dataframe tbody tr th:only-of-type {\n",
       "        vertical-align: middle;\n",
       "    }\n",
       "\n",
       "    .dataframe tbody tr th {\n",
       "        vertical-align: top;\n",
       "    }\n",
       "\n",
       "    .dataframe thead th {\n",
       "        text-align: right;\n",
       "    }\n",
       "</style>\n",
       "<table border=\"1\" class=\"dataframe\">\n",
       "  <thead>\n",
       "    <tr style=\"text-align: right;\">\n",
       "      <th></th>\n",
       "      <th>b</th>\n",
       "      <th>c</th>\n",
       "      <th>d</th>\n",
       "      <th>e</th>\n",
       "    </tr>\n",
       "    <tr>\n",
       "      <th>a</th>\n",
       "      <th></th>\n",
       "      <th></th>\n",
       "      <th></th>\n",
       "      <th></th>\n",
       "    </tr>\n",
       "  </thead>\n",
       "  <tbody>\n",
       "    <tr>\n",
       "      <th>0</th>\n",
       "      <td>2</td>\n",
       "      <td>2</td>\n",
       "      <td>3</td>\n",
       "      <td>4</td>\n",
       "    </tr>\n",
       "    <tr>\n",
       "      <th>1</th>\n",
       "      <td>6</td>\n",
       "      <td>6</td>\n",
       "      <td>7</td>\n",
       "      <td>8</td>\n",
       "    </tr>\n",
       "    <tr>\n",
       "      <th>2</th>\n",
       "      <td>8</td>\n",
       "      <td>8</td>\n",
       "      <td>7</td>\n",
       "      <td>6</td>\n",
       "    </tr>\n",
       "    <tr>\n",
       "      <th>3</th>\n",
       "      <td>4</td>\n",
       "      <td>4</td>\n",
       "      <td>3</td>\n",
       "      <td>2</td>\n",
       "    </tr>\n",
       "  </tbody>\n",
       "</table>\n",
       "</div>"
      ],
      "text/plain": [
       "   b  c  d  e\n",
       "a            \n",
       "0  2  2  3  4\n",
       "1  6  6  7  8\n",
       "2  8  8  7  6\n",
       "3  4  4  3  2"
      ]
     },
     "execution_count": 47,
     "metadata": {},
     "output_type": "execute_result"
    }
   ],
   "source": [
    "# slide 230 (1)\n",
    "import pandas as pd\n",
    "data=pd.read_csv('HT001a.csv', index_col=0, header=0)\n",
    "temp=data['b']\n",
    "data['b']=data['c']\n",
    "data"
   ]
  },
  {
   "cell_type": "code",
   "execution_count": 48,
   "metadata": {},
   "outputs": [
    {
     "data": {
      "text/plain": [
       "a\n",
       "0    2\n",
       "1    6\n",
       "2    8\n",
       "3    4\n",
       "Name: b, dtype: int64"
      ]
     },
     "execution_count": 48,
     "metadata": {},
     "output_type": "execute_result"
    }
   ],
   "source": [
    "# slide 230 (2)\n",
    "temp"
   ]
  },
  {
   "cell_type": "code",
   "execution_count": 49,
   "metadata": {},
   "outputs": [
    {
     "name": "stdout",
     "output_type": "stream",
     "text": [
      "[[1, 2], [3, 4]]\n",
      "[[3, 4], [3, 4]]\n",
      "[[100, 4], [100, 4]]\n"
     ]
    }
   ],
   "source": [
    "# slide 232 (1)\n",
    "data=[[1,2],[3,4]]\n",
    "print(data)\n",
    "data[0]=data[1]\n",
    "print(data)\n",
    "data[0][0]=100\n",
    "print(data)"
   ]
  },
  {
   "cell_type": "code",
   "execution_count": 50,
   "metadata": {},
   "outputs": [
    {
     "name": "stdout",
     "output_type": "stream",
     "text": [
      "[[1 2]\n",
      " [3 4]]\n",
      "[[3 4]\n",
      " [3 4]]\n",
      "[[100   4]\n",
      " [  3   4]]\n"
     ]
    }
   ],
   "source": [
    "# slide 232 (2)\n",
    "import numpy as np\n",
    "x=[[1,2],[3,4]]\n",
    "data=np.array(x)\n",
    "print(data)\n",
    "data[0]=data[1]\n",
    "print(data)\n",
    "data[0][0]=100\n",
    "print(data)"
   ]
  },
  {
   "cell_type": "code",
   "execution_count": 51,
   "metadata": {},
   "outputs": [
    {
     "name": "stdout",
     "output_type": "stream",
     "text": [
      "   0  1\n",
      "0  1  2\n",
      "1  3  4\n",
      "   0  1\n",
      "0  3  4\n",
      "1  3  4\n",
      "     0  1\n",
      "0  100  4\n",
      "1    3  4\n"
     ]
    }
   ],
   "source": [
    "# slide 232 (3)\n",
    "import pandas as pd\n",
    "x=[[1,2],[3,4]]\n",
    "data=pd.DataFrame(x)\n",
    "print(data)\n",
    "data.iloc[0]=data.iloc[1]\n",
    "print(data)\n",
    "data.iloc[0][0]=100\n",
    "print(data)"
   ]
  },
  {
   "cell_type": "code",
   "execution_count": 52,
   "metadata": {},
   "outputs": [
    {
     "name": "stdout",
     "output_type": "stream",
     "text": [
      "[[1 2]\n",
      " [3 4]]\n",
      "[[3 4]\n",
      " [3 4]]\n"
     ]
    }
   ],
   "source": [
    "# A wrong attempt: Numpy swap two rows\n",
    "import numpy as np\n",
    "x=[[1,2],[3,4]]\n",
    "data=np.array(x)\n",
    "print(data)\n",
    "temp=data[0]\n",
    "data[0]=data[1]\n",
    "data[1]=temp\n",
    "print(data)"
   ]
  },
  {
   "cell_type": "code",
   "execution_count": 53,
   "metadata": {},
   "outputs": [
    {
     "name": "stdout",
     "output_type": "stream",
     "text": [
      "[[1 2]\n",
      " [3 4]]\n",
      "[[3 4]\n",
      " [1 2]]\n"
     ]
    }
   ],
   "source": [
    "# Numpy swap two rows\n",
    "import numpy as np\n",
    "x=[[1,2],[3,4]]\n",
    "data=np.array(x)\n",
    "print(data)\n",
    "temp=data[0].copy()\n",
    "data[0]=data[1]\n",
    "data[1]=temp\n",
    "print(data)"
   ]
  },
  {
   "cell_type": "code",
   "execution_count": 54,
   "metadata": {},
   "outputs": [
    {
     "name": "stdout",
     "output_type": "stream",
     "text": [
      "   b  c  d  e\n",
      "a            \n",
      "0  1  2  3  4\n",
      "1  5  6  7  8\n",
      "2  9  8  7  6\n",
      "3  5  4  3  2\n",
      "   b  c  d  e\n",
      "a            \n",
      "0  2  1  3  4\n",
      "1  6  5  7  8\n",
      "2  8  9  7  6\n",
      "3  4  5  3  2\n"
     ]
    }
   ],
   "source": [
    "# slide 233 (1)\n",
    "# swap two columns (1)\n",
    "import pandas as pd\n",
    "data=pd.read_csv('HT001a.csv', index_col=0, header=0)\n",
    "print(data)\n",
    "temp=data['b'].copy()\n",
    "data['b']=data['c']\n",
    "data['c']=temp\n",
    "print(data)"
   ]
  },
  {
   "cell_type": "code",
   "execution_count": 55,
   "metadata": {},
   "outputs": [
    {
     "name": "stdout",
     "output_type": "stream",
     "text": [
      "   b  c  d  e\n",
      "a            \n",
      "0  1  2  3  4\n",
      "1  5  6  7  8\n",
      "2  9  8  7  6\n",
      "3  5  4  3  2\n",
      "   b  c  d  e\n",
      "a            \n",
      "0  2  1  3  4\n",
      "1  6  5  7  8\n",
      "2  8  9  7  6\n",
      "3  4  5  3  2\n"
     ]
    }
   ],
   "source": [
    "# slide 233 (2)\n",
    "# swap two columns (2)\n",
    "import pandas as pd\n",
    "data=pd.read_csv('HT001a.csv', index_col=0, header=0)\n",
    "print(data)\n",
    "data['b'], data['c']=data['c'].copy(), data['b'].copy()\n",
    "print(data)"
   ]
  },
  {
   "cell_type": "code",
   "execution_count": 56,
   "metadata": {},
   "outputs": [
    {
     "name": "stdout",
     "output_type": "stream",
     "text": [
      "   b  c  d  e\n",
      "a            \n",
      "0  1  2  3  4\n",
      "1  5  6  7  8\n",
      "2  9  8  7  6\n",
      "3  5  4  3  2\n",
      "   b  c  d  e\n",
      "a            \n",
      "0  2  1  3  4\n",
      "1  6  5  7  8\n",
      "2  8  9  7  6\n",
      "3  4  5  3  2\n"
     ]
    }
   ],
   "source": [
    "# slide 234\n",
    "# swap two columns (3)\n",
    "import pandas as pd\n",
    "data=pd.read_csv('HT001a.csv', index_col=0, header=0)\n",
    "print(data)\n",
    "data['b'], data['c']=data['c'], data['b'].copy()\n",
    "print(data)"
   ]
  },
  {
   "cell_type": "code",
   "execution_count": 57,
   "metadata": {},
   "outputs": [
    {
     "name": "stdout",
     "output_type": "stream",
     "text": [
      "   b  c  d  e\n",
      "a            \n",
      "0  1  2  3  4\n",
      "1  5  6  7  8\n",
      "2  9  8  7  6\n",
      "3  5  4  3  2\n",
      "   b  c  d  e\n",
      "a            \n",
      "0  2  2  3  4\n",
      "1  6  6  7  8\n",
      "2  8  8  7  6\n",
      "3  4  4  3  2\n"
     ]
    }
   ],
   "source": [
    "# slide 235\n",
    "# swap two columns (?)\n",
    "import pandas as pd\n",
    "data=pd.read_csv('HT001a.csv', index_col=0, header=0)\n",
    "print(data)\n",
    "data['b'], data['c']=data['c'].copy(), data['b']\n",
    "print(data)"
   ]
  },
  {
   "cell_type": "code",
   "execution_count": 58,
   "metadata": {},
   "outputs": [
    {
     "name": "stdout",
     "output_type": "stream",
     "text": [
      "   b  c  d  e\n",
      "a            \n",
      "0  1  2  3  4\n",
      "1  5  6  7  8\n",
      "2  9  8  7  6\n",
      "3  5  4  3  2\n",
      "   b  c  d  e\n",
      "a            \n",
      "0  2  1  3  4\n",
      "1  6  5  7  8\n",
      "2  8  9  7  6\n",
      "3  4  5  3  2\n"
     ]
    }
   ],
   "source": [
    "# slide 236\n",
    "# swap two columns (4)\n",
    "import pandas as pd\n",
    "data=pd.read_csv('HT001a.csv', index_col=0, header=0)\n",
    "print(data)\n",
    "data[['b','c']]=data[['c','b']] #.copy()\n",
    "print(data)"
   ]
  },
  {
   "cell_type": "code",
   "execution_count": 59,
   "metadata": {},
   "outputs": [
    {
     "name": "stdout",
     "output_type": "stream",
     "text": [
      "   b  c  d  e\n",
      "a            \n",
      "0  1  2  3  4\n",
      "1  5  6  7  8\n",
      "2  9  8  7  6\n",
      "3  5  4  3  2\n",
      "   b  c  d  e\n",
      "a            \n",
      "0  2  1  3  4\n",
      "1  6  5  7  8\n",
      "2  8  9  7  6\n",
      "3  4  5  3  2\n"
     ]
    }
   ],
   "source": [
    "# slide 237\n",
    "# swap two columns (5)\n",
    "import pandas as pd\n",
    "data=pd.read_csv('HT001a.csv', index_col=0, header=0)\n",
    "print(data)\n",
    "data[['b','c']]=data.loc[:,['c','b']] #.copy()\n",
    "print(data)"
   ]
  },
  {
   "cell_type": "code",
   "execution_count": 60,
   "metadata": {
    "scrolled": true
   },
   "outputs": [
    {
     "name": "stdout",
     "output_type": "stream",
     "text": [
      "   b  c  d  e\n",
      "a            \n",
      "0  1  2  3  4\n",
      "1  5  6  7  8\n",
      "2  9  8  7  6\n",
      "3  5  4  3  2\n",
      "   b  c  d  e\n",
      "a            \n",
      "0  1  2  3  4\n",
      "1  5  6  7  8\n",
      "2  9  8  7  6\n",
      "3  5  4  3  2\n"
     ]
    }
   ],
   "source": [
    "# slide 238\n",
    "# Another wrong answer to swap to columns\n",
    "import pandas as pd\n",
    "data=pd.read_csv('HT001a.csv', index_col=0, header=0)\n",
    "print(data)\n",
    "data.loc[:,['b','c']]=data.loc[:,['c','b']] #.copy()\n",
    "print(data)"
   ]
  },
  {
   "cell_type": "code",
   "execution_count": 61,
   "metadata": {},
   "outputs": [
    {
     "name": "stdout",
     "output_type": "stream",
     "text": [
      "   b  c  d  e\n",
      "a            \n",
      "0  1  2  3  4\n",
      "1  5  6  7  8\n",
      "2  9  8  7  6\n",
      "3  5  4  3  2\n",
      "   b  c  d  e\n",
      "a            \n",
      "0  1  2  3  4\n",
      "1  5  6  7  8\n",
      "2  9  8  7  6\n",
      "3  5  4  3  2\n"
     ]
    }
   ],
   "source": [
    "# slide 239\n",
    "# Another wrong answer to swap to columns\n",
    "import pandas as pd\n",
    "data=pd.read_csv('HT001a.csv', index_col=0, header=0)\n",
    "print(data)\n",
    "data.loc[:,['b','c']]=data[['c','b']] #.copy()\n",
    "print(data)"
   ]
  },
  {
   "cell_type": "code",
   "execution_count": 62,
   "metadata": {
    "scrolled": true
   },
   "outputs": [
    {
     "name": "stdout",
     "output_type": "stream",
     "text": [
      "   b  c  d  e\n",
      "a            \n",
      "0  1  2  3  4\n",
      "1  5  6  7  8\n",
      "2  9  8  7  6\n",
      "3  5  4  3  2\n",
      "   b  c  d  e\n",
      "a            \n",
      "0  2  1  3  4\n",
      "1  6  5  7  8\n",
      "2  8  9  7  6\n",
      "3  4  5  3  2\n"
     ]
    }
   ],
   "source": [
    "# slide 240\n",
    "# swap two columns (6)\n",
    "import pandas as pd\n",
    "data=pd.read_csv('HT001a.csv', index_col=0, header=0)\n",
    "print(data)\n",
    "data.loc[:,['b','c']]=data.loc[:,['c','b']].values #.copy()\n",
    "print(data)"
   ]
  },
  {
   "cell_type": "code",
   "execution_count": 63,
   "metadata": {},
   "outputs": [
    {
     "name": "stdout",
     "output_type": "stream",
     "text": [
      "   b  c  d  e\n",
      "a            \n",
      "0  1  2  3  4\n",
      "1  5  6  7  8\n",
      "2  9  8  7  6\n",
      "3  5  4  3  2\n",
      "   b  c  d  e\n",
      "a            \n",
      "0  2  1  3  4\n",
      "1  6  5  7  8\n",
      "2  8  9  7  6\n",
      "3  4  5  3  2\n"
     ]
    }
   ],
   "source": [
    "# slide 241\n",
    "# swap two columns (7)\n",
    "import pandas as pd\n",
    "data=pd.read_csv('HT001a.csv', index_col=0, header=0)\n",
    "print(data)\n",
    "data.loc[:,['b','c']]=data[['c','b']].values #.copy()\n",
    "print(data)"
   ]
  },
  {
   "cell_type": "code",
   "execution_count": 64,
   "metadata": {},
   "outputs": [
    {
     "name": "stdout",
     "output_type": "stream",
     "text": [
      "   b  c  d  e\n",
      "a            \n",
      "0  1  2  3  4\n",
      "1  5  6  7  8\n",
      "2  9  8  7  6\n",
      "3  5  4  3  2\n",
      "   b  c  d  e\n",
      "a            \n",
      "0  5  6  7  8\n",
      "1  1  2  3  4\n",
      "2  9  8  7  6\n",
      "3  5  4  3  2\n"
     ]
    }
   ],
   "source": [
    "# slide 244 (1)\n",
    "# swap two rows (1)\n",
    "import pandas as pd\n",
    "data=pd.read_csv('HT001a.csv', index_col=0, header=0)\n",
    "print(data)\n",
    "data.loc[[0,1],:]=data.loc[[1,0],:].values #.copy()\n",
    "print(data)"
   ]
  },
  {
   "cell_type": "code",
   "execution_count": 65,
   "metadata": {},
   "outputs": [
    {
     "name": "stdout",
     "output_type": "stream",
     "text": [
      "   b  c  d  e\n",
      "a            \n",
      "0  1  2  3  4\n",
      "1  5  6  7  8\n",
      "2  9  8  7  6\n",
      "3  5  4  3  2\n",
      "   b  c  d  e\n",
      "a            \n",
      "0  5  6  7  8\n",
      "1  1  2  3  4\n",
      "2  9  8  7  6\n",
      "3  5  4  3  2\n"
     ]
    }
   ],
   "source": [
    "# slide 244 (2)\n",
    "# swap two rows (2)\n",
    "import pandas as pd\n",
    "data=pd.read_csv('HT001a.csv', index_col=0, header=0)\n",
    "print(data)\n",
    "data.iloc[[0,1],:]=data.iloc[[1,0],:].values #.copy()\n",
    "print(data)"
   ]
  },
  {
   "cell_type": "markdown",
   "metadata": {},
   "source": [
    "## HT008: Apply a function to each row/column of `data`."
   ]
  },
  {
   "cell_type": "code",
   "execution_count": 66,
   "metadata": {},
   "outputs": [
    {
     "name": "stdout",
     "output_type": "stream",
     "text": [
      "   b  c  d  e\n",
      "a            \n",
      "0  1  2  3  4\n",
      "1  5  6  7  8\n",
      "2  9  8  7  6\n",
      "3  5  4  3  2\n"
     ]
    },
    {
     "data": {
      "text/html": [
       "<div>\n",
       "<style scoped>\n",
       "    .dataframe tbody tr th:only-of-type {\n",
       "        vertical-align: middle;\n",
       "    }\n",
       "\n",
       "    .dataframe tbody tr th {\n",
       "        vertical-align: top;\n",
       "    }\n",
       "\n",
       "    .dataframe thead th {\n",
       "        text-align: right;\n",
       "    }\n",
       "</style>\n",
       "<table border=\"1\" class=\"dataframe\">\n",
       "  <thead>\n",
       "    <tr style=\"text-align: right;\">\n",
       "      <th></th>\n",
       "      <th>b</th>\n",
       "      <th>c</th>\n",
       "      <th>d</th>\n",
       "      <th>e</th>\n",
       "    </tr>\n",
       "    <tr>\n",
       "      <th>a</th>\n",
       "      <th></th>\n",
       "      <th></th>\n",
       "      <th></th>\n",
       "      <th></th>\n",
       "    </tr>\n",
       "  </thead>\n",
       "  <tbody>\n",
       "    <tr>\n",
       "      <th>0</th>\n",
       "      <td>1.000000</td>\n",
       "      <td>1.414214</td>\n",
       "      <td>1.732051</td>\n",
       "      <td>2.000000</td>\n",
       "    </tr>\n",
       "    <tr>\n",
       "      <th>1</th>\n",
       "      <td>2.236068</td>\n",
       "      <td>2.449490</td>\n",
       "      <td>2.645751</td>\n",
       "      <td>2.828427</td>\n",
       "    </tr>\n",
       "    <tr>\n",
       "      <th>2</th>\n",
       "      <td>3.000000</td>\n",
       "      <td>2.828427</td>\n",
       "      <td>2.645751</td>\n",
       "      <td>2.449490</td>\n",
       "    </tr>\n",
       "    <tr>\n",
       "      <th>3</th>\n",
       "      <td>2.236068</td>\n",
       "      <td>2.000000</td>\n",
       "      <td>1.732051</td>\n",
       "      <td>1.414214</td>\n",
       "    </tr>\n",
       "  </tbody>\n",
       "</table>\n",
       "</div>"
      ],
      "text/plain": [
       "          b         c         d         e\n",
       "a                                        \n",
       "0  1.000000  1.414214  1.732051  2.000000\n",
       "1  2.236068  2.449490  2.645751  2.828427\n",
       "2  3.000000  2.828427  2.645751  2.449490\n",
       "3  2.236068  2.000000  1.732051  1.414214"
      ]
     },
     "execution_count": 66,
     "metadata": {},
     "output_type": "execute_result"
    }
   ],
   "source": [
    "# slide 252\n",
    "#A Numpy universal function\n",
    "import pandas as pd\n",
    "import numpy as np\n",
    "data=pd.read_csv('HT001a.csv', index_col=0, header=0)\n",
    "print(data)\n",
    "data.apply(np.sqrt)\n",
    "#np.sqrt(data)"
   ]
  },
  {
   "cell_type": "code",
   "execution_count": 67,
   "metadata": {},
   "outputs": [
    {
     "name": "stdout",
     "output_type": "stream",
     "text": [
      "   b  c  d  e\n",
      "a            \n",
      "0  1  2  3  4\n",
      "1  5  6  7  8\n",
      "2  9  8  7  6\n",
      "3  5  4  3  2\n"
     ]
    },
    {
     "data": {
      "text/plain": [
       "b    20\n",
       "c    20\n",
       "d    20\n",
       "e    20\n",
       "dtype: int64"
      ]
     },
     "execution_count": 67,
     "metadata": {},
     "output_type": "execute_result"
    }
   ],
   "source": [
    "# slide 253\n",
    "#A reducing function, axis=0\n",
    "import pandas as pd\n",
    "import numpy as np\n",
    "data=pd.read_csv('HT001a.csv', index_col=0, header=0)\n",
    "print(data)\n",
    "data.apply(np.sum,axis=0)"
   ]
  },
  {
   "cell_type": "code",
   "execution_count": 68,
   "metadata": {},
   "outputs": [
    {
     "name": "stdout",
     "output_type": "stream",
     "text": [
      "   b  c  d  e\n",
      "a            \n",
      "0  1  2  3  4\n",
      "1  5  6  7  8\n",
      "2  9  8  7  6\n",
      "3  5  4  3  2\n"
     ]
    },
    {
     "data": {
      "text/plain": [
       "a\n",
       "0    10\n",
       "1    26\n",
       "2    30\n",
       "3    14\n",
       "dtype: int64"
      ]
     },
     "execution_count": 68,
     "metadata": {},
     "output_type": "execute_result"
    }
   ],
   "source": [
    "# slide 254\n",
    "#A reducing function, axis=1\n",
    "import pandas as pd\n",
    "import numpy as np\n",
    "data=pd.read_csv('HT001a.csv', index_col=0, header=0)\n",
    "print(data)\n",
    "data.apply(np.sum,axis=1)"
   ]
  },
  {
   "cell_type": "code",
   "execution_count": 69,
   "metadata": {
    "scrolled": true
   },
   "outputs": [
    {
     "name": "stdout",
     "output_type": "stream",
     "text": [
      "   b  c  d  e\n",
      "a            \n",
      "0  1  2  3  4\n",
      "1  5  6  7  8\n",
      "2  9  8  7  6\n",
      "3  5  4  3  2\n"
     ]
    },
    {
     "data": {
      "text/plain": [
       "b    21\n",
       "c    24\n",
       "d    29\n",
       "e    36\n",
       "dtype: int64"
      ]
     },
     "execution_count": 69,
     "metadata": {},
     "output_type": "execute_result"
    }
   ],
   "source": [
    "# slide 255\n",
    "#using a user-defined function, axis=0, return a single number\n",
    "import pandas as pd\n",
    "import numpy as np\n",
    "data=pd.read_csv('HT001a.csv', index_col=0, header=0)\n",
    "print(data)\n",
    "data.apply(lambda x: x[0]**2+np.sum(x),axis=0)"
   ]
  },
  {
   "cell_type": "code",
   "execution_count": 70,
   "metadata": {},
   "outputs": [
    {
     "name": "stdout",
     "output_type": "stream",
     "text": [
      "   b  c  d  e\n",
      "a            \n",
      "0  1  2  3  4\n",
      "1  5  6  7  8\n",
      "2  9  8  7  6\n",
      "3  5  4  3  2\n"
     ]
    },
    {
     "data": {
      "text/plain": [
       "a\n",
       "0     [9, 14]\n",
       "1    [49, 62]\n",
       "2    [49, 94]\n",
       "3     [9, 30]\n",
       "dtype: object"
      ]
     },
     "execution_count": 70,
     "metadata": {},
     "output_type": "execute_result"
    }
   ],
   "source": [
    "# slide 256\n",
    "#using a user-defined function, axis=1, return a list\n",
    "import pandas as pd\n",
    "import numpy as np\n",
    "data=pd.read_csv('HT001a.csv', index_col=0, header=0)\n",
    "print(data)\n",
    "data.apply(lambda x: [x['d']**2, x['c']**2+np.sum(x)],axis=1)"
   ]
  },
  {
   "cell_type": "code",
   "execution_count": 71,
   "metadata": {},
   "outputs": [
    {
     "name": "stdout",
     "output_type": "stream",
     "text": [
      "   b  c  d  e\n",
      "a            \n",
      "0  1  2  3  4\n",
      "1  5  6  7  8\n",
      "2  9  8  7  6\n",
      "3  5  4  3  2\n"
     ]
    },
    {
     "data": {
      "text/html": [
       "<div>\n",
       "<style scoped>\n",
       "    .dataframe tbody tr th:only-of-type {\n",
       "        vertical-align: middle;\n",
       "    }\n",
       "\n",
       "    .dataframe tbody tr th {\n",
       "        vertical-align: top;\n",
       "    }\n",
       "\n",
       "    .dataframe thead th {\n",
       "        text-align: right;\n",
       "    }\n",
       "</style>\n",
       "<table border=\"1\" class=\"dataframe\">\n",
       "  <thead>\n",
       "    <tr style=\"text-align: right;\">\n",
       "      <th></th>\n",
       "      <th>0</th>\n",
       "      <th>1</th>\n",
       "    </tr>\n",
       "    <tr>\n",
       "      <th>a</th>\n",
       "      <th></th>\n",
       "      <th></th>\n",
       "    </tr>\n",
       "  </thead>\n",
       "  <tbody>\n",
       "    <tr>\n",
       "      <th>0</th>\n",
       "      <td>9</td>\n",
       "      <td>14</td>\n",
       "    </tr>\n",
       "    <tr>\n",
       "      <th>1</th>\n",
       "      <td>49</td>\n",
       "      <td>62</td>\n",
       "    </tr>\n",
       "    <tr>\n",
       "      <th>2</th>\n",
       "      <td>49</td>\n",
       "      <td>94</td>\n",
       "    </tr>\n",
       "    <tr>\n",
       "      <th>3</th>\n",
       "      <td>9</td>\n",
       "      <td>30</td>\n",
       "    </tr>\n",
       "  </tbody>\n",
       "</table>\n",
       "</div>"
      ],
      "text/plain": [
       "    0   1\n",
       "a        \n",
       "0   9  14\n",
       "1  49  62\n",
       "2  49  94\n",
       "3   9  30"
      ]
     },
     "execution_count": 71,
     "metadata": {},
     "output_type": "execute_result"
    }
   ],
   "source": [
    "# slide 257\n",
    "#using a user-defined function, axis=1, return a list, result_type='expand'\n",
    "import pandas as pd\n",
    "import numpy as np\n",
    "data=pd.read_csv('HT001a.csv', index_col=0, header=0)\n",
    "print(data)\n",
    "data.apply(lambda x: [x['d']**2, x['c']**2+np.sum(x)], \n",
    "                           axis=1, result_type='expand')"
   ]
  },
  {
   "cell_type": "code",
   "execution_count": 72,
   "metadata": {},
   "outputs": [
    {
     "name": "stdout",
     "output_type": "stream",
     "text": [
      "   b  c  d  e\n",
      "a            \n",
      "0  1  2  3  4\n",
      "1  5  6  7  8\n",
      "2  9  8  7  6\n",
      "3  5  4  3  2\n"
     ]
    },
    {
     "data": {
      "text/html": [
       "<div>\n",
       "<style scoped>\n",
       "    .dataframe tbody tr th:only-of-type {\n",
       "        vertical-align: middle;\n",
       "    }\n",
       "\n",
       "    .dataframe tbody tr th {\n",
       "        vertical-align: top;\n",
       "    }\n",
       "\n",
       "    .dataframe thead th {\n",
       "        text-align: right;\n",
       "    }\n",
       "</style>\n",
       "<table border=\"1\" class=\"dataframe\">\n",
       "  <thead>\n",
       "    <tr style=\"text-align: right;\">\n",
       "      <th></th>\n",
       "      <th>d**2</th>\n",
       "      <th>c**2+sum</th>\n",
       "    </tr>\n",
       "    <tr>\n",
       "      <th>a</th>\n",
       "      <th></th>\n",
       "      <th></th>\n",
       "    </tr>\n",
       "  </thead>\n",
       "  <tbody>\n",
       "    <tr>\n",
       "      <th>0</th>\n",
       "      <td>9</td>\n",
       "      <td>14</td>\n",
       "    </tr>\n",
       "    <tr>\n",
       "      <th>1</th>\n",
       "      <td>49</td>\n",
       "      <td>62</td>\n",
       "    </tr>\n",
       "    <tr>\n",
       "      <th>2</th>\n",
       "      <td>49</td>\n",
       "      <td>94</td>\n",
       "    </tr>\n",
       "    <tr>\n",
       "      <th>3</th>\n",
       "      <td>9</td>\n",
       "      <td>30</td>\n",
       "    </tr>\n",
       "  </tbody>\n",
       "</table>\n",
       "</div>"
      ],
      "text/plain": [
       "   d**2  c**2+sum\n",
       "a                \n",
       "0     9        14\n",
       "1    49        62\n",
       "2    49        94\n",
       "3     9        30"
      ]
     },
     "execution_count": 72,
     "metadata": {},
     "output_type": "execute_result"
    }
   ],
   "source": [
    "# slide 258\n",
    "#using a user-defined function, axis=1, return a Series\n",
    "import pandas as pd\n",
    "import numpy as np\n",
    "data=pd.read_csv('HT001a.csv', index_col=0, header=0)\n",
    "print(data)\n",
    "data.apply(lambda x: pd.Series([x['d']**2, x['c']**2+np.sum(x)], \n",
    "                               index=['d**2', 'c**2+sum']), \n",
    "                               axis=1)"
   ]
  },
  {
   "cell_type": "markdown",
   "metadata": {},
   "source": [
    "## HT009: Basic operations on two rows/columns of `data`"
   ]
  },
  {
   "cell_type": "code",
   "execution_count": 73,
   "metadata": {},
   "outputs": [
    {
     "name": "stdout",
     "output_type": "stream",
     "text": [
      "144842536\n",
      "   b  c  d  e\n",
      "a            \n",
      "0  1  2  3  4\n",
      "1  5  6  7  8\n",
      "2  9  8  7  6\n",
      "3  5  4  3  2\n",
      "b    1\n",
      "c    2\n",
      "d    3\n",
      "e    4\n",
      "Name: 0, dtype: int64\n",
      "144842144\n"
     ]
    },
    {
     "data": {
      "text/html": [
       "<div>\n",
       "<style scoped>\n",
       "    .dataframe tbody tr th:only-of-type {\n",
       "        vertical-align: middle;\n",
       "    }\n",
       "\n",
       "    .dataframe tbody tr th {\n",
       "        vertical-align: top;\n",
       "    }\n",
       "\n",
       "    .dataframe thead th {\n",
       "        text-align: right;\n",
       "    }\n",
       "</style>\n",
       "<table border=\"1\" class=\"dataframe\">\n",
       "  <thead>\n",
       "    <tr style=\"text-align: right;\">\n",
       "      <th></th>\n",
       "      <th>b</th>\n",
       "      <th>c</th>\n",
       "      <th>d</th>\n",
       "      <th>e</th>\n",
       "    </tr>\n",
       "    <tr>\n",
       "      <th>a</th>\n",
       "      <th></th>\n",
       "      <th></th>\n",
       "      <th></th>\n",
       "      <th></th>\n",
       "    </tr>\n",
       "  </thead>\n",
       "  <tbody>\n",
       "    <tr>\n",
       "      <th>0</th>\n",
       "      <td>2</td>\n",
       "      <td>4</td>\n",
       "      <td>6</td>\n",
       "      <td>8</td>\n",
       "    </tr>\n",
       "    <tr>\n",
       "      <th>1</th>\n",
       "      <td>6</td>\n",
       "      <td>8</td>\n",
       "      <td>10</td>\n",
       "      <td>12</td>\n",
       "    </tr>\n",
       "    <tr>\n",
       "      <th>2</th>\n",
       "      <td>10</td>\n",
       "      <td>10</td>\n",
       "      <td>10</td>\n",
       "      <td>10</td>\n",
       "    </tr>\n",
       "    <tr>\n",
       "      <th>3</th>\n",
       "      <td>6</td>\n",
       "      <td>6</td>\n",
       "      <td>6</td>\n",
       "      <td>6</td>\n",
       "    </tr>\n",
       "  </tbody>\n",
       "</table>\n",
       "</div>"
      ],
      "text/plain": [
       "    b   c   d   e\n",
       "a                \n",
       "0   2   4   6   8\n",
       "1   6   8  10  12\n",
       "2  10  10  10  10\n",
       "3   6   6   6   6"
      ]
     },
     "execution_count": 73,
     "metadata": {},
     "output_type": "execute_result"
    }
   ],
   "source": [
    "# slide 270\n",
    "#DataFrame op row-Series (DataFrame's column labels same as Series' label)\n",
    "import pandas as pd\n",
    "data=pd.read_csv('HT001a.csv', index_col=0, header=0)\n",
    "print(id(data))\n",
    "print(data)\n",
    "print(data.iloc[0,:])\n",
    "data=data+data.iloc[0,:]\n",
    "print(id(data))\n",
    "data"
   ]
  },
  {
   "cell_type": "code",
   "execution_count": 74,
   "metadata": {
    "scrolled": false
   },
   "outputs": [
    {
     "name": "stdout",
     "output_type": "stream",
     "text": [
      "144841304\n",
      "   b  c  d  e\n",
      "a            \n",
      "0  1  2  3  4\n",
      "1  5  6  7  8\n",
      "2  9  8  7  6\n",
      "3  5  4  3  2\n",
      "b    1\n",
      "c    2\n",
      "d    3\n",
      "e    4\n",
      "Name: 0, dtype: int64\n",
      "144841304\n"
     ]
    },
    {
     "data": {
      "text/html": [
       "<div>\n",
       "<style scoped>\n",
       "    .dataframe tbody tr th:only-of-type {\n",
       "        vertical-align: middle;\n",
       "    }\n",
       "\n",
       "    .dataframe tbody tr th {\n",
       "        vertical-align: top;\n",
       "    }\n",
       "\n",
       "    .dataframe thead th {\n",
       "        text-align: right;\n",
       "    }\n",
       "</style>\n",
       "<table border=\"1\" class=\"dataframe\">\n",
       "  <thead>\n",
       "    <tr style=\"text-align: right;\">\n",
       "      <th></th>\n",
       "      <th>b</th>\n",
       "      <th>c</th>\n",
       "      <th>d</th>\n",
       "      <th>e</th>\n",
       "    </tr>\n",
       "    <tr>\n",
       "      <th>a</th>\n",
       "      <th></th>\n",
       "      <th></th>\n",
       "      <th></th>\n",
       "      <th></th>\n",
       "    </tr>\n",
       "  </thead>\n",
       "  <tbody>\n",
       "    <tr>\n",
       "      <th>0</th>\n",
       "      <td>2</td>\n",
       "      <td>4</td>\n",
       "      <td>6</td>\n",
       "      <td>8</td>\n",
       "    </tr>\n",
       "    <tr>\n",
       "      <th>1</th>\n",
       "      <td>6</td>\n",
       "      <td>8</td>\n",
       "      <td>10</td>\n",
       "      <td>12</td>\n",
       "    </tr>\n",
       "    <tr>\n",
       "      <th>2</th>\n",
       "      <td>10</td>\n",
       "      <td>10</td>\n",
       "      <td>10</td>\n",
       "      <td>10</td>\n",
       "    </tr>\n",
       "    <tr>\n",
       "      <th>3</th>\n",
       "      <td>6</td>\n",
       "      <td>6</td>\n",
       "      <td>6</td>\n",
       "      <td>6</td>\n",
       "    </tr>\n",
       "  </tbody>\n",
       "</table>\n",
       "</div>"
      ],
      "text/plain": [
       "    b   c   d   e\n",
       "a                \n",
       "0   2   4   6   8\n",
       "1   6   8  10  12\n",
       "2  10  10  10  10\n",
       "3   6   6   6   6"
      ]
     },
     "execution_count": 74,
     "metadata": {},
     "output_type": "execute_result"
    }
   ],
   "source": [
    "# slide 271 (1)\n",
    "#DataFrame op row-Series (DataFrame's column labels same as Series' label)\n",
    "import pandas as pd\n",
    "data=pd.read_csv('HT001a.csv', index_col=0, header=0)\n",
    "print(id(data))\n",
    "print(data)\n",
    "print(data.iloc[0,:])\n",
    "data.values[:,:]=data+data.iloc[0,:]\n",
    "print(id(data))\n",
    "data"
   ]
  },
  {
   "cell_type": "code",
   "execution_count": 75,
   "metadata": {
    "scrolled": true
   },
   "outputs": [
    {
     "name": "stdout",
     "output_type": "stream",
     "text": [
      "[[1. 1. 1.]\n",
      " [1. 1. 1.]\n",
      " [1. 1. 1.]]\n",
      "     0    1    2\n",
      "0  0.0  0.0  0.0\n",
      "1  0.0  0.0  0.0\n",
      "2  0.0  0.0  0.0\n"
     ]
    },
    {
     "data": {
      "text/plain": [
       "array([[0., 0., 0.],\n",
       "       [0., 0., 0.],\n",
       "       [0., 0., 0.]])"
      ]
     },
     "execution_count": 75,
     "metadata": {},
     "output_type": "execute_result"
    }
   ],
   "source": [
    "# slide 271 (2)\n",
    "#assignment: DataFraem->2D array\n",
    "%reset -f\n",
    "import pandas as pd\n",
    "import numpy as np\n",
    "x=np.ones((3,3))\n",
    "print(x)\n",
    "df=pd.DataFrame(np.zeros((3,3)))\n",
    "print(df)\n",
    "x[:,:]=df #or df.values\n",
    "x"
   ]
  },
  {
   "cell_type": "code",
   "execution_count": 76,
   "metadata": {
    "scrolled": false
   },
   "outputs": [
    {
     "name": "stdout",
     "output_type": "stream",
     "text": [
      "   b  a.1  d e  1\n",
      "a                \n",
      "2  1    2    3  4\n",
      "4  5    6    7  8\n",
      "3  9    8    7  6\n",
      "4  5    4    3  2\n",
      "b      1\n",
      "a.1    2\n",
      "d e    3\n",
      "1      4\n",
      "Name: 2, dtype: int64\n"
     ]
    },
    {
     "data": {
      "text/html": [
       "<div>\n",
       "<style scoped>\n",
       "    .dataframe tbody tr th:only-of-type {\n",
       "        vertical-align: middle;\n",
       "    }\n",
       "\n",
       "    .dataframe tbody tr th {\n",
       "        vertical-align: top;\n",
       "    }\n",
       "\n",
       "    .dataframe thead th {\n",
       "        text-align: right;\n",
       "    }\n",
       "</style>\n",
       "<table border=\"1\" class=\"dataframe\">\n",
       "  <thead>\n",
       "    <tr style=\"text-align: right;\">\n",
       "      <th></th>\n",
       "      <th>b</th>\n",
       "      <th>a.1</th>\n",
       "      <th>d e</th>\n",
       "      <th>1</th>\n",
       "    </tr>\n",
       "    <tr>\n",
       "      <th>a</th>\n",
       "      <th></th>\n",
       "      <th></th>\n",
       "      <th></th>\n",
       "      <th></th>\n",
       "    </tr>\n",
       "  </thead>\n",
       "  <tbody>\n",
       "    <tr>\n",
       "      <th>2</th>\n",
       "      <td>2</td>\n",
       "      <td>4</td>\n",
       "      <td>6</td>\n",
       "      <td>8</td>\n",
       "    </tr>\n",
       "    <tr>\n",
       "      <th>4</th>\n",
       "      <td>6</td>\n",
       "      <td>8</td>\n",
       "      <td>10</td>\n",
       "      <td>12</td>\n",
       "    </tr>\n",
       "    <tr>\n",
       "      <th>3</th>\n",
       "      <td>10</td>\n",
       "      <td>10</td>\n",
       "      <td>10</td>\n",
       "      <td>10</td>\n",
       "    </tr>\n",
       "    <tr>\n",
       "      <th>4</th>\n",
       "      <td>6</td>\n",
       "      <td>6</td>\n",
       "      <td>6</td>\n",
       "      <td>6</td>\n",
       "    </tr>\n",
       "  </tbody>\n",
       "</table>\n",
       "</div>"
      ],
      "text/plain": [
       "    b  a.1  d e   1\n",
       "a                  \n",
       "2   2    4    6   8\n",
       "4   6    8   10  12\n",
       "3  10   10   10  10\n",
       "4   6    6    6   6"
      ]
     },
     "execution_count": 76,
     "metadata": {},
     "output_type": "execute_result"
    }
   ],
   "source": [
    "# slide 272\n",
    "#DataFrame op row-Series (DataFrame's column labels same as Series' label)\n",
    "import pandas as pd\n",
    "data=pd.read_csv('HT001b.csv', index_col=0, header=0)\n",
    "print(data)\n",
    "print(data.iloc[0,:])\n",
    "data+data.iloc[0,:]"
   ]
  },
  {
   "cell_type": "code",
   "execution_count": 77,
   "metadata": {
    "scrolled": true
   },
   "outputs": [
    {
     "name": "stdout",
     "output_type": "stream",
     "text": [
      "   b  c  d  e\n",
      "a            \n",
      "0  1  2  3  4\n",
      "1  5  6  7  8\n",
      "2  9  8  7  6\n",
      "3  5  4  3  2\n",
      "[0 1 2 3]\n"
     ]
    },
    {
     "data": {
      "text/html": [
       "<div>\n",
       "<style scoped>\n",
       "    .dataframe tbody tr th:only-of-type {\n",
       "        vertical-align: middle;\n",
       "    }\n",
       "\n",
       "    .dataframe tbody tr th {\n",
       "        vertical-align: top;\n",
       "    }\n",
       "\n",
       "    .dataframe thead th {\n",
       "        text-align: right;\n",
       "    }\n",
       "</style>\n",
       "<table border=\"1\" class=\"dataframe\">\n",
       "  <thead>\n",
       "    <tr style=\"text-align: right;\">\n",
       "      <th></th>\n",
       "      <th>b</th>\n",
       "      <th>c</th>\n",
       "      <th>d</th>\n",
       "      <th>e</th>\n",
       "    </tr>\n",
       "    <tr>\n",
       "      <th>a</th>\n",
       "      <th></th>\n",
       "      <th></th>\n",
       "      <th></th>\n",
       "      <th></th>\n",
       "    </tr>\n",
       "  </thead>\n",
       "  <tbody>\n",
       "    <tr>\n",
       "      <th>0</th>\n",
       "      <td>1</td>\n",
       "      <td>3</td>\n",
       "      <td>5</td>\n",
       "      <td>7</td>\n",
       "    </tr>\n",
       "    <tr>\n",
       "      <th>1</th>\n",
       "      <td>5</td>\n",
       "      <td>7</td>\n",
       "      <td>9</td>\n",
       "      <td>11</td>\n",
       "    </tr>\n",
       "    <tr>\n",
       "      <th>2</th>\n",
       "      <td>9</td>\n",
       "      <td>9</td>\n",
       "      <td>9</td>\n",
       "      <td>9</td>\n",
       "    </tr>\n",
       "    <tr>\n",
       "      <th>3</th>\n",
       "      <td>5</td>\n",
       "      <td>5</td>\n",
       "      <td>5</td>\n",
       "      <td>5</td>\n",
       "    </tr>\n",
       "  </tbody>\n",
       "</table>\n",
       "</div>"
      ],
      "text/plain": [
       "   b  c  d   e\n",
       "a             \n",
       "0  1  3  5   7\n",
       "1  5  7  9  11\n",
       "2  9  9  9   9\n",
       "3  5  5  5   5"
      ]
     },
     "execution_count": 77,
     "metadata": {},
     "output_type": "execute_result"
    }
   ],
   "source": [
    "# slide 273\n",
    "#DataFrame op 1D array (or list)\n",
    "import pandas as pd\n",
    "import numpy as np\n",
    "data=pd.read_csv('HT001a.csv', index_col=0, header=0)\n",
    "print(data)\n",
    "#arr=range(4)\n",
    "arr=np.arange(4)\n",
    "print(arr)\n",
    "data+arr"
   ]
  },
  {
   "cell_type": "code",
   "execution_count": 78,
   "metadata": {
    "scrolled": false
   },
   "outputs": [
    {
     "name": "stdout",
     "output_type": "stream",
     "text": [
      "   b  a.1  d e  1\n",
      "a                \n",
      "2  1    2    3  4\n",
      "4  5    6    7  8\n",
      "3  9    8    7  6\n",
      "4  5    4    3  2\n",
      "----------------------\n",
      "144624552\n",
      "----------------------\n",
      "    b  a.1  d e   1\n",
      "a                  \n",
      "2   2    3    4   5\n",
      "4  10   11   12  13\n",
      "3  18   17   16  15\n",
      "4  10    9    8   7\n",
      "----------------------\n",
      "   b  a.1  d e  1\n",
      "a                \n",
      "2  1    2    3  4\n",
      "4  5    6    7  8\n",
      "3  9    8    7  6\n",
      "4  5    4    3  2\n",
      "----------------------\n",
      "144624552\n"
     ]
    }
   ],
   "source": [
    "# slide 274\n",
    "#Use one command to add the first column to every column in data\n",
    "import pandas as pd\n",
    "import numpy as np\n",
    "data=pd.read_csv('HT001b.csv', index_col=0, header=0)\n",
    "print(data)\n",
    "print('----------------------')\n",
    "print(id(data))\n",
    "print('----------------------')\n",
    "#print(data+data.iloc[:,0]) #Error: cannot reindex\n",
    "#print(data+data.iloc[:,0].values) #Error: This add the first column to every row\n",
    "#print(data+data.iloc[:,0].values.reshape(4,1)) #Error: shape must be (4, 4)\n",
    "print(data+np.tile(data.iloc[:,0].values.reshape(4,1),4))\n",
    "#print(data+np.tile(data.iloc[:,[0]].values,4))\n",
    "#print(data.apply(lambda x: x+data.iloc[:,0].values, axis=0))\n",
    "#\n",
    "#data=data+np.tile(data.iloc[:,0].values.reshape(4,1),4)\n",
    "#data=data+np.tile(data.iloc[:,[0]].values,4)\n",
    "#data=data.apply(lambda x: x+data.iloc[:,0].values, axis=0)\n",
    "#\n",
    "#data.values[:,:]=data+np.tile(data.iloc[:,0].values.reshape(4,1),4)\n",
    "#data.values[:,:]=data+np.tile(data.iloc[:,[0]].values,4)\n",
    "#data.values[:,:]=data.apply(lambda x: x+data.iloc[:,0].values, axis=0)\n",
    "print('----------------------')\n",
    "print(data)\n",
    "print('----------------------')\n",
    "print(id(data))"
   ]
  },
  {
   "cell_type": "code",
   "execution_count": 79,
   "metadata": {},
   "outputs": [
    {
     "name": "stdout",
     "output_type": "stream",
     "text": [
      "[1 2 1 2]\n",
      "[[1 2 1 2 1 2]\n",
      " [1 2 1 2 1 2]]\n"
     ]
    }
   ],
   "source": [
    "# slide 275\n",
    "#Examples of numpy.tile\n",
    "import numpy as np\n",
    "print(np.tile([1,2],2))\n",
    "print(np.tile([1,2],(2,3)))"
   ]
  },
  {
   "cell_type": "code",
   "execution_count": 80,
   "metadata": {},
   "outputs": [
    {
     "name": "stdout",
     "output_type": "stream",
     "text": [
      "----- (3,) + (3,) -----\n",
      "(3,)\n",
      "----- (3,) + (4,) -----\n",
      "Error.\n",
      "----- (3, 4) + (3, 4) -----\n",
      "(3, 4)\n",
      "----- (3, 3) + (3, 4) -----\n",
      "Error.\n",
      "----- (3, 3) + (4, 3) -----\n",
      "Error.\n",
      "----- (3, 4) + (3, 1) -----\n",
      "(3, 4)\n",
      "----- (3, 4) + (1, 4) -----\n",
      "(3, 4)\n",
      "----- (3, 4) + (4,) -----\n",
      "(3, 4)\n",
      "----- (3, 4) + (3,) -----\n",
      "Error.\n"
     ]
    }
   ],
   "source": [
    "# slide 277\n",
    "#Test Numpy Array Arithmetic Operations\n",
    "import numpy as np\n",
    "A=[(3,), (3,), (3,4), (3,3), (3,3), (3,4), (3,4), (3,4), (3,4)]\n",
    "B=[(3,), (4,), (3,4), (3,4), (4,3), (3,1), (1,4), (4,), (3,)]\n",
    "for i in range(9):\n",
    "    print(\"-----\", A[i], \"+\", B[i], \"-----\")\n",
    "    array1=np.zeros(A[i])\n",
    "    array2=np.zeros(B[i])\n",
    "    try:\n",
    "        r=array1+array2\n",
    "    except:\n",
    "        print(\"Error.\")\n",
    "    else:\n",
    "        print(r.shape)"
   ]
  },
  {
   "cell_type": "code",
   "execution_count": 81,
   "metadata": {
    "scrolled": true
   },
   "outputs": [
    {
     "name": "stdout",
     "output_type": "stream",
     "text": [
      "   b  c  d  e\n",
      "a            \n",
      "0  1  2  3  4\n",
      "[4 8 6 2]\n"
     ]
    },
    {
     "data": {
      "text/html": [
       "<div>\n",
       "<style scoped>\n",
       "    .dataframe tbody tr th:only-of-type {\n",
       "        vertical-align: middle;\n",
       "    }\n",
       "\n",
       "    .dataframe tbody tr th {\n",
       "        vertical-align: top;\n",
       "    }\n",
       "\n",
       "    .dataframe thead th {\n",
       "        text-align: right;\n",
       "    }\n",
       "</style>\n",
       "<table border=\"1\" class=\"dataframe\">\n",
       "  <thead>\n",
       "    <tr style=\"text-align: right;\">\n",
       "      <th></th>\n",
       "      <th>b</th>\n",
       "      <th>c</th>\n",
       "      <th>d</th>\n",
       "      <th>e</th>\n",
       "    </tr>\n",
       "    <tr>\n",
       "      <th>a</th>\n",
       "      <th></th>\n",
       "      <th></th>\n",
       "      <th></th>\n",
       "      <th></th>\n",
       "    </tr>\n",
       "  </thead>\n",
       "  <tbody>\n",
       "    <tr>\n",
       "      <th>0</th>\n",
       "      <td>5</td>\n",
       "      <td>10</td>\n",
       "      <td>9</td>\n",
       "      <td>6</td>\n",
       "    </tr>\n",
       "  </tbody>\n",
       "</table>\n",
       "</div>"
      ],
      "text/plain": [
       "   b   c  d  e\n",
       "a             \n",
       "0  5  10  9  6"
      ]
     },
     "execution_count": 81,
     "metadata": {},
     "output_type": "execute_result"
    }
   ],
   "source": [
    "# slide 278\n",
    "#What is the output? (DataFrame+1D array)\n",
    "import pandas as pd\n",
    "data=pd.read_csv('HT001a.csv', index_col=0, header=0)\n",
    "print(data.iloc[[0],:])\n",
    "print(data.iloc[:,3].values)\n",
    "data.iloc[[0],:]+data.iloc[:,3].values"
   ]
  },
  {
   "cell_type": "code",
   "execution_count": 82,
   "metadata": {
    "scrolled": false
   },
   "outputs": [
    {
     "name": "stdout",
     "output_type": "stream",
     "text": [
      "b    1\n",
      "c    2\n",
      "d    3\n",
      "e    4\n",
      "Name: 0, dtype: int64\n",
      "a\n",
      "0    4\n",
      "1    8\n",
      "2    6\n",
      "3    2\n",
      "Name: e, dtype: int64\n"
     ]
    },
    {
     "data": {
      "text/plain": [
       "b   NaN\n",
       "c   NaN\n",
       "d   NaN\n",
       "e   NaN\n",
       "0   NaN\n",
       "1   NaN\n",
       "2   NaN\n",
       "3   NaN\n",
       "dtype: float64"
      ]
     },
     "execution_count": 82,
     "metadata": {},
     "output_type": "execute_result"
    }
   ],
   "source": [
    "# slide 279\n",
    "#What is the output? (Series + Series, different labels)\n",
    "import pandas as pd\n",
    "data=pd.read_csv('HT001a.csv', index_col=0, header=0)\n",
    "print(data.iloc[0,:])\n",
    "print(data.iloc[:,3])\n",
    "data.iloc[0,:]+data.iloc[:,3]"
   ]
  },
  {
   "cell_type": "code",
   "execution_count": 83,
   "metadata": {
    "scrolled": false
   },
   "outputs": [
    {
     "name": "stdout",
     "output_type": "stream",
     "text": [
      "   b  c  d  e\n",
      "a            \n",
      "0  1  2  3  4\n",
      "1  5  6  7  8\n",
      "2  9  8  7  6\n",
      "3  5  4  3  2\n",
      "   b\n",
      "a   \n",
      "1  5\n",
      "2  9\n",
      "3  5\n",
      "[2 6 8]\n"
     ]
    }
   ],
   "source": [
    "# slide 280\n",
    "# How to calculate ...\n",
    "import pandas as pd\n",
    "data=pd.read_csv('HT001a.csv', index_col=0, header=0)\n",
    "print(data)\n",
    "print(data.iloc[1:,[0]])\n",
    "print(data.iloc[:-1,1].values)\n",
    "#data.iloc[1:,[0]]+data.iloc[:-1,1].values.reshape(3,1)"
   ]
  },
  {
   "cell_type": "code",
   "execution_count": 84,
   "metadata": {},
   "outputs": [
    {
     "data": {
      "text/plain": [
       "array([[14]])"
      ]
     },
     "execution_count": 84,
     "metadata": {},
     "output_type": "execute_result"
    }
   ],
   "source": [
    "# slide 281 (1)\n",
    "A=np.array([[1,2,3]])\n",
    "B=np.array([[1],[2],[3]])\n",
    "A@B"
   ]
  },
  {
   "cell_type": "code",
   "execution_count": 85,
   "metadata": {},
   "outputs": [
    {
     "data": {
      "text/plain": [
       "14"
      ]
     },
     "execution_count": 85,
     "metadata": {},
     "output_type": "execute_result"
    }
   ],
   "source": [
    "# slide 281 (2)\n",
    "A=np.array([1,2,3])\n",
    "B=np.array([1,2,3])\n",
    "A@B"
   ]
  },
  {
   "cell_type": "code",
   "execution_count": 86,
   "metadata": {},
   "outputs": [
    {
     "data": {
      "text/plain": [
       "array([ 30,  86, 110], dtype=int64)"
      ]
     },
     "execution_count": 86,
     "metadata": {},
     "output_type": "execute_result"
    }
   ],
   "source": [
    "# slide 282\n",
    "# Use one command to compute the matrix multiplication, \n",
    "# using the first 3 rows in data as the first matrix, \n",
    "# and using the last row (without finding the number of \n",
    "# rows) as the second 1-column matrix.\n",
    "import pandas as pd\n",
    "data=pd.read_csv('HT001a.csv', index_col=0, header=0)\n",
    "data.values[:3] @ data.values[-1]\n",
    "#data.values[:3] @ data.values[-1:].T\n",
    "#data.values[:3] @ data.values[[-1]].T"
   ]
  },
  {
   "cell_type": "markdown",
   "metadata": {},
   "source": [
    "## HT010: Sort `data`"
   ]
  },
  {
   "cell_type": "code",
   "execution_count": 87,
   "metadata": {},
   "outputs": [
    {
     "name": "stdout",
     "output_type": "stream",
     "text": [
      "   b  c  d  e\n",
      "a            \n",
      "0  1  2  3  4\n",
      "1  5  6  7  8\n",
      "2  9  8  7  6\n",
      "3  5  4  3  2\n",
      "   b  c  d  e\n",
      "a            \n",
      "0  1  2  3  4\n",
      "1  5  6  7  8\n",
      "3  5  4  3  2\n",
      "2  9  8  7  6\n",
      "   b  c  d  e\n",
      "a            \n",
      "0  1  2  3  4\n",
      "3  5  4  3  2\n",
      "1  5  6  7  8\n",
      "2  9  8  7  6\n",
      "[[1 2 3 2]\n",
      " [5 4 3 4]\n",
      " [5 6 7 6]\n",
      " [9 8 7 8]]\n",
      "   b  c  d  e\n",
      "a            \n",
      "0  1  2  3  4\n",
      "1  5  6  7  8\n",
      "2  9  8  7  6\n",
      "3  5  4  3  2\n",
      "   b  c  d  e\n",
      "a            \n",
      "0  1  2  3  2\n",
      "1  5  4  3  4\n",
      "2  5  6  7  6\n",
      "3  9  8  7  8\n"
     ]
    }
   ],
   "source": [
    "# slide 290\n",
    "import pandas as pd\n",
    "import numpy as np\n",
    "data=pd.read_csv('HT001a.csv', index_col=0, header=0)\n",
    "print(data)\n",
    "print(data.sort_values(by='b',axis=0))\n",
    "print(data.sort_values(by=['b','c'],axis=0))\n",
    "print(np.sort(data,axis=0))\n",
    "print(data)\n",
    "data.values.sort(axis=0)\n",
    "print(data)"
   ]
  },
  {
   "cell_type": "code",
   "execution_count": 88,
   "metadata": {},
   "outputs": [
    {
     "name": "stdout",
     "output_type": "stream",
     "text": [
      "   b  c  d  e\n",
      "a            \n",
      "0  1  2  3  4\n",
      "1  5  6  7  8\n",
      "2  9  8  7  6\n",
      "3  5  4  3  2\n",
      "144621920\n",
      "   e  d  c  b\n",
      "a            \n",
      "0  4  3  2  1\n",
      "1  8  7  6  5\n",
      "2  6  7  8  9\n",
      "3  2  3  4  5\n",
      "144621920\n"
     ]
    }
   ],
   "source": [
    "# slide 291 (1)\n",
    "#Use one command with pandas.DataFrame.sort_values\n",
    "#to sort data using the 3rd row\n",
    "import pandas as pd\n",
    "import numpy as np\n",
    "data=pd.read_csv('HT001a.csv', index_col=0, header=0)\n",
    "print(data)\n",
    "print(id(data))\n",
    "data.sort_values(by=data.index[2],axis=1,inplace=True)\n",
    "print(data)\n",
    "print(id(data))"
   ]
  },
  {
   "cell_type": "code",
   "execution_count": 89,
   "metadata": {},
   "outputs": [
    {
     "name": "stdout",
     "output_type": "stream",
     "text": [
      "   b  c  d  e\n",
      "a            \n",
      "0  1  2  3  4\n",
      "1  5  6  7  8\n",
      "2  9  8  7  6\n",
      "3  5  4  3  2\n",
      "144625168\n",
      "   b  c  d  e\n",
      "a            \n",
      "0  1  2  3  4\n",
      "3  5  4  3  2\n",
      "1  5  6  7  8\n",
      "2  9  8  7  6\n",
      "144625168\n"
     ]
    }
   ],
   "source": [
    "# slide 291 (2)\n",
    "#Use one command with pandas.DataFrame.sort_values\n",
    "#to sort data using the 3rd column\n",
    "import pandas as pd\n",
    "import numpy as np\n",
    "data=pd.read_csv('HT001a.csv', index_col=0, header=0)\n",
    "print(data)\n",
    "print(id(data))\n",
    "data.sort_values(by=data.columns[2],axis=0,inplace=True)\n",
    "print(data)\n",
    "print(id(data))"
   ]
  },
  {
   "cell_type": "code",
   "execution_count": 90,
   "metadata": {},
   "outputs": [
    {
     "name": "stdout",
     "output_type": "stream",
     "text": [
      "   b  c  d  e\n",
      "a            \n",
      "0  1  2  3  4\n",
      "1  5  6  7  8\n",
      "2  9  8  7  6\n",
      "3  5  4  3  2\n",
      "[[0 0 0 3]\n",
      " [1 3 3 0]\n",
      " [3 1 1 2]\n",
      " [2 2 2 1]]\n",
      "[[1 2 3 4]\n",
      " [5 4 3 2]\n",
      " [5 6 7 8]\n",
      " [9 8 7 6]]\n",
      "   b  c  d  e\n",
      "a            \n",
      "0  1  2  3  4\n",
      "1  5  6  7  8\n",
      "2  9  8  7  6\n",
      "3  5  4  3  2\n"
     ]
    }
   ],
   "source": [
    "# slide 292 (1)\n",
    "import pandas as pd\n",
    "import numpy as np\n",
    "data=pd.read_csv('HT001a.csv', index_col=0, header=0)\n",
    "print(data)\n",
    "I=np.argsort(data.values,axis=0)\n",
    "print(I)\n",
    "print(data.values[I[:,2],:])\n",
    "print(data)"
   ]
  },
  {
   "cell_type": "code",
   "execution_count": 91,
   "metadata": {},
   "outputs": [
    {
     "name": "stdout",
     "output_type": "stream",
     "text": [
      "   b  c  d  e\n",
      "a            \n",
      "0  1  2  3  4\n",
      "1  5  6  7  8\n",
      "2  9  8  7  6\n",
      "3  5  4  3  2\n",
      "[[0 1 2 3]\n",
      " [0 1 2 3]\n",
      " [3 2 1 0]\n",
      " [3 2 1 0]]\n",
      "[[4 3 2 1]\n",
      " [8 7 6 5]\n",
      " [6 7 8 9]\n",
      " [2 3 4 5]]\n",
      "   b  c  d  e\n",
      "a            \n",
      "0  1  2  3  4\n",
      "1  5  6  7  8\n",
      "2  9  8  7  6\n",
      "3  5  4  3  2\n"
     ]
    }
   ],
   "source": [
    "# slide 292 (2)\n",
    "import pandas as pd\n",
    "import numpy as np\n",
    "data=pd.read_csv('HT001a.csv', index_col=0, header=0)\n",
    "print(data)\n",
    "I=np.argsort(data.values,axis=1)\n",
    "print(I)\n",
    "print(data.values[:,I[2,:]])\n",
    "print(data)"
   ]
  },
  {
   "cell_type": "code",
   "execution_count": 92,
   "metadata": {},
   "outputs": [
    {
     "name": "stdout",
     "output_type": "stream",
     "text": [
      "   b  c  d  e\n",
      "a            \n",
      "0  1  2  3  4\n",
      "1  5  6  7  8\n",
      "2  9  8  7  6\n",
      "3  5  4  3  2\n",
      "   b  c  d  e\n",
      "a            \n",
      "0  1  2  3  4\n",
      "1  5  4  3  2\n",
      "2  5  6  7  8\n",
      "3  9  8  7  6\n"
     ]
    }
   ],
   "source": [
    "#Use one command to sort data using the 3rd column\n",
    "import pandas as pd\n",
    "import numpy as np\n",
    "data=pd.read_csv('HT001a.csv', index_col=0, header=0)\n",
    "print(data)\n",
    "data.values[:,:]=data.values[np.argsort(data.values,axis=0)[:,2],:]\n",
    "print(data)"
   ]
  },
  {
   "cell_type": "code",
   "execution_count": 93,
   "metadata": {},
   "outputs": [
    {
     "name": "stdout",
     "output_type": "stream",
     "text": [
      "   b  c  d  e\n",
      "a            \n",
      "0  1  2  3  4\n",
      "1  5  6  7  8\n",
      "2  9  8  7  6\n",
      "3  5  4  3  2\n",
      "   b  c  d  e\n",
      "a            \n",
      "0  4  3  2  1\n",
      "1  8  7  6  5\n",
      "2  6  7  8  9\n",
      "3  2  3  4  5\n"
     ]
    }
   ],
   "source": [
    "#Use one command to sort data using the 3rd row\n",
    "import pandas as pd\n",
    "import numpy as np\n",
    "data=pd.read_csv('HT001a.csv', index_col=0, header=0)\n",
    "print(data)\n",
    "data.values[:,:]=data.values[:,np.argsort(data.values,axis=1)[2,:]]\n",
    "print(data)"
   ]
  },
  {
   "cell_type": "markdown",
   "metadata": {},
   "source": [
    "## Caution: Numpy Arrays"
   ]
  },
  {
   "cell_type": "code",
   "execution_count": 94,
   "metadata": {},
   "outputs": [
    {
     "name": "stdout",
     "output_type": "stream",
     "text": [
      "[[1 2 3]\n",
      " [4 5 6]\n",
      " [7 8 9]]\n",
      "[[1 2 3]\n",
      " [3 9 9]\n",
      " [7 8 9]]\n"
     ]
    }
   ],
   "source": [
    "# slide 303 (1)\n",
    "import numpy as np\n",
    "x=np.arange(1,10).reshape(3,3)\n",
    "print(x)\n",
    "x[1,:]=x[:,2]\n",
    "print(x)"
   ]
  },
  {
   "cell_type": "code",
   "execution_count": 95,
   "metadata": {
    "scrolled": true
   },
   "outputs": [
    {
     "name": "stdout",
     "output_type": "stream",
     "text": [
      "[[1 2 3]\n",
      " [4 5 6]\n",
      " [7 8 9]]\n",
      "[[1 2 3]\n",
      " [3 6 9]\n",
      " [7 8 9]]\n"
     ]
    }
   ],
   "source": [
    "# slide 303 (2)\n",
    "import numpy as np\n",
    "x=np.arange(1,10).reshape(3,3)\n",
    "print(x)\n",
    "x[1,:]=x[:,2].copy()\n",
    "print(x)"
   ]
  },
  {
   "cell_type": "code",
   "execution_count": 96,
   "metadata": {},
   "outputs": [
    {
     "name": "stdout",
     "output_type": "stream",
     "text": [
      "[[1 2 3]\n",
      " [4 5 6]\n",
      " [7 8 9]]\n",
      "[[1 7 3]\n",
      " [4 8 6]\n",
      " [7 9 9]]\n"
     ]
    }
   ],
   "source": [
    "# slide 304 (1)\n",
    "import numpy as np\n",
    "x=np.arange(1,10).reshape(3,3)\n",
    "print(x)\n",
    "x[:,1]=x[2,:]\n",
    "print(x)"
   ]
  },
  {
   "cell_type": "code",
   "execution_count": 97,
   "metadata": {},
   "outputs": [
    {
     "name": "stdout",
     "output_type": "stream",
     "text": [
      "[[1 2 3]\n",
      " [4 5 6]\n",
      " [7 8 9]]\n",
      "[[1 7 3]\n",
      " [4 8 6]\n",
      " [7 9 9]]\n"
     ]
    }
   ],
   "source": [
    "# slide 304 (2)\n",
    "import numpy as np\n",
    "x=np.arange(1,10).reshape(3,3)\n",
    "print(x)\n",
    "x[:,1]=x[2,:].copy()\n",
    "print(x)"
   ]
  },
  {
   "cell_type": "code",
   "execution_count": 98,
   "metadata": {
    "scrolled": false
   },
   "outputs": [
    {
     "name": "stdout",
     "output_type": "stream",
     "text": [
      "[[ 0  1  2  3  4  5  6  7  8  9]\n",
      " [10 11 12 13 14 15 16 17 18 19]\n",
      " [20 21 22 23 24 25 26 27 28 29]\n",
      " [30 31 32 33 34 35 36 37 38 39]\n",
      " [40 41 42 43 44 45 46 47 48 49]\n",
      " [50 51 52 53 54 55 56 57 58 59]\n",
      " [60 61 62 63 64 65 66 67 68 69]\n",
      " [70 71 72 73 74 75 76 77 78 79]\n",
      " [80 81 82 83 84 85 86 87 88 89]\n",
      " [90 91 92 93 94 95 96 97 98 99]]\n",
      "**********  x[0,:]=x[:,8]  **********\n",
      "[[ 8 18 28 38 48 58 68 78 88 98]\n",
      " [10 11 12 13 14 15 16 17 18 19]\n",
      " [20 21 22 23 24 25 26 27 28 29]\n",
      " [30 31 32 33 34 35 36 37 38 39]\n",
      " [40 41 42 43 44 45 46 47 48 49]\n",
      " [50 51 52 53 54 55 56 57 58 59]\n",
      " [60 61 62 63 64 65 66 67 68 69]\n",
      " [70 71 72 73 74 75 76 77 78 79]\n",
      " [80 81 82 83 84 85 86 87 88 89]\n",
      " [90 91 92 93 94 95 96 97 98 99]]\n",
      "**********  x[1,:]=x[:,8]  **********\n",
      "[[ 0  1  2  3  4  5  6  7  8  9]\n",
      " [ 8 88 28 38 48 58 68 78 88 98]\n",
      " [20 21 22 23 24 25 26 27 28 29]\n",
      " [30 31 32 33 34 35 36 37 38 39]\n",
      " [40 41 42 43 44 45 46 47 48 49]\n",
      " [50 51 52 53 54 55 56 57 58 59]\n",
      " [60 61 62 63 64 65 66 67 68 69]\n",
      " [70 71 72 73 74 75 76 77 78 79]\n",
      " [80 81 82 83 84 85 86 87 88 89]\n",
      " [90 91 92 93 94 95 96 97 98 99]]\n",
      "**********  x[2,:]=x[:,8]  **********\n",
      "[[ 0  1  2  3  4  5  6  7  8  9]\n",
      " [10 11 12 13 14 15 16 17 18 19]\n",
      " [ 8 18 88 38 48 58 68 78 88 98]\n",
      " [30 31 32 33 34 35 36 37 38 39]\n",
      " [40 41 42 43 44 45 46 47 48 49]\n",
      " [50 51 52 53 54 55 56 57 58 59]\n",
      " [60 61 62 63 64 65 66 67 68 69]\n",
      " [70 71 72 73 74 75 76 77 78 79]\n",
      " [80 81 82 83 84 85 86 87 88 89]\n",
      " [90 91 92 93 94 95 96 97 98 99]]\n",
      "**********  x[3,:]=x[:,8]  **********\n",
      "[[ 0  1  2  3  4  5  6  7  8  9]\n",
      " [10 11 12 13 14 15 16 17 18 19]\n",
      " [20 21 22 23 24 25 26 27 28 29]\n",
      " [ 8 18 28 88 48 58 68 78 88 98]\n",
      " [40 41 42 43 44 45 46 47 48 49]\n",
      " [50 51 52 53 54 55 56 57 58 59]\n",
      " [60 61 62 63 64 65 66 67 68 69]\n",
      " [70 71 72 73 74 75 76 77 78 79]\n",
      " [80 81 82 83 84 85 86 87 88 89]\n",
      " [90 91 92 93 94 95 96 97 98 99]]\n",
      "**********  x[4,:]=x[:,8]  **********\n",
      "[[ 0  1  2  3  4  5  6  7  8  9]\n",
      " [10 11 12 13 14 15 16 17 18 19]\n",
      " [20 21 22 23 24 25 26 27 28 29]\n",
      " [30 31 32 33 34 35 36 37 38 39]\n",
      " [ 8 18 28 38 88 58 68 78 88 98]\n",
      " [50 51 52 53 54 55 56 57 58 59]\n",
      " [60 61 62 63 64 65 66 67 68 69]\n",
      " [70 71 72 73 74 75 76 77 78 79]\n",
      " [80 81 82 83 84 85 86 87 88 89]\n",
      " [90 91 92 93 94 95 96 97 98 99]]\n",
      "**********  x[5,:]=x[:,8]  **********\n",
      "[[ 0  1  2  3  4  5  6  7  8  9]\n",
      " [10 11 12 13 14 15 16 17 18 19]\n",
      " [20 21 22 23 24 25 26 27 28 29]\n",
      " [30 31 32 33 34 35 36 37 38 39]\n",
      " [40 41 42 43 44 45 46 47 48 49]\n",
      " [ 8 18 28 38 48 88 68 78 88 98]\n",
      " [60 61 62 63 64 65 66 67 68 69]\n",
      " [70 71 72 73 74 75 76 77 78 79]\n",
      " [80 81 82 83 84 85 86 87 88 89]\n",
      " [90 91 92 93 94 95 96 97 98 99]]\n",
      "**********  x[6,:]=x[:,8]  **********\n",
      "[[ 0  1  2  3  4  5  6  7  8  9]\n",
      " [10 11 12 13 14 15 16 17 18 19]\n",
      " [20 21 22 23 24 25 26 27 28 29]\n",
      " [30 31 32 33 34 35 36 37 38 39]\n",
      " [40 41 42 43 44 45 46 47 48 49]\n",
      " [50 51 52 53 54 55 56 57 58 59]\n",
      " [ 8 18 28 38 48 58 88 78 88 98]\n",
      " [70 71 72 73 74 75 76 77 78 79]\n",
      " [80 81 82 83 84 85 86 87 88 89]\n",
      " [90 91 92 93 94 95 96 97 98 99]]\n",
      "**********  x[7,:]=x[:,8]  **********\n",
      "[[ 0  1  2  3  4  5  6  7  8  9]\n",
      " [10 11 12 13 14 15 16 17 18 19]\n",
      " [20 21 22 23 24 25 26 27 28 29]\n",
      " [30 31 32 33 34 35 36 37 38 39]\n",
      " [40 41 42 43 44 45 46 47 48 49]\n",
      " [50 51 52 53 54 55 56 57 58 59]\n",
      " [60 61 62 63 64 65 66 67 68 69]\n",
      " [ 8 18 28 38 48 58 68 88 88 98]\n",
      " [80 81 82 83 84 85 86 87 88 89]\n",
      " [90 91 92 93 94 95 96 97 98 99]]\n",
      "**********  x[8,:]=x[:,8]  **********\n",
      "[[ 0  1  2  3  4  5  6  7  8  9]\n",
      " [10 11 12 13 14 15 16 17 18 19]\n",
      " [20 21 22 23 24 25 26 27 28 29]\n",
      " [30 31 32 33 34 35 36 37 38 39]\n",
      " [40 41 42 43 44 45 46 47 48 49]\n",
      " [50 51 52 53 54 55 56 57 58 59]\n",
      " [60 61 62 63 64 65 66 67 68 69]\n",
      " [70 71 72 73 74 75 76 77 78 79]\n",
      " [ 8 18 28 38 48 58 68 78 88 98]\n",
      " [90 91 92 93 94 95 96 97 98 99]]\n",
      "**********  x[9,:]=x[:,8]  **********\n",
      "[[ 0  1  2  3  4  5  6  7  8  9]\n",
      " [10 11 12 13 14 15 16 17 18 19]\n",
      " [20 21 22 23 24 25 26 27 28 29]\n",
      " [30 31 32 33 34 35 36 37 38 39]\n",
      " [40 41 42 43 44 45 46 47 48 49]\n",
      " [50 51 52 53 54 55 56 57 58 59]\n",
      " [60 61 62 63 64 65 66 67 68 69]\n",
      " [70 71 72 73 74 75 76 77 78 79]\n",
      " [80 81 82 83 84 85 86 87 88 89]\n",
      " [ 8 18 28 38 48 58 68 78 88 98]]\n"
     ]
    }
   ],
   "source": [
    "# slide 305\n",
    "import numpy as np\n",
    "print(np.arange(100).reshape(10,10))\n",
    "for i in range(10):\n",
    "    print('*'*10+\" \",\"x[%d,:]=x[:,8]\" % i,\" \"+\"*\"*10)\n",
    "    x=np.arange(100).reshape(10,10)\n",
    "    x[i,:]=x[:,8]\n",
    "    print(x)"
   ]
  }
 ],
 "metadata": {
  "kernelspec": {
   "display_name": "Python 3",
   "language": "python",
   "name": "python3"
  },
  "language_info": {
   "codemirror_mode": {
    "name": "ipython",
    "version": 3
   },
   "file_extension": ".py",
   "mimetype": "text/x-python",
   "name": "python",
   "nbconvert_exporter": "python",
   "pygments_lexer": "ipython3",
   "version": "3.6.4"
  }
 },
 "nbformat": 4,
 "nbformat_minor": 2
}
