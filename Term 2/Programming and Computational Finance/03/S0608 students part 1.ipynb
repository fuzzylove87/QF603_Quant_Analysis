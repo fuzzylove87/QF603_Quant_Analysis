{
 "cells": [
  {
   "cell_type": "markdown",
   "metadata": {},
   "source": [
    "# Scientific Tools in Python"
   ]
  },
  {
   "cell_type": "markdown",
   "metadata": {},
   "source": [
    "## 1. Equation Solving using `scipy.optimize.fsolve`"
   ]
  },
  {
   "cell_type": "code",
   "execution_count": 3,
   "metadata": {},
   "outputs": [],
   "source": [
    "from scipy.optimize import fsolve"
   ]
  },
  {
   "cell_type": "markdown",
   "metadata": {},
   "source": [
    "#### Example 1: Solve\n",
    "$$\n",
    "x^2 =2\n",
    "$$"
   ]
  },
  {
   "cell_type": "code",
   "execution_count": 2,
   "metadata": {},
   "outputs": [
    {
     "name": "stdout",
     "output_type": "stream",
     "text": [
      "[1.41421356]\n",
      "[1.41421356]\n"
     ]
    }
   ],
   "source": [
    "f01=lambda x: x**2-2\n",
    "\n",
    "def f02(x):\n",
    "    return x**2-2\n",
    "\n",
    "x=fsolve(f01, 5)\n",
    "print(x)\n",
    "\n",
    "x=fsolve(f02, 1)\n",
    "print(x)"
   ]
  },
  {
   "cell_type": "markdown",
   "metadata": {},
   "source": [
    "#### Define `myfzero`"
   ]
  },
  {
   "cell_type": "code",
   "execution_count": 3,
   "metadata": {},
   "outputs": [],
   "source": [
    "def myfzero(func, x0):\n",
    "    return fsolve(func, x0)[0]\n",
    "    pass "
   ]
  },
  {
   "cell_type": "code",
   "execution_count": 4,
   "metadata": {},
   "outputs": [
    {
     "name": "stdout",
     "output_type": "stream",
     "text": [
      "1.4142135623730947\n",
      "1.4142135623730947\n"
     ]
    }
   ],
   "source": [
    "f01=lambda x: x**2-2\n",
    "def f02(x):\n",
    "    return x**2-2\n",
    "\n",
    "x=myfzero(f01, 1)\n",
    "print(x)\n",
    "\n",
    "x=myfzero(f02, 1)\n",
    "print(x)"
   ]
  },
  {
   "cell_type": "code",
   "execution_count": 5,
   "metadata": {},
   "outputs": [
    {
     "name": "stdout",
     "output_type": "stream",
     "text": [
      "-1.4142135623730947\n",
      "-1.4142135623723675\n"
     ]
    }
   ],
   "source": [
    "# How to obtain the negative root of \n",
    "#             x**2-2=0\n",
    "# Method 1\n",
    "x=fsolve(f02, -1)[0]\n",
    "print(x)\n",
    "# Method 2\n",
    "from scipy.optimize import bisect\n",
    "x=bisect(f02, -10, -0.5)\n",
    "print(x)"
   ]
  },
  {
   "cell_type": "markdown",
   "metadata": {},
   "source": [
    "#### Functions that return a function/functions (1)"
   ]
  },
  {
   "cell_type": "code",
   "execution_count": 6,
   "metadata": {},
   "outputs": [
    {
     "name": "stdout",
     "output_type": "stream",
     "text": [
      "9\n",
      "11\n"
     ]
    }
   ],
   "source": [
    "def f1(x):\n",
    "    return 2*x\n",
    "def f2(x):\n",
    "    return x**2\n",
    "def flist(x, y):\n",
    "    fun_list=[f1, f2]\n",
    "    return fun_list[(x+y)%2]\n",
    "f=flist(1,4)\n",
    "print(f(3))\n",
    "\n",
    "fun=lambda a, b: lambda x: a*x+b\n",
    "f=fun(2,3)\n",
    "print(f(4))"
   ]
  },
  {
   "cell_type": "markdown",
   "metadata": {},
   "source": [
    "#### Functions that return a function/functions (2)"
   ]
  },
  {
   "cell_type": "code",
   "execution_count": 7,
   "metadata": {},
   "outputs": [
    {
     "name": "stdout",
     "output_type": "stream",
     "text": [
      "13 25\n"
     ]
    }
   ],
   "source": [
    "def flist2():\n",
    "    return [lambda x: i*x for i in [3, 5]]        \n",
    "f3,f5=flist2()\n",
    "print(f(5), f5(5))"
   ]
  },
  {
   "cell_type": "code",
   "execution_count": 8,
   "metadata": {},
   "outputs": [
    {
     "name": "stdout",
     "output_type": "stream",
     "text": [
      "25\n",
      "35\n"
     ]
    }
   ],
   "source": [
    "#What is the output?\n",
    "i=3\n",
    "f=lambda x: i*x\n",
    "i=5\n",
    "print(f(5))\n",
    "i=7\n",
    "print(f(5))"
   ]
  },
  {
   "cell_type": "markdown",
   "metadata": {},
   "source": [
    "#### Example 2: Given `fxab(x,a,b)`, solve `fxab(x,2,3)=0`."
   ]
  },
  {
   "cell_type": "code",
   "execution_count": 7,
   "metadata": {},
   "outputs": [
    {
     "data": {
      "text/plain": [
       "-1.1447142425533323"
      ]
     },
     "execution_count": 7,
     "metadata": {},
     "output_type": "execute_result"
    }
   ],
   "source": [
    "import numpy as np\n",
    "def fxab(x, a, b):\n",
    "    return a*x**3+b\n",
    "x=fsolve(fxab, 1, args=(2, 3))[0]\n",
    "x"
   ]
  },
  {
   "cell_type": "code",
   "execution_count": 10,
   "metadata": {},
   "outputs": [
    {
     "name": "stdout",
     "output_type": "stream",
     "text": [
      "[-1.14471424]\n"
     ]
    }
   ],
   "source": [
    "a = 2\n",
    "b = 3\n",
    "x = fsolve(lambda x:fxab(x, a, b), 1)\n",
    "print(x)"
   ]
  },
  {
   "cell_type": "code",
   "execution_count": 10,
   "metadata": {},
   "outputs": [
    {
     "data": {
      "text/plain": [
       "(0.572357121276666+0.991351614125047j)"
      ]
     },
     "execution_count": 10,
     "metadata": {},
     "output_type": "execute_result"
    }
   ],
   "source": [
    "(-3/2)**(1/3)"
   ]
  },
  {
   "cell_type": "code",
   "execution_count": 11,
   "metadata": {},
   "outputs": [
    {
     "data": {
      "text/plain": [
       "-1.1447142425533319"
      ]
     },
     "execution_count": 11,
     "metadata": {},
     "output_type": "execute_result"
    }
   ],
   "source": [
    "-(3/2)**(1/3)"
   ]
  },
  {
   "cell_type": "code",
   "execution_count": 7,
   "metadata": {},
   "outputs": [
    {
     "data": {
      "text/plain": [
       "-1.1447142425533319"
      ]
     },
     "execution_count": 7,
     "metadata": {},
     "output_type": "execute_result"
    }
   ],
   "source": [
    "def mynthroot(x, n):\n",
    "    if n%2 ==0:return (x)**(1/n)\n",
    "    else:\n",
    "        if x>=0:return (x)**(1/n)\n",
    "        else:return -(-x)**(1/n)\n",
    "mynthroot(-3/2, 3)"
   ]
  },
  {
   "cell_type": "code",
   "execution_count": 13,
   "metadata": {},
   "outputs": [
    {
     "data": {
      "text/plain": [
       "-1.1447142425533323"
      ]
     },
     "execution_count": 13,
     "metadata": {},
     "output_type": "execute_result"
    }
   ],
   "source": [
    "a=2\n",
    "b=3\n",
    "x=fsolve(lambda x: fxab(x,a,b), 1)[0]\n",
    "x"
   ]
  },
  {
   "cell_type": "markdown",
   "metadata": {},
   "source": [
    "#### Find Implied Volatility of an European Call Option\n",
    "\n",
    "$$ BS(S, K, r, q, \\sigma, T)= S \\cdot e^{-qT} \\cdot \\Phi (d_1) - K e^{-rT} \\cdot \\Phi (d_2)$$\n",
    "\n",
    "where \n",
    "\n",
    "$$ \\displaystyle d_1 = \\frac{\\ln \\left( \\frac{S}{K} \\right) + \\left( r-q+\\frac{\\sigma ^2 }{2}\\right) T}{\\sigma \\sqrt{T}}, \\quad d_2 = d_1 - \\sigma \\sqrt{T} $$"
   ]
  },
  {
   "cell_type": "code",
   "execution_count": 10,
   "metadata": {},
   "outputs": [
    {
     "name": "stdout",
     "output_type": "stream",
     "text": [
      "24.5940926130354\n"
     ]
    }
   ],
   "source": [
    "from scipy.stats import norm\n",
    "from math import log, sqrt, exp\n",
    "def BS_EuroCall(S,K,r,q,sigma,T):\n",
    "   d1=(log(S/K)+(r-q+sigma**2/2)*T)/(sigma*sqrt(T))\n",
    "   d2=d1-sigma*sqrt(T)\n",
    "   c=S*exp(-q*T)*norm.cdf(d1)-K*exp(-r*T)*norm.cdf(d2)\n",
    "   return c\n",
    "\n",
    "S=490\n",
    "K=470\n",
    "r=0.033\n",
    "q=0\n",
    "T=0.08\n",
    "sigma=0.2\n",
    "c=BS_EuroCall(S,K,r,q,sigma,T)\n",
    "print(c)"
   ]
  },
  {
   "cell_type": "markdown",
   "metadata": {},
   "source": [
    "#### Example 3: Given $S=490$, $K=470$, $r=0.033$, $q=0$, $T=0.08$ and $c=24.5941$, use `scipy.optimize.fsolve` / `myfzero` and `BS_EuroCall` to solve the Black-Scholes equation for the implied volatilty ($\\sigma$)."
   ]
  },
  {
   "cell_type": "code",
   "execution_count": 165,
   "metadata": {},
   "outputs": [
    {
     "data": {
      "text/plain": [
       "0.20000018572007525"
      ]
     },
     "execution_count": 165,
     "metadata": {},
     "output_type": "execute_result"
    }
   ],
   "source": [
    "S=490\n",
    "K=470\n",
    "r=0.033\n",
    "q=0\n",
    "T=0.08\n",
    "c = 24.59410\n",
    "IV = fsolve(lambda x : BS_EuroCall(S,K,r,q,x,T)-c,1)[0]\n",
    "IV"
   ]
  },
  {
   "cell_type": "code",
   "execution_count": null,
   "metadata": {
    "scrolled": true
   },
   "outputs": [],
   "source": []
  },
  {
   "cell_type": "code",
   "execution_count": 12,
   "metadata": {},
   "outputs": [
    {
     "data": {
      "text/plain": [
       "24.5940926130354"
      ]
     },
     "execution_count": 12,
     "metadata": {},
     "output_type": "execute_result"
    }
   ],
   "source": [
    "S=490\n",
    "K=470\n",
    "r=0.033\n",
    "q=0\n",
    "T=0.08\n",
    "BS1=lambda x: BS_EuroCall(S, K, r, q, x, T)\n",
    "BS1(0.2)"
   ]
  },
  {
   "cell_type": "code",
   "execution_count": 169,
   "metadata": {},
   "outputs": [
    {
     "data": {
      "text/plain": [
       "24.5940926130354"
      ]
     },
     "execution_count": 169,
     "metadata": {},
     "output_type": "execute_result"
    }
   ],
   "source": [
    "from functools import partial\n",
    "S=490\n",
    "K=470\n",
    "r=0.033\n",
    "q=0\n",
    "T=0.08\n",
    "c=24.5941\n",
    "sigma = 0.2\n",
    "BS2=partial(BS_EuroCall, S, K, T=T)\n",
    "BS2(0.033, 0, 0.2)"
   ]
  },
  {
   "cell_type": "code",
   "execution_count": 97,
   "metadata": {},
   "outputs": [
    {
     "name": "stdout",
     "output_type": "stream",
     "text": [
      "[0.20000019]\n"
     ]
    }
   ],
   "source": [
    "sigma_imp=fsolve(lambda x: BS2(x)-c, 0.05)\n",
    "print(sigma_imp)"
   ]
  },
  {
   "cell_type": "code",
   "execution_count": 171,
   "metadata": {},
   "outputs": [
    {
     "name": "stdout",
     "output_type": "stream",
     "text": [
      "[0.2]\n"
     ]
    }
   ],
   "source": [
    "def mypartial(fun, *args, **kwargs):\n",
    "    def f(x):\n",
    "        return fun(*args, x, **kwargs)\n",
    "    return f\n",
    "BS3=mypartial(BS_EuroCall, S, K, r, q, T=T)\n",
    "c=BS3(0.2)\n",
    "sigma_imp=fsolve(lambda x: BS3(x)-c, 0.5)\n",
    "print(sigma_imp)"
   ]
  },
  {
   "cell_type": "markdown",
   "metadata": {},
   "source": [
    "#### Example 4: Compute the implied volatility for each row of `data`."
   ]
  },
  {
   "cell_type": "code",
   "execution_count": 21,
   "metadata": {
    "scrolled": true
   },
   "outputs": [
    {
     "data": {
      "text/html": [
       "<div>\n",
       "<style scoped>\n",
       "    .dataframe tbody tr th:only-of-type {\n",
       "        vertical-align: middle;\n",
       "    }\n",
       "\n",
       "    .dataframe tbody tr th {\n",
       "        vertical-align: top;\n",
       "    }\n",
       "\n",
       "    .dataframe thead th {\n",
       "        text-align: right;\n",
       "    }\n",
       "</style>\n",
       "<table border=\"1\" class=\"dataframe\">\n",
       "  <thead>\n",
       "    <tr style=\"text-align: right;\">\n",
       "      <th></th>\n",
       "      <th>S</th>\n",
       "      <th>K</th>\n",
       "      <th>r</th>\n",
       "      <th>q</th>\n",
       "      <th>sigma</th>\n",
       "      <th>T</th>\n",
       "      <th>c</th>\n",
       "    </tr>\n",
       "  </thead>\n",
       "  <tbody>\n",
       "    <tr>\n",
       "      <th>0</th>\n",
       "      <td>1403</td>\n",
       "      <td>1350</td>\n",
       "      <td>0.0534</td>\n",
       "      <td>0.0118</td>\n",
       "      <td>0.260</td>\n",
       "      <td>0.102778</td>\n",
       "      <td>80.828</td>\n",
       "    </tr>\n",
       "    <tr>\n",
       "      <th>1</th>\n",
       "      <td>1403</td>\n",
       "      <td>1375</td>\n",
       "      <td>0.0534</td>\n",
       "      <td>0.0118</td>\n",
       "      <td>0.267</td>\n",
       "      <td>0.102778</td>\n",
       "      <td>66.084</td>\n",
       "    </tr>\n",
       "    <tr>\n",
       "      <th>2</th>\n",
       "      <td>1403</td>\n",
       "      <td>1400</td>\n",
       "      <td>0.0534</td>\n",
       "      <td>0.0118</td>\n",
       "      <td>0.231</td>\n",
       "      <td>0.102778</td>\n",
       "      <td>45.894</td>\n",
       "    </tr>\n",
       "    <tr>\n",
       "      <th>3</th>\n",
       "      <td>1403</td>\n",
       "      <td>1425</td>\n",
       "      <td>0.0534</td>\n",
       "      <td>0.0118</td>\n",
       "      <td>0.213</td>\n",
       "      <td>0.102778</td>\n",
       "      <td>30.955</td>\n",
       "    </tr>\n",
       "    <tr>\n",
       "      <th>4</th>\n",
       "      <td>1403</td>\n",
       "      <td>1450</td>\n",
       "      <td>0.0534</td>\n",
       "      <td>0.0118</td>\n",
       "      <td>0.198</td>\n",
       "      <td>0.102778</td>\n",
       "      <td>19.224</td>\n",
       "    </tr>\n",
       "  </tbody>\n",
       "</table>\n",
       "</div>"
      ],
      "text/plain": [
       "      S     K       r       q  sigma         T       c\n",
       "0  1403  1350  0.0534  0.0118  0.260  0.102778  80.828\n",
       "1  1403  1375  0.0534  0.0118  0.267  0.102778  66.084\n",
       "2  1403  1400  0.0534  0.0118  0.231  0.102778  45.894\n",
       "3  1403  1425  0.0534  0.0118  0.213  0.102778  30.955\n",
       "4  1403  1450  0.0534  0.0118  0.198  0.102778  19.224"
      ]
     },
     "execution_count": 21,
     "metadata": {},
     "output_type": "execute_result"
    }
   ],
   "source": [
    "import pandas as pd\n",
    "from scipy.optimize import fsolve\n",
    "# Load data from dataset01.csv\n",
    "data=pd.read_csv('dataset01.csv')\n",
    "data"
   ]
  },
  {
   "cell_type": "code",
   "execution_count": 174,
   "metadata": {},
   "outputs": [
    {
     "data": {
      "text/plain": [
       "0    [0.26000099756907497]\n",
       "1    [0.26699897872478867]\n",
       "2    [0.23099920350758713]\n",
       "3    [0.21299749074903945]\n",
       "4    [0.19799965471169964]\n",
       "dtype: object"
      ]
     },
     "execution_count": 174,
     "metadata": {},
     "output_type": "execute_result"
    }
   ],
   "source": [
    "#Compute Implied Volatility for each row, and put the result in a new column\n",
    "data[['S', 'K', 'r', 'q', 'T', 'c']].apply(\n",
    "      lambda x: fsolve(lambda s: BS_EuroCall(*(x[0:4]),s,x[4])-x[5], 0.5), axis=1)"
   ]
  },
  {
   "cell_type": "code",
   "execution_count": 25,
   "metadata": {},
   "outputs": [
    {
     "data": {
      "text/html": [
       "<div>\n",
       "<style scoped>\n",
       "    .dataframe tbody tr th:only-of-type {\n",
       "        vertical-align: middle;\n",
       "    }\n",
       "\n",
       "    .dataframe tbody tr th {\n",
       "        vertical-align: top;\n",
       "    }\n",
       "\n",
       "    .dataframe thead th {\n",
       "        text-align: right;\n",
       "    }\n",
       "</style>\n",
       "<table border=\"1\" class=\"dataframe\">\n",
       "  <thead>\n",
       "    <tr style=\"text-align: right;\">\n",
       "      <th></th>\n",
       "      <th>S</th>\n",
       "      <th>K</th>\n",
       "      <th>r</th>\n",
       "      <th>q</th>\n",
       "      <th>sigma</th>\n",
       "      <th>T</th>\n",
       "      <th>c</th>\n",
       "      <th>ImpVol</th>\n",
       "    </tr>\n",
       "  </thead>\n",
       "  <tbody>\n",
       "    <tr>\n",
       "      <th>0</th>\n",
       "      <td>1403</td>\n",
       "      <td>1350</td>\n",
       "      <td>0.0534</td>\n",
       "      <td>0.0118</td>\n",
       "      <td>0.260</td>\n",
       "      <td>0.102778</td>\n",
       "      <td>80.828</td>\n",
       "      <td>0.260001</td>\n",
       "    </tr>\n",
       "    <tr>\n",
       "      <th>1</th>\n",
       "      <td>1403</td>\n",
       "      <td>1375</td>\n",
       "      <td>0.0534</td>\n",
       "      <td>0.0118</td>\n",
       "      <td>0.267</td>\n",
       "      <td>0.102778</td>\n",
       "      <td>66.084</td>\n",
       "      <td>0.266999</td>\n",
       "    </tr>\n",
       "    <tr>\n",
       "      <th>2</th>\n",
       "      <td>1403</td>\n",
       "      <td>1400</td>\n",
       "      <td>0.0534</td>\n",
       "      <td>0.0118</td>\n",
       "      <td>0.231</td>\n",
       "      <td>0.102778</td>\n",
       "      <td>45.894</td>\n",
       "      <td>0.230999</td>\n",
       "    </tr>\n",
       "    <tr>\n",
       "      <th>3</th>\n",
       "      <td>1403</td>\n",
       "      <td>1425</td>\n",
       "      <td>0.0534</td>\n",
       "      <td>0.0118</td>\n",
       "      <td>0.213</td>\n",
       "      <td>0.102778</td>\n",
       "      <td>30.955</td>\n",
       "      <td>0.212997</td>\n",
       "    </tr>\n",
       "    <tr>\n",
       "      <th>4</th>\n",
       "      <td>1403</td>\n",
       "      <td>1450</td>\n",
       "      <td>0.0534</td>\n",
       "      <td>0.0118</td>\n",
       "      <td>0.198</td>\n",
       "      <td>0.102778</td>\n",
       "      <td>19.224</td>\n",
       "      <td>0.198000</td>\n",
       "    </tr>\n",
       "  </tbody>\n",
       "</table>\n",
       "</div>"
      ],
      "text/plain": [
       "      S     K       r       q  sigma         T       c    ImpVol\n",
       "0  1403  1350  0.0534  0.0118  0.260  0.102778  80.828  0.260001\n",
       "1  1403  1375  0.0534  0.0118  0.267  0.102778  66.084  0.266999\n",
       "2  1403  1400  0.0534  0.0118  0.231  0.102778  45.894  0.230999\n",
       "3  1403  1425  0.0534  0.0118  0.213  0.102778  30.955  0.212997\n",
       "4  1403  1450  0.0534  0.0118  0.198  0.102778  19.224  0.198000"
      ]
     },
     "execution_count": 25,
     "metadata": {},
     "output_type": "execute_result"
    }
   ],
   "source": [
    "data['ImpVol'] = data[['S', 'K', 'r', 'q', 'T', 'c']].apply(\n",
    "    lambda x: fsolve(lambda s: \n",
    "                     BS_EuroCall(*(x[0:4]),s,x[4])-x[5], 0.5)[0], axis=1)\n",
    "data"
   ]
  },
  {
   "cell_type": "code",
   "execution_count": 83,
   "metadata": {},
   "outputs": [],
   "source": [
    "\n",
    "data.to_csv('output.csv')"
   ]
  },
  {
   "cell_type": "code",
   "execution_count": 24,
   "metadata": {},
   "outputs": [],
   "source": [
    "#Compute Implied Volatility for each row, and put the result in a new column\n",
    "#f=lambda s: fsolve(lambda x: BS_EuroCall(s[0],s[1],s[2],s[3],x,s[4])-s[5], 0.5)\n",
    "#data['ImpVol']=data.loc[:,data.columns!='sigma'].apply(f, axis=1, result_type='expand')\n",
    "#t"
   ]
  },
  {
   "cell_type": "markdown",
   "metadata": {},
   "source": [
    "#### Example 5: Solve the following system of nonlinear equations.\n",
    "\\begin{align*}\n",
    "  x_0 \\cos (x_1) &= 4 \\\\\n",
    "  x_0 x_1 -x_1 &= 5\n",
    "\\end{align*}"
   ]
  },
  {
   "cell_type": "code",
   "execution_count": 25,
   "metadata": {},
   "outputs": [
    {
     "name": "stdout",
     "output_type": "stream",
     "text": [
      "[6.50409711 0.90841421]\n"
     ]
    }
   ],
   "source": [
    "from math import cos\n",
    "def f03(x):\n",
    "    y=[0, 0]\n",
    "    y[0] = x[0]*cos(x[1]) - 4\n",
    "    y[1] = x[0]*x[1] - x[1] - 5\n",
    "    return y\n",
    "\n",
    "x = fsolve(f03, [1, 1])\n",
    "print(x)"
   ]
  },
  {
   "cell_type": "markdown",
   "metadata": {},
   "source": [
    "## 2. Optimization"
   ]
  },
  {
   "cell_type": "markdown",
   "metadata": {},
   "source": [
    "#### Example 6: Optimization with constraints\n",
    "<p>\n",
    "<div style=\"width: 400px;\">![example 6](example6.png)</div>"
   ]
  },
  {
   "cell_type": "code",
   "execution_count": 254,
   "metadata": {},
   "outputs": [
    {
     "name": "stdout",
     "output_type": "stream",
     "text": [
      "[1.4 1.7]\n"
     ]
    }
   ],
   "source": [
    "from scipy.optimize import minimize\n",
    "funcc = lambda y: (y[0] - 1)**2 + (y[1] - 2.5)**2\n",
    "cons = ({'type': 'ineq', 'fun': lambda y:  y[0] - 2 * y[1] + 2},\n",
    "        {'type': 'ineq', 'fun': lambda y: -y[0] - 2 * y[1] + 6},\n",
    "        {'type': 'ineq', 'fun': lambda y: -y[0] + 2 * y[1] + 2})\n",
    "bnds = ((0, None), (0, None))\n",
    "res = minimize(funcc, (2, 0), constraints=cons, bounds=bnds)\n",
    "print(res.x)"
   ]
  },
  {
   "cell_type": "markdown",
   "metadata": {},
   "source": [
    "#### Example 7: Optimization with constraints\n",
    "<p>\n",
    "<div style=\"width: 600px;\">![example 7](example7.png)</div>"
   ]
  },
  {
   "cell_type": "code",
   "execution_count": 257,
   "metadata": {},
   "outputs": [
    {
     "name": "stdout",
     "output_type": "stream",
     "text": [
      "[0.66666667 1.33333333]\n"
     ]
    }
   ],
   "source": [
    "from scipy.optimize import minimize\n",
    "fun = lambda x : (1/2)*x[0]**2+x[1]**2-x[0]*x[1]-2*x[0]-6*x[1]\n",
    "cons = ({'type': 'ineq', 'fun' : lambda x: -x[0] -x[1]+2},\n",
    "        {'type': 'ineq', 'fun' : lambda x: x[0]-2*x[1]+2},\n",
    "        {'type': 'ineq', 'fun' : lambda x: -2*x[0]-x[1]+3})\n",
    "bnds = ((None, None), (None, None))\n",
    "res = minimize(fun, (0, 0), bounds=bnds, constraints=cons)\n",
    "print(res.x)\n",
    "# why res.x??"
   ]
  },
  {
   "cell_type": "markdown",
   "metadata": {},
   "source": [
    "#### Example 8: Minimum-Variance Portfolio\n",
    "<p>\n",
    "<div style=\"width: 400px;\">![example 8](example8.png)</div>"
   ]
  },
  {
   "cell_type": "code",
   "execution_count": 217,
   "metadata": {},
   "outputs": [
    {
     "data": {
      "text/plain": [
       "array([0.57053491, 0.26145849, 0.06547829, 0.10252831])"
      ]
     },
     "execution_count": 217,
     "metadata": {},
     "output_type": "execute_result"
    }
   ],
   "source": [
    "from scipy.optimize import minimize\n",
    "import numpy as np\n",
    "R=np.matrix([0.07,0.08,0.09,0.1])\n",
    "#x0=np.matrix([0.1,0.1,0.1,0.1])\n",
    "#x0=np.array([0.1,0.1,0.1,0.1])\n",
    "x0=np.array([[0.1,0.1,0.1,0.1]])\n",
    "R0=0.077\n",
    "sigma=np.matrix([[0.0225, 0.009, 0.013125, 0.01125],\n",
    "                 [0.009, 0.04, 0.019, 0.006],\n",
    "                 [0.013125, 0.019, 0.0625, 0.01125],\n",
    "                 [0.01125, 0.006, 0.01125, 0.09]])\n",
    "def fun(w, sigma):\n",
    "    Mw=np.matrix(w)    \n",
    "    return (Mw*sigma*(Mw.T))[0,0]\n",
    "\n",
    "cons = ({'type': 'eq', 'fun': lambda x: (np.matrix(x)*(R.T))[0,0]-R0},\n",
    "        {'type': 'eq', 'fun': lambda x: np.sum(x)-1.0})\n",
    "bnds = ((0, 1), )*4\n",
    "res = minimize(fun, x0, args=sigma, bounds=bnds, constraints=cons)\n",
    "res.x"
   ]
  },
  {
   "cell_type": "code",
   "execution_count": 247,
   "metadata": {},
   "outputs": [
    {
     "data": {
      "text/plain": [
       "array([0.57053491, 0.26145849, 0.06547829, 0.10252831])"
      ]
     },
     "execution_count": 247,
     "metadata": {},
     "output_type": "execute_result"
    }
   ],
   "source": [
    "from scipy.optimize import minimize\n",
    "import numpy as np\n",
    "R=np.array([[0.07,0.08,0.09,0.1]])\n",
    "x0=[0.1,0.1,0.1,0.1]\n",
    "#x0=np.array([0.1,0.1,0.1,0.1])\n",
    "#x0=np.array([[0.1,0.1,0.1,0.1]])\n",
    "R0=0.077\n",
    "sigma=np.array([[0.0225, 0.009, 0.013125, 0.01125],\n",
    "                 [0.009, 0.04, 0.019, 0.006],\n",
    "                 [0.013125, 0.019, 0.0625, 0.01125],\n",
    "                 [0.01125, 0.006, 0.01125, 0.09]])\n",
    "def fun(w, sigma):\n",
    "    return (w@sigma@(w))\n",
    "\n",
    "cons = ({'type': 'eq', 'fun': lambda x: (x@(R.T))[0]-R0},\n",
    "        {'type': 'eq', 'fun': lambda x: np.sum(x)-1.0})\n",
    "bnds = ((0, 1), )*4\n",
    "\n",
    "res = minimize(fun, x0, args=sigma, bounds=bnds, constraints=cons)\n",
    "res.x"
   ]
  },
  {
   "cell_type": "code",
   "execution_count": 14,
   "metadata": {},
   "outputs": [
    {
     "name": "stdout",
     "output_type": "stream",
     "text": [
      "0.5705349078765326 0.26145849193435333 0.06547829250169435 0.10252830768741955\n",
      "[0.57053491 0.26145849 0.06547829 0.10252831]\n"
     ]
    }
   ],
   "source": [
    "from scipy.optimize import minimize\n",
    "import numpy as np\n",
    "R=np.array([0.07,0.08,0.09,0.1])\n",
    "x0=[0.1,0.1,0.1,0.1]\n",
    "#x0=np.array([0.1,0.1,0.1,0.1])\n",
    "#x0=np.array([[0.1,0.1,0.1,0.1]])\n",
    "R0=0.077\n",
    "sigma=np.array([[0.0225, 0.009, 0.013125, 0.01125],\n",
    "                 [0.009, 0.04, 0.019, 0.006],\n",
    "                 [0.013125, 0.019, 0.0625, 0.01125],\n",
    "                 [0.01125, 0.006, 0.01125, 0.09]])\n",
    "def fun(w, sigma):\n",
    "    return (w@sigma@(w.T))\n",
    "\n",
    "cons = ({'type': 'eq', 'fun': lambda x: (x@(R.T))-R0},\n",
    "        {'type': 'eq', 'fun': lambda x: np.sum(x)-1.0})\n",
    "bnds = ((0, 1), )*4\n",
    "\n",
    "res = minimize(fun, x0, args=sigma, bounds=bnds, constraints=cons)\n",
    "[a, b, c, d] = res.x\n",
    "print(a, b, c, d)\n",
    "print(res.x)"
   ]
  },
  {
   "cell_type": "code",
   "execution_count": 240,
   "metadata": {},
   "outputs": [
    {
     "name": "stdout",
     "output_type": "stream",
     "text": [
      "0.034\n"
     ]
    }
   ],
   "source": [
    "kkk = np.array([[0.0225, 0.009, 0.013125, 0.01125],\n",
    "                 [0.009, 0.04, 0.019, 0.006],\n",
    "                 [0.013125, 0.019, 0.0625, 0.01125],\n",
    "                 [0.01125, 0.006, 0.01125, 0.09]])\n",
    "w = np.array([0.1,0.1,0.1,0.1])\n",
    "R=np.array([0.07,0.08,0.09,0.1])\n",
    "w@kkk@(w.T)\n",
    "(w.T).shape\n",
    "print(w@R)"
   ]
  },
  {
   "cell_type": "code",
   "execution_count": 250,
   "metadata": {},
   "outputs": [
    {
     "data": {
      "text/plain": [
       "10"
      ]
     },
     "execution_count": 250,
     "metadata": {},
     "output_type": "execute_result"
    }
   ],
   "source": [
    "pp = np.array([1, 2, 3, 4])\n",
    "ll = np.array([1, 1, 1, 1])\n",
    "pp.T@ll.T"
   ]
  },
  {
   "cell_type": "markdown",
   "metadata": {},
   "source": [
    "## 3. Differentiation"
   ]
  },
  {
   "cell_type": "code",
   "execution_count": 16,
   "metadata": {},
   "outputs": [
    {
     "data": {
      "text/html": [
       "<div>\n",
       "<style scoped>\n",
       "    .dataframe tbody tr th:only-of-type {\n",
       "        vertical-align: middle;\n",
       "    }\n",
       "\n",
       "    .dataframe tbody tr th {\n",
       "        vertical-align: top;\n",
       "    }\n",
       "\n",
       "    .dataframe thead th {\n",
       "        text-align: right;\n",
       "    }\n",
       "</style>\n",
       "<table border=\"1\" class=\"dataframe\">\n",
       "  <thead>\n",
       "    <tr style=\"text-align: right;\">\n",
       "      <th></th>\n",
       "      <th>S</th>\n",
       "      <th>K</th>\n",
       "      <th>r</th>\n",
       "      <th>q</th>\n",
       "      <th>sigma</th>\n",
       "      <th>T</th>\n",
       "      <th>c</th>\n",
       "      <th>BS</th>\n",
       "      <th>Delta</th>\n",
       "      <th>Vega</th>\n",
       "      <th>Vega2</th>\n",
       "    </tr>\n",
       "  </thead>\n",
       "  <tbody>\n",
       "    <tr>\n",
       "      <th>0</th>\n",
       "      <td>1403</td>\n",
       "      <td>1350</td>\n",
       "      <td>0.0534</td>\n",
       "      <td>0.0118</td>\n",
       "      <td>0.260</td>\n",
       "      <td>0.102778</td>\n",
       "      <td>80.828</td>\n",
       "      <td>80.827847</td>\n",
       "      <td>0.709677</td>\n",
       "      <td>153.643372</td>\n",
       "      <td>153.615931</td>\n",
       "    </tr>\n",
       "    <tr>\n",
       "      <th>1</th>\n",
       "      <td>1403</td>\n",
       "      <td>1375</td>\n",
       "      <td>0.0534</td>\n",
       "      <td>0.0118</td>\n",
       "      <td>0.267</td>\n",
       "      <td>0.102778</td>\n",
       "      <td>66.084</td>\n",
       "      <td>66.084173</td>\n",
       "      <td>0.627880</td>\n",
       "      <td>169.821334</td>\n",
       "      <td>169.811796</td>\n",
       "    </tr>\n",
       "    <tr>\n",
       "      <th>2</th>\n",
       "      <td>1403</td>\n",
       "      <td>1400</td>\n",
       "      <td>0.0534</td>\n",
       "      <td>0.0118</td>\n",
       "      <td>0.231</td>\n",
       "      <td>0.102778</td>\n",
       "      <td>45.894</td>\n",
       "      <td>45.894142</td>\n",
       "      <td>0.548545</td>\n",
       "      <td>177.856491</td>\n",
       "      <td>177.855164</td>\n",
       "    </tr>\n",
       "    <tr>\n",
       "      <th>3</th>\n",
       "      <td>1403</td>\n",
       "      <td>1425</td>\n",
       "      <td>0.0534</td>\n",
       "      <td>0.0118</td>\n",
       "      <td>0.213</td>\n",
       "      <td>0.102778</td>\n",
       "      <td>30.955</td>\n",
       "      <td>30.955446</td>\n",
       "      <td>0.447307</td>\n",
       "      <td>177.688245</td>\n",
       "      <td>177.682856</td>\n",
       "    </tr>\n",
       "    <tr>\n",
       "      <th>4</th>\n",
       "      <td>1403</td>\n",
       "      <td>1450</td>\n",
       "      <td>0.0534</td>\n",
       "      <td>0.0118</td>\n",
       "      <td>0.198</td>\n",
       "      <td>0.102778</td>\n",
       "      <td>19.224</td>\n",
       "      <td>19.224057</td>\n",
       "      <td>0.336832</td>\n",
       "      <td>164.091086</td>\n",
       "      <td>164.051102</td>\n",
       "    </tr>\n",
       "  </tbody>\n",
       "</table>\n",
       "</div>"
      ],
      "text/plain": [
       "      S     K       r       q  sigma         T       c         BS     Delta  \\\n",
       "0  1403  1350  0.0534  0.0118  0.260  0.102778  80.828  80.827847  0.709677   \n",
       "1  1403  1375  0.0534  0.0118  0.267  0.102778  66.084  66.084173  0.627880   \n",
       "2  1403  1400  0.0534  0.0118  0.231  0.102778  45.894  45.894142  0.548545   \n",
       "3  1403  1425  0.0534  0.0118  0.213  0.102778  30.955  30.955446  0.447307   \n",
       "4  1403  1450  0.0534  0.0118  0.198  0.102778  19.224  19.224057  0.336832   \n",
       "\n",
       "         Vega       Vega2  \n",
       "0  153.643372  153.615931  \n",
       "1  169.821334  169.811796  \n",
       "2  177.856491  177.855164  \n",
       "3  177.688245  177.682856  \n",
       "4  164.091086  164.051102  "
      ]
     },
     "execution_count": 16,
     "metadata": {},
     "output_type": "execute_result"
    }
   ],
   "source": [
    "import pandas as pd\n",
    "from scipy.stats import norm\n",
    "from scipy.misc import derivative\n",
    "from math import log, sqrt, exp\n",
    "\n",
    "def BS_EuroCallV(S,K,r,q,sigma,T):\n",
    "   d1=(log(S/K)+(r-q+sigma**2/2)*T)/(sigma*sqrt(T))\n",
    "   d2=d1-sigma*sqrt(T)\n",
    "   c=S*exp(-q*T)*norm.cdf(d1)-K*exp(-r*T)*norm.cdf(d2)   \n",
    "   return c\n",
    "def BS_EuroCallDelta(S,K,r,q,sigma,T):\n",
    "   d1=(log(S/K)+(r-q+sigma**2/2)*T)/(sigma*sqrt(T))\n",
    "   Delta=exp(-q*T)*norm.cdf(d1)\n",
    "   return Delta\n",
    "def BS_EuroCallVega(S,K,r,q,sigma,T):\n",
    "   d1=(log(S/K)+(r-q+sigma**2/2)*T)/(sigma*sqrt(T))\n",
    "   Vega=S*exp(-q*T)*norm.pdf(d1)*sqrt(T)\n",
    "   return Vega\n",
    "\n",
    "data=pd.read_csv('dataset01.csv',header=0)\n",
    "data['BS']=data[['S','K','r','q','sigma','T']].apply(lambda x: BS_EuroCallV(*x), axis=1)\n",
    "data['Delta'] = data[['S','K','r','q','sigma','T']].apply(lambda x: derivative(lambda s: BS_EuroCallV(s, *(x[1:7])), x[0], dx=0.1), axis=1)\n",
    "'''\n",
    "data['Delta calc']=data[['S','K','r','q','sigma','T']].apply(lambda x: derivative(lambda s: BS_EuroCallV(s, *(x[1:])), x[0], dx)\n",
    "data['Delta']=data[['S','K','r','q','sigma','T']].apply(lambda x: BS_EuroCallDelta(*x), axis=1)\n",
    "data['Delta2']=data[['S','K','r','q','sigma','T']].apply(\n",
    "    lambda x: derivative(lambda s: BS_EuroCallV(s,*(x[1:])),x[0],dx=0.01), axis=1)\n",
    "    '''\n",
    "data['Vega']=data[['S','K','r','q','sigma','T']].apply(lambda x: BS_EuroCallVega(*x), axis=1)\n",
    "data['Vega2']=data[['S','K','r','q','sigma','T']].apply(\n",
    "    lambda x: derivative(lambda s: BS_EuroCallV(*(x[0:4]), s, x[5]),x[4],dx=0.01), axis=1)\n",
    "\n",
    "data\n"
   ]
  },
  {
   "cell_type": "code",
   "execution_count": 119,
   "metadata": {},
   "outputs": [
    {
     "ename": "TypeError",
     "evalue": "'numpy.float64' object is not callable",
     "output_type": "error",
     "traceback": [
      "\u001b[1;31m---------------------------------------------------------------------------\u001b[0m",
      "\u001b[1;31mTypeError\u001b[0m                                 Traceback (most recent call last)",
      "\u001b[1;32m<ipython-input-119-f036f411d9bf>\u001b[0m in \u001b[0;36m<module>\u001b[1;34m()\u001b[0m\n\u001b[1;32m----> 1\u001b[1;33m \u001b[0mderivative\u001b[0m\u001b[1;33m(\u001b[0m\u001b[0mBS_EuroCallV\u001b[0m\u001b[1;33m(\u001b[0m\u001b[1;36m1403\u001b[0m\u001b[1;33m,\u001b[0m \u001b[1;36m1350\u001b[0m\u001b[1;33m,\u001b[0m \u001b[1;36m0.0534\u001b[0m\u001b[1;33m,\u001b[0m \u001b[1;36m0.0118\u001b[0m\u001b[1;33m,\u001b[0m \u001b[1;36m0.260\u001b[0m\u001b[1;33m,\u001b[0m \u001b[1;36m0.102778\u001b[0m\u001b[1;33m)\u001b[0m\u001b[1;33m,\u001b[0m \u001b[1;36m0.260\u001b[0m\u001b[1;33m)\u001b[0m\u001b[1;33m\u001b[0m\u001b[0m\n\u001b[0m",
      "\u001b[1;32m~\\Anaconda3\\lib\\site-packages\\scipy\\misc\\common.py\u001b[0m in \u001b[0;36mderivative\u001b[1;34m(func, x0, dx, n, args, order)\u001b[0m\n\u001b[0;32m    117\u001b[0m     \u001b[0mho\u001b[0m \u001b[1;33m=\u001b[0m \u001b[0morder\u001b[0m \u001b[1;33m>>\u001b[0m \u001b[1;36m1\u001b[0m\u001b[1;33m\u001b[0m\u001b[0m\n\u001b[0;32m    118\u001b[0m     \u001b[1;32mfor\u001b[0m \u001b[0mk\u001b[0m \u001b[1;32min\u001b[0m \u001b[0mrange\u001b[0m\u001b[1;33m(\u001b[0m\u001b[0morder\u001b[0m\u001b[1;33m)\u001b[0m\u001b[1;33m:\u001b[0m\u001b[1;33m\u001b[0m\u001b[0m\n\u001b[1;32m--> 119\u001b[1;33m         \u001b[0mval\u001b[0m \u001b[1;33m+=\u001b[0m \u001b[0mweights\u001b[0m\u001b[1;33m[\u001b[0m\u001b[0mk\u001b[0m\u001b[1;33m]\u001b[0m\u001b[1;33m*\u001b[0m\u001b[0mfunc\u001b[0m\u001b[1;33m(\u001b[0m\u001b[0mx0\u001b[0m\u001b[1;33m+\u001b[0m\u001b[1;33m(\u001b[0m\u001b[0mk\u001b[0m\u001b[1;33m-\u001b[0m\u001b[0mho\u001b[0m\u001b[1;33m)\u001b[0m\u001b[1;33m*\u001b[0m\u001b[0mdx\u001b[0m\u001b[1;33m,\u001b[0m\u001b[1;33m*\u001b[0m\u001b[0margs\u001b[0m\u001b[1;33m)\u001b[0m\u001b[1;33m\u001b[0m\u001b[0m\n\u001b[0m\u001b[0;32m    120\u001b[0m     \u001b[1;32mreturn\u001b[0m \u001b[0mval\u001b[0m \u001b[1;33m/\u001b[0m \u001b[0mproduct\u001b[0m\u001b[1;33m(\u001b[0m\u001b[1;33m(\u001b[0m\u001b[0mdx\u001b[0m\u001b[1;33m,\u001b[0m\u001b[1;33m)\u001b[0m\u001b[1;33m*\u001b[0m\u001b[0mn\u001b[0m\u001b[1;33m,\u001b[0m\u001b[0maxis\u001b[0m\u001b[1;33m=\u001b[0m\u001b[1;36m0\u001b[0m\u001b[1;33m)\u001b[0m\u001b[1;33m\u001b[0m\u001b[0m\n\u001b[0;32m    121\u001b[0m \u001b[1;33m\u001b[0m\u001b[0m\n",
      "\u001b[1;31mTypeError\u001b[0m: 'numpy.float64' object is not callable"
     ]
    }
   ],
   "source": []
  },
  {
   "cell_type": "markdown",
   "metadata": {},
   "source": [
    "## 4. Integration"
   ]
  },
  {
   "cell_type": "markdown",
   "metadata": {},
   "source": [
    "#### `scipy.integrate.quad` for integral of\n",
    "\n",
    "$$\n",
    "\\int_a^b f(x) dx\n",
    "$$\n",
    "\n",
    "https://docs.scipy.org/doc/scipy/reference/generated/scipy.integrate.quad.html"
   ]
  },
  {
   "cell_type": "markdown",
   "metadata": {},
   "source": [
    "#### Example: Compute $\\displaystyle \\int_0^4 x^2 dx$"
   ]
  },
  {
   "cell_type": "code",
   "execution_count": 21,
   "metadata": {},
   "outputs": [
    {
     "name": "stdout",
     "output_type": "stream",
     "text": [
      "21.333333333333336\n",
      "21.333333333333332\n"
     ]
    }
   ],
   "source": [
    "from scipy import integrate\n",
    "x2 = lambda x: x**2\n",
    "print(integrate.quad(x2, 0, 4)[0])\n",
    "print(4**3 / 3.)  # analytical result"
   ]
  },
  {
   "cell_type": "markdown",
   "metadata": {},
   "source": [
    "#### Example: Compute $\\displaystyle \\int_0^\\infty e^{-x} dx$"
   ]
  },
  {
   "cell_type": "code",
   "execution_count": 20,
   "metadata": {},
   "outputs": [
    {
     "data": {
      "text/plain": [
       "(1.0000000000000002, 5.842606996763696e-11)"
      ]
     },
     "execution_count": 20,
     "metadata": {},
     "output_type": "execute_result"
    }
   ],
   "source": [
    "from scipy import integrate\n",
    "import numpy as np\n",
    "invexp = lambda x: np.exp(-x)\n",
    "integrate.quad(invexp, 0, np.inf)"
   ]
  },
  {
   "cell_type": "code",
   "execution_count": 34,
   "metadata": {},
   "outputs": [
    {
     "data": {
      "text/plain": [
       "(1.0000000000000002, 5.842606996763696e-11)"
      ]
     },
     "execution_count": 34,
     "metadata": {},
     "output_type": "execute_result"
    }
   ],
   "source": [
    "from scipy import integrate\n",
    "import numpy as np\n",
    "invexp = lambda x: np.exp(-x)\n",
    "integrate.quad(invexp, 0, np.inf)"
   ]
  },
  {
   "cell_type": "markdown",
   "metadata": {},
   "source": [
    "#### `scipy.integrate.dblquad` for double integral of\n",
    "\n",
    "$$\n",
    "\\int_a^b \\int_{g(x)}^{f(x)} f(x,y) dy dx\n",
    "$$\n",
    "\n",
    "https://docs.scipy.org/doc/scipy/reference/generated/scipy.integrate.dblquad.html"
   ]
  },
  {
   "cell_type": "markdown",
   "metadata": {},
   "source": [
    "#### Example: Compute $\\displaystyle \\int_0^2 \\int_0^1 xy^2 dy dx$"
   ]
  },
  {
   "cell_type": "code",
   "execution_count": 253,
   "metadata": {},
   "outputs": [
    {
     "data": {
      "text/plain": [
       "(0.6666666666666667, 2.2108134835808843e-14)"
      ]
     },
     "execution_count": 253,
     "metadata": {},
     "output_type": "execute_result"
    }
   ],
   "source": [
    "from scipy import integrate\n",
    "f = lambda x, y: x*y**2\n",
    "integrate.dblquad(f, 0, 1, lambda z: 0, lambda z: 2)\n",
    "#integrate.dblquad(f, 0, 2, 0, 1) #Wrong"
   ]
  },
  {
   "cell_type": "code",
   "execution_count": null,
   "metadata": {},
   "outputs": [],
   "source": []
  }
 ],
 "metadata": {
  "kernelspec": {
   "display_name": "Python 3",
   "language": "python",
   "name": "python3"
  },
  "language_info": {
   "codemirror_mode": {
    "name": "ipython",
    "version": 3
   },
   "file_extension": ".py",
   "mimetype": "text/x-python",
   "name": "python",
   "nbconvert_exporter": "python",
   "pygments_lexer": "ipython3",
   "version": "3.6.5"
  }
 },
 "nbformat": 4,
 "nbformat_minor": 2
}
