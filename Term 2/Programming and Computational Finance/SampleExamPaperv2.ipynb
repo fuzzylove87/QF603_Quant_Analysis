{
 "cells": [
  {
   "cell_type": "code",
   "execution_count": 1,
   "metadata": {},
   "outputs": [],
   "source": [
    "%matplotlib inline"
   ]
  },
  {
   "cell_type": "markdown",
   "metadata": {},
   "source": [
    "# Question 1\n",
    "\n",
    "(1)\t\\[2 marks\\] Load data from `E001.csv`, which contains the coordinates of 7 points (see Figure 1) from row 2 to row 8. Note that it is not accepted if you type these values manually in your program.\n",
    "\n",
    "(2)\t\\[2 marks\\] Plot a scatter plot, y (vertical) vs x (horizontal), using circles as the marker.\n",
    "\n",
    "(3) \\[2 marks\\] Draw the straight line of best fit in the same plot.\n",
    "\n",
    "(4)\t\\[2 marks\\] Use 30 equally spaced points to draw the quadratic polynomial of best fit in the same plot. \n",
    "\n",
    "(5)\t\\[2 marks\\] Label the x axis and the y axis, respectively, using “x” and “y”. Add title “Seven Points” to the graph."
   ]
  },
  {
   "cell_type": "code",
   "execution_count": 2,
   "metadata": {
    "scrolled": true
   },
   "outputs": [
    {
     "data": {
      "image/png": "[encoded data removed]",
      "text/plain": [
       "<Figure size 432x288 with 1 Axes>"
      ]
     },
     "metadata": {},
     "output_type": "display_data"
    }
   ],
   "source": [
    "%reset -f\n",
    "#(0)\n",
    "import matplotlib.pyplot as plt\n",
    "import pandas as pd\n",
    "import numpy as np\n",
    "#(1)\n",
    "df=pd.read_csv('E001.csv')\n",
    "#(2)\n",
    "plt.plot(df.x,df.y,'ko',mfc='none')\n",
    "#(3)\n",
    "p01=np.polyfit(df.x, df.y, 1)\n",
    "x0=df.x.sort_values(ascending=True)\n",
    "#x0=[df.x.min(), df.x.max()]\n",
    "plt.plot(x0, np.polyval(p01, x0), 'k-')\n",
    "#(4)\n",
    "p02=np.polyfit(df.x, df.y, 2)\n",
    "x1=np.linspace(df.x.min(), df.x.max(), 30)\n",
    "plt.plot(x1, np.polyval(p02, x1), 'k:')\n",
    "#(5)\n",
    "plt.xlabel('x')\n",
    "plt.ylabel('y')\n",
    "plt.title('Seven Points')\n",
    "plt.show()"
   ]
  },
  {
   "cell_type": "markdown",
   "metadata": {},
   "source": [
    "# Question 2\n",
    "\n",
    "(1)\t\\[2 marks\\] Specify the seed number for the random number generator as `123456`.\n",
    "\n",
    "(2)\t\\[2 marks\\] **Use one command** to generate a 4-by-8 matrix by appending a 4-by-4 matrix of uniformly distributed random numbers to a 4-by-4 matrix of random numbers of standard normal distribution. Name the 4-by-8 matrix as `x`.\n",
    "\n",
    "(3)\t\\[2 marks\\] **Use one command** to update the second row of `x` by adding 2 times the elements in its first row to the square of the elements in its third row, element by element.\n",
    "\n",
    "(4)\t\\[2 marks\\] **Use one command** to calculate the sum of each column and sort the sums from highest to lowest. Save and name the sorted sums as `s`.\n",
    "\n",
    "(5)\t\\[2 marks\\] **Use one command** to find the second smallest sum in `s` and name the scalar as `Q02`."
   ]
  },
  {
   "cell_type": "code",
   "execution_count": 3,
   "metadata": {},
   "outputs": [
    {
     "data": {
      "text/plain": [
       "-1.4167030442560717"
      ]
     },
     "execution_count": 3,
     "metadata": {},
     "output_type": "execute_result"
    }
   ],
   "source": [
    "%reset -f\n",
    "#(0)\n",
    "#import matplotlib.pyplot as plt\n",
    "#import pandas as pd\n",
    "import numpy as np\n",
    "#(1)\n",
    "np.random.seed(123456)\n",
    "#(2)\n",
    "x=np.append(np.random.rand(4,4),np.random.randn(4,4), axis=1)\n",
    "#x=np.concatenate((np.random.rand(4,4),np.random.randn(4,4)), axis=1)\n",
    "#(3)\n",
    "x[1,:]=2*x[0,:]+x[2,:]**2\n",
    "#(4)\n",
    "s=np.sort(np.sum(x, axis=0))[::-1]\n",
    "#(5)\n",
    "Q02=s[-2]\n",
    "#(**)\n",
    "Q02"
   ]
  },
  {
   "cell_type": "markdown",
   "metadata": {},
   "source": [
    "# Question 3\n",
    "\n",
    "(1)\tWrite a function to compute the European call option price using the following Black-Scholes formula:\n",
    "\n",
    "$$\n",
    "V=S\\cdot \\Phi(d_1)-K \\cdot e^{-rT} \\cdot \\Phi(d_2)\n",
    "$$\n",
    "\n",
    "where $\\Phi(x)$ represents the standard normal cumulative distribution function, and\n",
    "\n",
    "$$ d_1=\n",
    "\\frac{1}{\\sigma \\sqrt{T}} \n",
    "\\left[ \\ln \\left( \\frac{S}{K} \\right) + \n",
    "\\left( r+\\frac{\\sigma^2}{2} \\right) T \\right]\n",
    "\\mbox{ and }\n",
    "d_2=d_1 -\\sigma \\sqrt{T}.\n",
    "$$\n",
    "\n",
    "Inputs to the function should be $S$, $K$, $r$, $T$ and $\\sigma$ and the output should be the value of $V$. Name this function as `Q03fun`.\n",
    "\n",
    "\n",
    "(2)\tGiven $V=13.7$, $S=100$, $K=95$, $r=0.1$, $T=0.25$, **use the function defined in (1) and a library function for equation solving to find the implied volatility**, i.e. the value of $\\sigma$ in the Black-Scholes formula. Name the value of $\\sigma$ as `Q03sigma`."
   ]
  },
  {
   "cell_type": "code",
   "execution_count": 4,
   "metadata": {},
   "outputs": [
    {
     "data": {
      "text/plain": [
       "0.5002599582915369"
      ]
     },
     "execution_count": 4,
     "metadata": {},
     "output_type": "execute_result"
    }
   ],
   "source": [
    "#(0)\n",
    "%reset -f\n",
    "import numpy as np\n",
    "import scipy.stats as ss\n",
    "import scipy.optimize as so\n",
    "\n",
    "#(1)\n",
    "def Q03fun(S, K, r, sigma, T):\n",
    "    d1 = (np.log(S/K) + (r + sigma**2 / 2) * T)/(sigma * np.sqrt(T))\n",
    "    d2 = d1 - sigma* np.sqrt(T)\n",
    "    return S * ss.norm.cdf(d1) - K * np.exp(-r * T) * ss.norm.cdf(d2)\n",
    "#(2)\n",
    "V=13.7\n",
    "S=100\n",
    "K=95\n",
    "r=0.1\n",
    "T=0.25\n",
    "Q03sigma=so.fsolve(lambda x: Q03fun(S, K, r, x, T)-V, 0.5)[0]\n",
    "Q03sigma"
   ]
  },
  {
   "cell_type": "markdown",
   "metadata": {},
   "source": [
    "# Question 4\n",
    "\n",
    "Solve the following optimization problem with constraints.\n",
    "\n",
    "$$\n",
    "\\begin{array}{l}\n",
    "\\mbox{Miminize } 3x^2+4xy+y^2+x+6y-2 \\\\\n",
    "\\mbox{Subject to} \\\\\n",
    "2x+3y\\ge 4 \\\\\n",
    "x\\ge 0 \\\\\n",
    "y\\ge 0\n",
    "\\end{array}\n",
    "$$\n",
    "\n",
    "Use the library function `scipy.optimize.minimize`. Name the minimum value as `Q04min`, and the corresponding values of `x` and `y`, respectively, as `Q04x` and `Q04y`."
   ]
  },
  {
   "cell_type": "code",
   "execution_count": 5,
   "metadata": {},
   "outputs": [
    {
     "data": {
      "text/plain": [
       "(7.7777777777804005, 1.580957587066223e-13, 1.3333333333335204)"
      ]
     },
     "execution_count": 5,
     "metadata": {},
     "output_type": "execute_result"
    }
   ],
   "source": [
    "%reset -f\n",
    "import numpy as np\n",
    "import scipy.optimize as so\n",
    "fun=lambda x: 3*x[0]**2+4*x[0]*x[1]+x[1]**2+x[0]+6*x[1]-2\n",
    "cons=({'type': 'ineq', 'fun': lambda x: 2*x[0]+3*x[1]-4},)\n",
    "bnds=((0, None), (0, None))\n",
    "res=so.minimize(fun, (1, 1), bounds=bnds, constraints=cons)\n",
    "Q04min=res.fun\n",
    "Q04x, Q04y=res.x\n",
    "Q04min, Q04x, Q04y"
   ]
  },
  {
   "cell_type": "markdown",
   "metadata": {},
   "source": [
    "# Question 5\n",
    "\n",
    "***\n",
    "Write a Python function, `myLSMput`, to implement the following algorithm.\n",
    "***\n",
    "\n",
    "- **Input:** $K$ (a positive number), $r$ (a positive number), $\\Delta t$ (a positive number) and $S$ (an $M$-by-$N$ matrix) denoted as the following.\n",
    "\n",
    "$$\n",
    "S=\n",
    "\\begin{pmatrix}\n",
    "S_{1,1} & S_{1,2} & \\cdots & S_{1,N} \\\\\n",
    "S_{2,1} & S_{2,2} & \\cdots & S_{2,N} \\\\\n",
    "\\vdots  & \\vdots  & \\cdots & \\vdots  \\\\\n",
    "S_{M,1} & S_{M,2} & \\cdots & S_{M,N} \\\\\n",
    "\\end{pmatrix}\n",
    "$$\n",
    "\n",
    "- **Output:** $V$ (a number)\n",
    "\n",
    "<u> `Algorithm` </u>\n",
    "\n",
    "(1) **Use one command** to create an $M$-element vector, $x=(x_1, x_2 , \\ldots, x_M)$. Initialize this vector as a constant vector with every element equal to $N$.\n",
    "\n",
    "(2) **Use one command** to create an $M$-by-$N$ matrix, $IV$, as the following:\n",
    "\n",
    "$$\n",
    "IV=\n",
    "\\begin{pmatrix}\n",
    "IV_{1,1} & IV_{1,2} & \\cdots & IV_{1,N} \\\\\n",
    "IV_{2,1} & IV_{2,2} & \\cdots & IV_{2,N} \\\\\n",
    "\\vdots   & \\vdots   & \\cdots & \\vdots  \\\\\n",
    "IV_{M,1} & IV_{M,2} & \\cdots & IV_{M,N} \\\\\n",
    "\\end{pmatrix}\n",
    "$$\n",
    "\n",
    "\n",
    "where $IV_{i,j}=\\max(K-S_{i,j}, 0)$, for $i=1, 2, \\ldots, M$, $j=1, 2, \\ldots, N$.\n",
    "\n",
    "(3) Repeat (3.1)-(3.4) for $j=N-1, N-2, \\ldots, 2$.\n",
    "\n",
    "&nbsp;&nbsp;&nbsp;&nbsp;&nbsp;(3.1) Let $idx$ denote the set of row numbers in the $j$-th column of $S$:\n",
    "\n",
    "$$\n",
    "idx=\\{i:IV_{i,j}>0,i \\in \\{1,2,\\ldots,M\\}\\}\n",
    "$$\n",
    "\n",
    "&nbsp;&nbsp;&nbsp;&nbsp;&nbsp;&nbsp;&nbsp;&nbsp;&nbsp;&nbsp;&nbsp;&nbsp;&nbsp;&nbsp;We denote the corresponding set of values in the $j$-th column of matrix $IV$ as $IV_{idx,j}$.\n",
    "\n",
    "    \n",
    "&nbsp;&nbsp;&nbsp;&nbsp;&nbsp;(3.2) Let $X$ be the set of values in the $j$-th column of $S$: \n",
    "$X=\\{S_{i,j}: i \\in idx\\}$. Let $Y$ be the corresponding values in $IV$: \n",
    "$Y=\\{IV_{i,x_i} e^{-(r)(x_i-j)(\\Delta t)}: i \\in idx\\}$.\n",
    "    \n",
    "&nbsp;&nbsp;&nbsp;&nbsp;&nbsp;(3.3) Regress $Y$ on a constant, $X$ and $X^2$, (i.e. a degree-2 polynomial regression), \n",
    "we denote the result as: $P_2 (x)=a_2 x^2+a_1 x+a_0$. \n",
    "    \n",
    "&nbsp;&nbsp;&nbsp;&nbsp;&nbsp;(3.4) For $i\\in idx$, if $IV_{i,j} \\gt P_2 (S_{i,j})$, let $x_i=j$.\n",
    "    \n",
    "(4) **Use one command** to calculate and return the value $V$: \n",
    "\n",
    "$$\n",
    "V=\\frac{1}{M}\\sum_{i=1}^{M} IV_{i,x_i}e^{-(r)(x_i)(\\Delta t)}\n",
    "$$"
   ]
  },
  {
   "cell_type": "code",
   "execution_count": 9,
   "metadata": {},
   "outputs": [],
   "source": [
    "#(0)\n",
    "%reset -f\n",
    "import numpy as np\n",
    "def myLSMput(K, r, dt, S): #Input: K, r, dt, S\n",
    "    M,N=S.shape\n",
    "    #(1)\n",
    "    x=(np.ones(M)*N).astype(int)\n",
    "    #(2)\n",
    "    IV=np.maximum(K-S,0)\n",
    "    #(3)\n",
    "    for j in range(N-1, 2-1, -1):\n",
    "        #(3.1)\n",
    "        idx=np.arange(1,M+1)[IV[:,j-1]>0] #np.arange(int, int) -> int type\n",
    "        #(3.2)\n",
    "        X=S[idx-1, j-1]\n",
    "        Y=IV[idx-1,x[idx-1]-1]*np.exp(-r*(x[idx-1]-j)*dt)\n",
    "        #(3.3)\n",
    "        P=np.polyfit(X,Y,2)\n",
    "        #(3.4)\n",
    "        for i in idx:\n",
    "            if IV[i-1,j-1]>np.polyval(P,S[i-1,j-1]):\n",
    "                x[i-1]=j\n",
    "    #(4)\n",
    "    V=np.mean(IV[range(M),x-1]*np.exp(-r*(x-1)*dt))\n",
    "    return V  #Output: V"
   ]
  },
  {
   "cell_type": "code",
   "execution_count": 8,
   "metadata": {},
   "outputs": [
    {
     "data": {
      "text/plain": [
       "0.11443433004505696"
      ]
     },
     "execution_count": 8,
     "metadata": {},
     "output_type": "execute_result"
    }
   ],
   "source": [
    "K=1.1\n",
    "r=0.06\n",
    "dt=1\n",
    "S=np.array([[1,   1.09,   1.08,   1.34],\n",
    "            [1,   1.16,   1.26,   1.54],\n",
    "            [1,   1.22,   1.07,   1.03],\n",
    "            [1,   0.93,   0.97,   0.92],\n",
    "            [1,   1.11,   1.56,   1.52],\n",
    "            [1,   0.76,   0.77,   0.90],\n",
    "            [1,   0.92,   0.84,   1.01],\n",
    "            [1,   0.88,   1.22,   1.34]])\n",
    "myLSMput(K, r, dt, S)"
   ]
  },
  {
   "cell_type": "markdown",
   "metadata": {},
   "source": [
    "# Question 6\n",
    "***\n",
    "Write a Python function, `my_MCScall_stat`, to implement the following algorithm.\n",
    "***\n",
    "\n",
    "- **Input:** $S$ (a positive number), $K$ (a positive number), $r$ (a positive number), $T$ (a positive number), \n",
    "$\\sigma$ (a positive number) and $N$ (a positive even integer).\n",
    "\n",
    "- **Output:** $V$ (a number)\n",
    "\n",
    "<u> `Algorithm` </u>\n",
    "\n",
    "(1) **Use one command** to create a vector of $N/2$ random numbers with standard normal distribution, denoted as $d$: \n",
    "\n",
    "$$\n",
    "d=\\left( d_1, d_2, \\ldots, d_{N/2} \\right)\n",
    "$$\n",
    "\n",
    "(2) **Use one command** and the library function `numpy.concatenate` to create a vector of $N$ elements by \n",
    "using $d$ as the first half, and $-d$ as the second half. Name this vector as $p$.\n",
    "\n",
    "$$\n",
    "p=\\left(p_1, p_2, \\ldots, p_N \\right) \n",
    "= \\left(d_1, d_2, \\ldots, d_{N/2}, -d_1, -d_2, \\ldots, -d_{N/2} \\right)\n",
    "$$\n",
    "\n",
    "(3)\t**Use one command** to compute the mean and standard deviation of \n",
    "the $N$ numbers in the vector $p$, and denote them as $\\mu_p$ and $\\sigma_p$, respectively.\n",
    "    \n",
    "(4) **Use one command** to update every element in the vector $p$ as follows: \n",
    "\n",
    "$$\n",
    "p_i \\leftarrow \\frac{p_i-\\mu_p}{\\sigma_p} \\mbox{ for } i=1, 2, \\ldots, N.\n",
    "$$\n",
    "\n",
    "(5) **Use one command** to obtain the vector $Y=(Y_1, Y_2, \\ldots, Y_N)$ computed as follows:\n",
    "\n",
    "$$\n",
    "Y_i=S \\cdot e^{\\left( r- \\frac{\\sigma^2}{2} \\right) T+ \\sigma \\cdot \\sqrt{T} \\cdot p_i } \\mbox{ for } i=1, 2, \\ldots, N.\n",
    "$$\n",
    "\n",
    "(6) **Use one command** to obtain the vector $h=(h_1, h_2, \\ldots, h_N)$ computed as follows:\n",
    "\n",
    "$$\n",
    "h_i=\\max⁡(Y_i-K, 0) \\mbox{ for } i=1, 2, \\ldots, N.\n",
    "$$\n",
    "\n",
    "(7)\t**Use one command** to calculate and return $V$ as follows:\n",
    "\n",
    "$$\n",
    "V=\\frac{1}{N} e^{-r \\cdot T} \\sum_{i=1}^{N} h_i\n",
    "$$"
   ]
  },
  {
   "cell_type": "code",
   "execution_count": 8,
   "metadata": {},
   "outputs": [
    {
     "data": {
      "text/plain": [
       "10.02008283630408"
      ]
     },
     "execution_count": 8,
     "metadata": {},
     "output_type": "execute_result"
    }
   ],
   "source": [
    "%reset -f\n",
    "import numpy as np\n",
    "def my_MCScall_stat(S, K, r, T, sigma, N):\n",
    "    #(1)\n",
    "    d=np.random.standard_normal(N//2)\n",
    "    #(2)\n",
    "    p=np.concatenate((d, -d))\n",
    "    #(3)\n",
    "    mp, sp=p.mean(), p.std()\n",
    "    #(4)\n",
    "    p=(p-mp)/sp\n",
    "    #(5)\n",
    "    Y = S * np.exp((r - 0.5 * sigma ** 2) * T \n",
    "                 + sigma * np.sqrt(T) * p)\n",
    "    #(6)\n",
    "    h = np.maximum(Y - K, 0)\n",
    "    #(7)\n",
    "    V = np.exp(-r * T) * np.sum(h) / N\n",
    "    return V\n",
    "\n",
    "S = 100.\n",
    "K = 105.\n",
    "r = 0.05\n",
    "T = 1.0\n",
    "sigma = 0.25\n",
    "N = 50000\n",
    "my_MCScall_stat(S, K, r, T, sigma, N)"
   ]
  },
  {
   "cell_type": "markdown",
   "metadata": {},
   "source": [
    "# Question 7\n",
    "\n",
    "***\n",
    "Write a Python program according to the following instructions.\n",
    "***\n",
    "\n",
    "(1) **Use one command with** `pandas.read_csv` to load data from the CSV file `Q7.csv` to a DataFrame, using the \n",
    "**first column as the row labels** and the **first row as column names**. Name this DataFrame \n",
    "as `df1`.\n",
    "\n",
    "![title](img/Q7csv.png)\n",
    "\n",
    "(2) **Use one command** to find and `print` the number of rows and number of columns of the DataFrame `df1` as `10 rows, 5 columns`, if there are 10 rows and 5 columns.\n",
    "\n",
    "(3)\t**Use one command with** `pandas.DataFrame.drop` to drop those rows in `df1` which have a smaller value in column `C` than the value in column `D`.\n",
    "    \n",
    "(4) **Use one command** to add a column to the DataFrame `df1` and initialize the column’s values as consecutive integers starting from -5 (i.e., -5, -4, -3, …). Name this column as `G`.\n",
    "\n",
    "(5) **Use one command** to replace the column `D` of `df1` by its rolling mean of 3 using `pandas.DataFrame.rolling`. \n",
    "\n",
    "(6) **Use one command with** `pandas.DataFrame.eval` to update the **odd rows** in column `E` using **(column E)=(column C)+(column F)\\*(column B)**.\n",
    "\n",
    "(7) **Use one command with** `pandas.DataFrame.apply` to update the **even rows** of column `E` using elements in the same row: **(column E)=(column C)+(column F)-(column B)**.\n",
    "\n",
    "(8) **Use one command with** `pandas.DataFrame.where` to update `df1` by changing all negative numbers in the DataFrame to **twice** of their original values.\n",
    "\n",
    "(9) **Use one command with** `pandas.DataFrame.plot` to plot columns `B`, `E`, `F` and `G` in `df1`, respectively using **black solid line**, **blue dashed line**, **red dotted line** and **green dash-dot line**, followed by the command `plt.show()`.\n",
    "\n",
    "(10) Write the DataFrame `df1` to a CSV file, `Q7result.csv`."
   ]
  },
  {
   "cell_type": "code",
   "execution_count": 9,
   "metadata": {},
   "outputs": [
    {
     "name": "stdout",
     "output_type": "stream",
     "text": [
      "10 rows, 5 columns\n"
     ]
    },
    {
     "data": {
      "image/png": "[encoded data removed]",
      "text/plain": [
       "<matplotlib.figure.Figure at 0xbe189e8>"
      ]
     },
     "metadata": {},
     "output_type": "display_data"
    }
   ],
   "source": [
    "#(0)\n",
    "%reset -f\n",
    "import pandas as pd\n",
    "import numpy as np\n",
    "import matplotlib.pyplot as plt\n",
    "#(1)\n",
    "df1=pd.read_csv('Q7.csv', index_col=0)\n",
    "#(2)\n",
    "print(\"%d rows, %d columns\" % df1.shape)\n",
    "#(3)\n",
    "df1.drop(df1.index[df1.C>df1.D], inplace=True)\n",
    "#(4)\n",
    "df1['G']=range(-5,-5+df1.shape[0])\n",
    "#(5)\n",
    "df1['D']=df1[['D']].rolling(3).mean()\n",
    "#(6)\n",
    "df1.iloc[::2,:].eval('E=C-F*B', inplace=True)\n",
    "#(7)\n",
    "df1.loc[df1.index[1::2],'E']=df1.apply(\n",
    "    lambda row: row['C']+row['F']-row['B'], \n",
    "    axis=1)\n",
    "#(8)\n",
    "df1.where(df1>0, 2*df1, inplace=True)\n",
    "#(9)\n",
    "df1[['B','E','F','G']].plot(\n",
    "    style=['k-','b--','r:','g-.'])\n",
    "plt.show()\n",
    "#(10)\n",
    "df1.to_csv('Q7result.csv')"
   ]
  },
  {
   "cell_type": "code",
   "execution_count": null,
   "metadata": {},
   "outputs": [],
   "source": []
  }
 ],
 "metadata": {
  "kernelspec": {
   "display_name": "Python 3",
   "language": "python",
   "name": "python3"
  },
  "language_info": {
   "codemirror_mode": {
    "name": "ipython",
    "version": 3
   },
   "file_extension": ".py",
   "mimetype": "text/x-python",
   "name": "python",
   "nbconvert_exporter": "python",
   "pygments_lexer": "ipython3",
   "version": "3.6.5"
  }
 },
 "nbformat": 4,
 "nbformat_minor": 2
}
